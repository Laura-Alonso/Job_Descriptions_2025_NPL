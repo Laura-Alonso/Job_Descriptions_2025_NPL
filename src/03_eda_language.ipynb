{
 "cells": [
  {
   "cell_type": "markdown",
   "id": "6ed390fe",
   "metadata": {},
   "source": [
    "# Exploratory linguistic analysis\n",
    "\n",
    "inguistic & Lexical Analysis | POS tagging, n-grams, vocabulario característico por rol. | WordClouds, histograms |"
   ]
  }
 ],
 "metadata": {
  "language_info": {
   "name": "python"
  }
 },
 "nbformat": 4,
 "nbformat_minor": 5
}
