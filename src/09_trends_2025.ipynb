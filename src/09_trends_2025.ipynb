{
 "cells": [
  {
   "cell_type": "markdown",
   "id": "5bf8f335",
   "metadata": {},
   "source": [
    "# Emerging skill/trend analysis"
   ]
  }
 ],
 "metadata": {
  "language_info": {
   "name": "python"
  }
 },
 "nbformat": 4,
 "nbformat_minor": 5
}
