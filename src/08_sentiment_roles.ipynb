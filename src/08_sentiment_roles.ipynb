{
 "cells": [
  {
   "cell_type": "markdown",
   "id": "5fc6c145",
   "metadata": {},
   "source": [
    "# Sentiment & tone analysis"
   ]
  }
 ],
 "metadata": {
  "language_info": {
   "name": "python"
  }
 },
 "nbformat": 4,
 "nbformat_minor": 5
}
