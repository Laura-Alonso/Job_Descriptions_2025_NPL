{
 "cells": [
  {
   "cell_type": "markdown",
   "id": "64beb201",
   "metadata": {},
   "source": [
    "# Word2Vec / BERT embeddings"
   ]
  }
 ],
 "metadata": {
  "language_info": {
   "name": "python"
  }
 },
 "nbformat": 4,
 "nbformat_minor": 5
}
