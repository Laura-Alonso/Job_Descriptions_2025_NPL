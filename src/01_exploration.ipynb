{
 "cells": [
  {
   "cell_type": "markdown",
   "id": "0c396d78",
   "metadata": {},
   "source": [
    "# Initial data exploration and structure\n",
    "\n",
    "The purpose of this notebook is to explore and understand the structure and content of the Job Descriptions 2025 dataset.\n",
    "\n",
    "**Main points**\n",
    "\n",
    "* Assess the quality and completeness of the dataset.\n",
    "* Examine the distribution of job categories (Tech vs. Non-Tech).\n",
    "* Analyze the overall characteristics of the job descriptions, such as text length, vocabulary diversity, and common terms.\n",
    "* Identify potential issues or insights that will guide the next steps in text preprocessing and NLP modeling."
   ]
  },
  {
   "cell_type": "markdown",
   "id": "d9791237",
   "metadata": {},
   "source": [
    "# ⚙️ Configuration"
   ]
  },
  {
   "cell_type": "code",
   "execution_count": 1,
   "id": "c66bfb4e",
   "metadata": {},
   "outputs": [
    {
     "name": "stderr",
     "output_type": "stream",
     "text": [
      "c:\\Users\\arual\\Desktop\\projects\\Job_Descriptions_2025_NPL\\envjob\\Lib\\site-packages\\tqdm\\auto.py:21: TqdmWarning: IProgress not found. Please update jupyter and ipywidgets. See https://ipywidgets.readthedocs.io/en/stable/user_install.html\n",
      "  from .autonotebook import tqdm as notebook_tqdm\n"
     ]
    }
   ],
   "source": [
    "import kagglehub\n",
    "import pandas as pd\n",
    "import os\n",
    "import matplotlib.pyplot as plt\n",
    "import seaborn as sns\n",
    "import numpy as np\n",
    "import re\n",
    "import spacy"
   ]
  },
  {
   "cell_type": "markdown",
   "id": "5df5e6de",
   "metadata": {},
   "source": [
    "# ♻️ Import data\n",
    "\n",
    "The information is stored in a json file. We download the files and open the json one."
   ]
  },
  {
   "cell_type": "code",
   "execution_count": 2,
   "id": "9e98d709",
   "metadata": {},
   "outputs": [],
   "source": [
    "# Download data from Kaggle\n",
    "path = kagglehub.dataset_download(\"adityarajsrv/job-descriptions-2025-tech-and-non-tech-roles\")\n",
    "\n",
    "# Save in this repository\n",
    "df_raw = pd.read_json(os.path.join(path, \"job_dataset.json\"))"
   ]
  },
  {
   "cell_type": "code",
   "execution_count": 3,
   "id": "0f9bb280",
   "metadata": {},
   "outputs": [
    {
     "data": {
      "application/vnd.microsoft.datawrangler.viewer.v0+json": {
       "columns": [
        {
         "name": "index",
         "rawType": "int64",
         "type": "integer"
        },
        {
         "name": "JobID",
         "rawType": "object",
         "type": "string"
        },
        {
         "name": "Title",
         "rawType": "object",
         "type": "string"
        },
        {
         "name": "ExperienceLevel",
         "rawType": "object",
         "type": "string"
        },
        {
         "name": "YearsOfExperience",
         "rawType": "object",
         "type": "string"
        },
        {
         "name": "Skills",
         "rawType": "object",
         "type": "unknown"
        },
        {
         "name": "Responsibilities",
         "rawType": "object",
         "type": "unknown"
        },
        {
         "name": "Keywords",
         "rawType": "object",
         "type": "unknown"
        }
       ],
       "ref": "eae24a56-1a92-4bb1-b431-2b9d078e9008",
       "rows": [
        [
         "0",
         "NET-F-001",
         ".NET Developer",
         "Fresher",
         "0-1",
         "['C#', 'VB.NET basics', '.NET Framework', '.NET Core fundamentals', 'ASP.NET', 'MVC', 'HTML', 'CSS', 'JavaScript basics', 'SQL Server', 'Entity Framework basics', 'LINQ', 'Visual Studio', 'Git', 'Unit Testing basics']",
         "['Assist in coding and debugging applications', 'Learn and apply .NET Framework and Core fundamentals', 'Support team in building ASP.NET MVC web applications', 'Write basic SQL queries and work with Entity Framework', 'Collaborate with peers to solve issues', 'Participate in code reviews for learning', 'Follow best practices in coding', 'Work with version control (Git)']",
         "['.NET', 'C#', 'ASP.NET MVC', 'Entity Framework', 'SQL Server', 'LINQ', 'Visual Studio', 'Unit Testing']"
        ],
        [
         "1",
         "NET-F-002",
         ".NET Developer",
         "Fresher",
         "0-1",
         "['C#', '.NET Framework basics', 'ASP.NET', 'Razor', 'HTML', 'CSS', 'JavaScript basics', 'SQL Server', 'Entity Framework basics', 'NUnit basics']",
         "['Write simple C# programs under guidance', 'Support development of ASP.NET MVC applications', 'Implement Razor views and front-end logic', 'Assist in database query writing', 'Participate in unit testing tasks', 'Learn and apply LINQ for data operations', 'Work with mentors for code corrections']",
         "['.NET', 'C#', 'ASP.NET MVC', 'Entity Framework', 'SQL Server', 'Razor', 'Unit Testing']"
        ],
        [
         "2",
         "NET-F-003",
         ".NET Developer",
         "Fresher",
         "0-1",
         "['C#', 'VB.NET basics', '.NET Core', 'ASP.NET MVC', 'HTML', 'CSS', 'JavaScript basics', 'SQL Server', 'Git']",
         "['Contribute to development of small modules', 'Assist in bug fixing and debugging', 'Learn and implement MVC patterns', 'Support database integration tasks', 'Understand version control basics', 'Work on minor testing scripts', 'Follow coding standards']",
         "['.NET', 'C#', 'ASP.NET MVC', 'SQL Server', 'Entity Framework', 'Git']"
        ],
        [
         "3",
         "NET-F-004",
         ".NET Developer",
         "Fresher",
         "0-1",
         "['C#', '.NET Framework', 'ASP.NET basics', 'SQL Server', 'HTML', 'CSS', 'LINQ', 'Visual Studio']",
         "['Support in software design documentation', 'Assist senior developers in testing', 'Create small UI components', 'Debug and test applications', 'Implement basic LINQ queries', 'Participate in code maintenance']",
         "['.NET', 'C#', 'SQL Server', 'Entity Framework', 'ASP.NET']"
        ],
        [
         "4",
         "NET-F-005",
         ".NET Developer",
         "Fresher",
         "0-1",
         "['C#', 'ASP.NET', 'MVC', 'Entity Framework basics', 'SQL Server', 'HTML', 'CSS', 'JavaScript basics']",
         "['Learn to design and build ASP.NET applications', 'Assist in connecting apps to SQL Server', 'Work on UI development', 'Participate in daily standups', 'Write small unit test cases']",
         "['.NET', 'C#', 'ASP.NET MVC', 'Entity Framework', 'SQL Server']"
        ],
        [
         "5",
         "NET-F-006",
         ".NET Developer",
         "Fresher",
         "0-1",
         "['C#', '.NET Framework', 'ASP.NET', 'Razor', 'SQL Server', 'Git', 'NUnit basics']",
         "['Assist in Razor page development', 'Learn version control processes', 'Perform debugging under supervision', 'Support data access layer coding', 'Contribute to testing efforts']",
         "['.NET', 'C#', 'ASP.NET', 'Razor', 'SQL Server', 'Unit Testing']"
        ],
        [
         "6",
         "NET-F-007",
         ".NET Developer",
         "Fresher",
         "0-1",
         "['C#', 'VB.NET', '.NET Core basics', 'ASP.NET MVC', 'HTML', 'CSS', 'SQL Server', 'Visual Studio']",
         "['Support team in MVC project development', 'Help in resolving minor bugs', 'Write basic SQL queries', 'Collaborate with developers for tasks', 'Participate in project discussions']",
         "['.NET', 'C#', 'ASP.NET MVC', 'SQL Server']"
        ],
        [
         "7",
         "NET-F-008",
         ".NET Developer",
         "Fresher",
         "0-1",
         "['C#', '.NET Framework basics', 'ASP.NET MVC', 'Entity Framework basics', 'SQL Server', 'LINQ']",
         "['Assist in building backend modules', 'Learn and apply Entity Framework', 'Help in writing LINQ queries', 'Support bug fixing', 'Write basic documentation']",
         "['.NET', 'C#', 'ASP.NET MVC', 'Entity Framework', 'LINQ', 'SQL Server']"
        ],
        [
         "8",
         "NET-F-009",
         ".NET Developer",
         "Fresher",
         "0-1",
         "['C#', '.NET Framework', 'ASP.NET', 'HTML', 'CSS', 'SQL Server']",
         "['Write simple ASP.NET pages', 'Collaborate with design team', 'Assist in database operations', 'Perform code reviews with seniors', 'Learn about MVC patterns']",
         "['.NET', 'C#', 'ASP.NET', 'SQL Server']"
        ],
        [
         "9",
         "NET-F-010",
         ".NET Developer",
         "Fresher",
         "0-1",
         "['C#', 'ASP.NET MVC', '.NET Core basics', 'Entity Framework basics', 'SQL Server', 'Git']",
         "['Support new feature development', 'Assist with application configuration', 'Help in database schema setup', 'Perform small unit testing tasks', 'Follow agile methodology basics']",
         "['.NET', 'C#', 'ASP.NET MVC', 'Entity Framework', 'SQL Server', 'Git']"
        ],
        [
         "10",
         "NET-E-011",
         ".NET Developer",
         "Experienced",
         "3+",
         "['C#', '.NET Core', 'ASP.NET MVC', 'SQL Server', 'Entity Framework', 'REST APIs', 'Docker', 'Azure']",
         "['Design and develop advanced .NET applications', 'Implement microservices with ASP.NET Core', 'Manage SQL Server database performance', 'Develop REST APIs', 'Deploy applications using Docker', 'Integrate with Azure cloud services']",
         "['.NET Core', 'C#', 'ASP.NET MVC', 'Microservices', 'Azure', 'Entity Framework', 'REST APIs', 'Docker']"
        ],
        [
         "11",
         "NET-E-012",
         ".NET Developer",
         "Experienced",
         "4+",
         "['C#', 'ASP.NET Core', 'SQL Server', 'Entity Framework', 'Design Patterns', 'SOLID Principles', 'Azure DevOps']",
         "['Architect scalable .NET Core solutions', 'Implement design patterns in projects', 'Lead database optimization efforts', 'Manage CI/CD pipelines with Azure DevOps', 'Collaborate with cross-functional teams']",
         "['.NET Core', 'C#', 'ASP.NET MVC', 'SOLID', 'Azure DevOps', 'Entity Framework']"
        ],
        [
         "12",
         "NET-E-013",
         ".NET Developer",
         "Experienced",
         "5+",
         "['C#', 'F#', '.NET Core', 'ASP.NET MVC', 'Microservices', 'Docker', 'Kubernetes', 'Azure']",
         "['Develop microservices architecture', 'Work with Docker and Kubernetes for deployment', 'Integrate with Azure services', 'Lead junior developers', 'Optimize application performance']",
         "['.NET Core', 'C#', 'Microservices', 'Docker', 'Kubernetes', 'Azure']"
        ],
        [
         "13",
         "NET-E-014",
         ".NET Developer",
         "Experienced",
         "3+",
         "['C#', 'ASP.NET Core', 'WebAPI', 'SignalR', 'SQL Server', 'NoSQL', 'Entity Framework']",
         "['Develop RESTful APIs and real-time apps', 'Implement SignalR for live communication', 'Work with SQL Server and NoSQL databases', 'Lead module development', 'Ensure application scalability']",
         "['.NET Core', 'C#', 'ASP.NET MVC', 'WebAPI', 'SignalR', 'Entity Framework']"
        ],
        [
         "14",
         "NET-E-015",
         ".NET Developer",
         "Experienced",
         "5+",
         "['C#', '.NET Core', 'ASP.NET MVC', 'Blazor', 'Angular', 'SQL Server', 'Dapper']",
         "['Develop front-end with Blazor/Angular', 'Implement repository pattern with Dapper', 'Optimize SQL Server queries', 'Enhance UI/UX for applications', 'Mentor junior team members']",
         "['.NET Core', 'C#', 'ASP.NET MVC', 'Blazor', 'Angular', 'SQL Server', 'Dapper']"
        ],
        [
         "15",
         "NET-E-016",
         ".NET Developer",
         "Experienced",
         "4+",
         "['C#', '.NET Core', 'ASP.NET MVC', 'REST APIs', 'Docker', 'Azure DevOps', 'Testing with NUnit']",
         "['Develop and maintain microservices', 'Create CI/CD pipelines', 'Ensure testing coverage with NUnit', 'Deploy apps with Docker', 'Collaborate with QA team']",
         "['.NET Core', 'C#', 'ASP.NET MVC', 'REST APIs', 'Docker', 'Azure DevOps', 'NUnit']"
        ],
        [
         "16",
         "NET-E-017",
         ".NET Developer",
         "Experienced",
         "3+",
         "['C#', 'ASP.NET Core', 'WebAPI', 'gRPC', 'SQL Server', 'Azure']",
         "['Build RESTful and gRPC APIs', 'Integrate services with Azure', 'Design database schemas', 'Monitor system performance', 'Provide technical leadership']",
         "['.NET Core', 'C#', 'WebAPI', 'gRPC', 'SQL Server', 'Azure']"
        ],
        [
         "17",
         "NET-E-018",
         ".NET Developer",
         "Experienced",
         "5+",
         "['C#', 'ASP.NET Core', 'Microservices', 'Kubernetes', 'Entity Framework', 'Azure', 'SOLID Principles']",
         "['Design and manage microservices architecture', 'Deploy apps on Kubernetes clusters', 'Ensure best practices with SOLID principles', 'Lead development sprints', 'Coordinate with product teams']",
         "['.NET Core', 'C#', 'Microservices', 'Kubernetes', 'Entity Framework', 'Azure', 'SOLID']"
        ],
        [
         "18",
         "NET-E-019",
         ".NET Developer",
         "Experienced",
         "4+",
         "['C#', '.NET Core', 'ASP.NET MVC', 'Testing with xUnit', 'Moq', 'Azure']",
         "['Implement automated unit tests', 'Use Moq for dependency testing', 'Develop scalable apps in .NET Core', 'Lead code review sessions', 'Optimize app performance']",
         "['.NET Core', 'C#', 'ASP.NET MVC', 'xUnit', 'Moq', 'Azure']"
        ],
        [
         "19",
         "NET-E-020",
         ".NET Developer",
         "Experienced",
         "5+",
         "['C#', '.NET Core', 'ASP.NET MVC', 'CI/CD', 'Azure DevOps', 'Docker', 'Kubernetes', 'REST APIs']",
         "['Lead CI/CD setup in Azure DevOps', 'Deploy services with Docker/Kubernetes', 'Architect scalable .NET applications', 'Coordinate with cross-functional teams', 'Mentor juniors']",
         "['.NET Core', 'C#', 'ASP.NET MVC', 'CI/CD', 'Azure DevOps', 'Docker', 'Kubernetes', 'REST APIs']"
        ]
       ],
       "shape": {
        "columns": 7,
        "rows": 20
       }
      },
      "text/html": [
       "<div>\n",
       "<style scoped>\n",
       "    .dataframe tbody tr th:only-of-type {\n",
       "        vertical-align: middle;\n",
       "    }\n",
       "\n",
       "    .dataframe tbody tr th {\n",
       "        vertical-align: top;\n",
       "    }\n",
       "\n",
       "    .dataframe thead th {\n",
       "        text-align: right;\n",
       "    }\n",
       "</style>\n",
       "<table border=\"1\" class=\"dataframe\">\n",
       "  <thead>\n",
       "    <tr style=\"text-align: right;\">\n",
       "      <th></th>\n",
       "      <th>JobID</th>\n",
       "      <th>Title</th>\n",
       "      <th>ExperienceLevel</th>\n",
       "      <th>YearsOfExperience</th>\n",
       "      <th>Skills</th>\n",
       "      <th>Responsibilities</th>\n",
       "      <th>Keywords</th>\n",
       "    </tr>\n",
       "  </thead>\n",
       "  <tbody>\n",
       "    <tr>\n",
       "      <th>0</th>\n",
       "      <td>NET-F-001</td>\n",
       "      <td>.NET Developer</td>\n",
       "      <td>Fresher</td>\n",
       "      <td>0-1</td>\n",
       "      <td>[C#, VB.NET basics, .NET Framework, .NET Core ...</td>\n",
       "      <td>[Assist in coding and debugging applications, ...</td>\n",
       "      <td>[.NET, C#, ASP.NET MVC, Entity Framework, SQL ...</td>\n",
       "    </tr>\n",
       "    <tr>\n",
       "      <th>1</th>\n",
       "      <td>NET-F-002</td>\n",
       "      <td>.NET Developer</td>\n",
       "      <td>Fresher</td>\n",
       "      <td>0-1</td>\n",
       "      <td>[C#, .NET Framework basics, ASP.NET, Razor, HT...</td>\n",
       "      <td>[Write simple C# programs under guidance, Supp...</td>\n",
       "      <td>[.NET, C#, ASP.NET MVC, Entity Framework, SQL ...</td>\n",
       "    </tr>\n",
       "    <tr>\n",
       "      <th>2</th>\n",
       "      <td>NET-F-003</td>\n",
       "      <td>.NET Developer</td>\n",
       "      <td>Fresher</td>\n",
       "      <td>0-1</td>\n",
       "      <td>[C#, VB.NET basics, .NET Core, ASP.NET MVC, HT...</td>\n",
       "      <td>[Contribute to development of small modules, A...</td>\n",
       "      <td>[.NET, C#, ASP.NET MVC, SQL Server, Entity Fra...</td>\n",
       "    </tr>\n",
       "    <tr>\n",
       "      <th>3</th>\n",
       "      <td>NET-F-004</td>\n",
       "      <td>.NET Developer</td>\n",
       "      <td>Fresher</td>\n",
       "      <td>0-1</td>\n",
       "      <td>[C#, .NET Framework, ASP.NET basics, SQL Serve...</td>\n",
       "      <td>[Support in software design documentation, Ass...</td>\n",
       "      <td>[.NET, C#, SQL Server, Entity Framework, ASP.NET]</td>\n",
       "    </tr>\n",
       "    <tr>\n",
       "      <th>4</th>\n",
       "      <td>NET-F-005</td>\n",
       "      <td>.NET Developer</td>\n",
       "      <td>Fresher</td>\n",
       "      <td>0-1</td>\n",
       "      <td>[C#, ASP.NET, MVC, Entity Framework basics, SQ...</td>\n",
       "      <td>[Learn to design and build ASP.NET application...</td>\n",
       "      <td>[.NET, C#, ASP.NET MVC, Entity Framework, SQL ...</td>\n",
       "    </tr>\n",
       "    <tr>\n",
       "      <th>5</th>\n",
       "      <td>NET-F-006</td>\n",
       "      <td>.NET Developer</td>\n",
       "      <td>Fresher</td>\n",
       "      <td>0-1</td>\n",
       "      <td>[C#, .NET Framework, ASP.NET, Razor, SQL Serve...</td>\n",
       "      <td>[Assist in Razor page development, Learn versi...</td>\n",
       "      <td>[.NET, C#, ASP.NET, Razor, SQL Server, Unit Te...</td>\n",
       "    </tr>\n",
       "    <tr>\n",
       "      <th>6</th>\n",
       "      <td>NET-F-007</td>\n",
       "      <td>.NET Developer</td>\n",
       "      <td>Fresher</td>\n",
       "      <td>0-1</td>\n",
       "      <td>[C#, VB.NET, .NET Core basics, ASP.NET MVC, HT...</td>\n",
       "      <td>[Support team in MVC project development, Help...</td>\n",
       "      <td>[.NET, C#, ASP.NET MVC, SQL Server]</td>\n",
       "    </tr>\n",
       "    <tr>\n",
       "      <th>7</th>\n",
       "      <td>NET-F-008</td>\n",
       "      <td>.NET Developer</td>\n",
       "      <td>Fresher</td>\n",
       "      <td>0-1</td>\n",
       "      <td>[C#, .NET Framework basics, ASP.NET MVC, Entit...</td>\n",
       "      <td>[Assist in building backend modules, Learn and...</td>\n",
       "      <td>[.NET, C#, ASP.NET MVC, Entity Framework, LINQ...</td>\n",
       "    </tr>\n",
       "    <tr>\n",
       "      <th>8</th>\n",
       "      <td>NET-F-009</td>\n",
       "      <td>.NET Developer</td>\n",
       "      <td>Fresher</td>\n",
       "      <td>0-1</td>\n",
       "      <td>[C#, .NET Framework, ASP.NET, HTML, CSS, SQL S...</td>\n",
       "      <td>[Write simple ASP.NET pages, Collaborate with ...</td>\n",
       "      <td>[.NET, C#, ASP.NET, SQL Server]</td>\n",
       "    </tr>\n",
       "    <tr>\n",
       "      <th>9</th>\n",
       "      <td>NET-F-010</td>\n",
       "      <td>.NET Developer</td>\n",
       "      <td>Fresher</td>\n",
       "      <td>0-1</td>\n",
       "      <td>[C#, ASP.NET MVC, .NET Core basics, Entity Fra...</td>\n",
       "      <td>[Support new feature development, Assist with ...</td>\n",
       "      <td>[.NET, C#, ASP.NET MVC, Entity Framework, SQL ...</td>\n",
       "    </tr>\n",
       "    <tr>\n",
       "      <th>10</th>\n",
       "      <td>NET-E-011</td>\n",
       "      <td>.NET Developer</td>\n",
       "      <td>Experienced</td>\n",
       "      <td>3+</td>\n",
       "      <td>[C#, .NET Core, ASP.NET MVC, SQL Server, Entit...</td>\n",
       "      <td>[Design and develop advanced .NET applications...</td>\n",
       "      <td>[.NET Core, C#, ASP.NET MVC, Microservices, Az...</td>\n",
       "    </tr>\n",
       "    <tr>\n",
       "      <th>11</th>\n",
       "      <td>NET-E-012</td>\n",
       "      <td>.NET Developer</td>\n",
       "      <td>Experienced</td>\n",
       "      <td>4+</td>\n",
       "      <td>[C#, ASP.NET Core, SQL Server, Entity Framewor...</td>\n",
       "      <td>[Architect scalable .NET Core solutions, Imple...</td>\n",
       "      <td>[.NET Core, C#, ASP.NET MVC, SOLID, Azure DevO...</td>\n",
       "    </tr>\n",
       "    <tr>\n",
       "      <th>12</th>\n",
       "      <td>NET-E-013</td>\n",
       "      <td>.NET Developer</td>\n",
       "      <td>Experienced</td>\n",
       "      <td>5+</td>\n",
       "      <td>[C#, F#, .NET Core, ASP.NET MVC, Microservices...</td>\n",
       "      <td>[Develop microservices architecture, Work with...</td>\n",
       "      <td>[.NET Core, C#, Microservices, Docker, Kuberne...</td>\n",
       "    </tr>\n",
       "    <tr>\n",
       "      <th>13</th>\n",
       "      <td>NET-E-014</td>\n",
       "      <td>.NET Developer</td>\n",
       "      <td>Experienced</td>\n",
       "      <td>3+</td>\n",
       "      <td>[C#, ASP.NET Core, WebAPI, SignalR, SQL Server...</td>\n",
       "      <td>[Develop RESTful APIs and real-time apps, Impl...</td>\n",
       "      <td>[.NET Core, C#, ASP.NET MVC, WebAPI, SignalR, ...</td>\n",
       "    </tr>\n",
       "    <tr>\n",
       "      <th>14</th>\n",
       "      <td>NET-E-015</td>\n",
       "      <td>.NET Developer</td>\n",
       "      <td>Experienced</td>\n",
       "      <td>5+</td>\n",
       "      <td>[C#, .NET Core, ASP.NET MVC, Blazor, Angular, ...</td>\n",
       "      <td>[Develop front-end with Blazor/Angular, Implem...</td>\n",
       "      <td>[.NET Core, C#, ASP.NET MVC, Blazor, Angular, ...</td>\n",
       "    </tr>\n",
       "    <tr>\n",
       "      <th>15</th>\n",
       "      <td>NET-E-016</td>\n",
       "      <td>.NET Developer</td>\n",
       "      <td>Experienced</td>\n",
       "      <td>4+</td>\n",
       "      <td>[C#, .NET Core, ASP.NET MVC, REST APIs, Docker...</td>\n",
       "      <td>[Develop and maintain microservices, Create CI...</td>\n",
       "      <td>[.NET Core, C#, ASP.NET MVC, REST APIs, Docker...</td>\n",
       "    </tr>\n",
       "    <tr>\n",
       "      <th>16</th>\n",
       "      <td>NET-E-017</td>\n",
       "      <td>.NET Developer</td>\n",
       "      <td>Experienced</td>\n",
       "      <td>3+</td>\n",
       "      <td>[C#, ASP.NET Core, WebAPI, gRPC, SQL Server, A...</td>\n",
       "      <td>[Build RESTful and gRPC APIs, Integrate servic...</td>\n",
       "      <td>[.NET Core, C#, WebAPI, gRPC, SQL Server, Azure]</td>\n",
       "    </tr>\n",
       "    <tr>\n",
       "      <th>17</th>\n",
       "      <td>NET-E-018</td>\n",
       "      <td>.NET Developer</td>\n",
       "      <td>Experienced</td>\n",
       "      <td>5+</td>\n",
       "      <td>[C#, ASP.NET Core, Microservices, Kubernetes, ...</td>\n",
       "      <td>[Design and manage microservices architecture,...</td>\n",
       "      <td>[.NET Core, C#, Microservices, Kubernetes, Ent...</td>\n",
       "    </tr>\n",
       "    <tr>\n",
       "      <th>18</th>\n",
       "      <td>NET-E-019</td>\n",
       "      <td>.NET Developer</td>\n",
       "      <td>Experienced</td>\n",
       "      <td>4+</td>\n",
       "      <td>[C#, .NET Core, ASP.NET MVC, Testing with xUni...</td>\n",
       "      <td>[Implement automated unit tests, Use Moq for d...</td>\n",
       "      <td>[.NET Core, C#, ASP.NET MVC, xUnit, Moq, Azure]</td>\n",
       "    </tr>\n",
       "    <tr>\n",
       "      <th>19</th>\n",
       "      <td>NET-E-020</td>\n",
       "      <td>.NET Developer</td>\n",
       "      <td>Experienced</td>\n",
       "      <td>5+</td>\n",
       "      <td>[C#, .NET Core, ASP.NET MVC, CI/CD, Azure DevO...</td>\n",
       "      <td>[Lead CI/CD setup in Azure DevOps, Deploy serv...</td>\n",
       "      <td>[.NET Core, C#, ASP.NET MVC, CI/CD, Azure DevO...</td>\n",
       "    </tr>\n",
       "  </tbody>\n",
       "</table>\n",
       "</div>"
      ],
      "text/plain": [
       "        JobID           Title ExperienceLevel YearsOfExperience  \\\n",
       "0   NET-F-001  .NET Developer         Fresher               0-1   \n",
       "1   NET-F-002  .NET Developer         Fresher               0-1   \n",
       "2   NET-F-003  .NET Developer         Fresher               0-1   \n",
       "3   NET-F-004  .NET Developer         Fresher               0-1   \n",
       "4   NET-F-005  .NET Developer         Fresher               0-1   \n",
       "5   NET-F-006  .NET Developer         Fresher               0-1   \n",
       "6   NET-F-007  .NET Developer         Fresher               0-1   \n",
       "7   NET-F-008  .NET Developer         Fresher               0-1   \n",
       "8   NET-F-009  .NET Developer         Fresher               0-1   \n",
       "9   NET-F-010  .NET Developer         Fresher               0-1   \n",
       "10  NET-E-011  .NET Developer     Experienced                3+   \n",
       "11  NET-E-012  .NET Developer     Experienced                4+   \n",
       "12  NET-E-013  .NET Developer     Experienced                5+   \n",
       "13  NET-E-014  .NET Developer     Experienced                3+   \n",
       "14  NET-E-015  .NET Developer     Experienced                5+   \n",
       "15  NET-E-016  .NET Developer     Experienced                4+   \n",
       "16  NET-E-017  .NET Developer     Experienced                3+   \n",
       "17  NET-E-018  .NET Developer     Experienced                5+   \n",
       "18  NET-E-019  .NET Developer     Experienced                4+   \n",
       "19  NET-E-020  .NET Developer     Experienced                5+   \n",
       "\n",
       "                                               Skills  \\\n",
       "0   [C#, VB.NET basics, .NET Framework, .NET Core ...   \n",
       "1   [C#, .NET Framework basics, ASP.NET, Razor, HT...   \n",
       "2   [C#, VB.NET basics, .NET Core, ASP.NET MVC, HT...   \n",
       "3   [C#, .NET Framework, ASP.NET basics, SQL Serve...   \n",
       "4   [C#, ASP.NET, MVC, Entity Framework basics, SQ...   \n",
       "5   [C#, .NET Framework, ASP.NET, Razor, SQL Serve...   \n",
       "6   [C#, VB.NET, .NET Core basics, ASP.NET MVC, HT...   \n",
       "7   [C#, .NET Framework basics, ASP.NET MVC, Entit...   \n",
       "8   [C#, .NET Framework, ASP.NET, HTML, CSS, SQL S...   \n",
       "9   [C#, ASP.NET MVC, .NET Core basics, Entity Fra...   \n",
       "10  [C#, .NET Core, ASP.NET MVC, SQL Server, Entit...   \n",
       "11  [C#, ASP.NET Core, SQL Server, Entity Framewor...   \n",
       "12  [C#, F#, .NET Core, ASP.NET MVC, Microservices...   \n",
       "13  [C#, ASP.NET Core, WebAPI, SignalR, SQL Server...   \n",
       "14  [C#, .NET Core, ASP.NET MVC, Blazor, Angular, ...   \n",
       "15  [C#, .NET Core, ASP.NET MVC, REST APIs, Docker...   \n",
       "16  [C#, ASP.NET Core, WebAPI, gRPC, SQL Server, A...   \n",
       "17  [C#, ASP.NET Core, Microservices, Kubernetes, ...   \n",
       "18  [C#, .NET Core, ASP.NET MVC, Testing with xUni...   \n",
       "19  [C#, .NET Core, ASP.NET MVC, CI/CD, Azure DevO...   \n",
       "\n",
       "                                     Responsibilities  \\\n",
       "0   [Assist in coding and debugging applications, ...   \n",
       "1   [Write simple C# programs under guidance, Supp...   \n",
       "2   [Contribute to development of small modules, A...   \n",
       "3   [Support in software design documentation, Ass...   \n",
       "4   [Learn to design and build ASP.NET application...   \n",
       "5   [Assist in Razor page development, Learn versi...   \n",
       "6   [Support team in MVC project development, Help...   \n",
       "7   [Assist in building backend modules, Learn and...   \n",
       "8   [Write simple ASP.NET pages, Collaborate with ...   \n",
       "9   [Support new feature development, Assist with ...   \n",
       "10  [Design and develop advanced .NET applications...   \n",
       "11  [Architect scalable .NET Core solutions, Imple...   \n",
       "12  [Develop microservices architecture, Work with...   \n",
       "13  [Develop RESTful APIs and real-time apps, Impl...   \n",
       "14  [Develop front-end with Blazor/Angular, Implem...   \n",
       "15  [Develop and maintain microservices, Create CI...   \n",
       "16  [Build RESTful and gRPC APIs, Integrate servic...   \n",
       "17  [Design and manage microservices architecture,...   \n",
       "18  [Implement automated unit tests, Use Moq for d...   \n",
       "19  [Lead CI/CD setup in Azure DevOps, Deploy serv...   \n",
       "\n",
       "                                             Keywords  \n",
       "0   [.NET, C#, ASP.NET MVC, Entity Framework, SQL ...  \n",
       "1   [.NET, C#, ASP.NET MVC, Entity Framework, SQL ...  \n",
       "2   [.NET, C#, ASP.NET MVC, SQL Server, Entity Fra...  \n",
       "3   [.NET, C#, SQL Server, Entity Framework, ASP.NET]  \n",
       "4   [.NET, C#, ASP.NET MVC, Entity Framework, SQL ...  \n",
       "5   [.NET, C#, ASP.NET, Razor, SQL Server, Unit Te...  \n",
       "6                 [.NET, C#, ASP.NET MVC, SQL Server]  \n",
       "7   [.NET, C#, ASP.NET MVC, Entity Framework, LINQ...  \n",
       "8                     [.NET, C#, ASP.NET, SQL Server]  \n",
       "9   [.NET, C#, ASP.NET MVC, Entity Framework, SQL ...  \n",
       "10  [.NET Core, C#, ASP.NET MVC, Microservices, Az...  \n",
       "11  [.NET Core, C#, ASP.NET MVC, SOLID, Azure DevO...  \n",
       "12  [.NET Core, C#, Microservices, Docker, Kuberne...  \n",
       "13  [.NET Core, C#, ASP.NET MVC, WebAPI, SignalR, ...  \n",
       "14  [.NET Core, C#, ASP.NET MVC, Blazor, Angular, ...  \n",
       "15  [.NET Core, C#, ASP.NET MVC, REST APIs, Docker...  \n",
       "16   [.NET Core, C#, WebAPI, gRPC, SQL Server, Azure]  \n",
       "17  [.NET Core, C#, Microservices, Kubernetes, Ent...  \n",
       "18    [.NET Core, C#, ASP.NET MVC, xUnit, Moq, Azure]  \n",
       "19  [.NET Core, C#, ASP.NET MVC, CI/CD, Azure DevO...  "
      ]
     },
     "execution_count": 3,
     "metadata": {},
     "output_type": "execute_result"
    }
   ],
   "source": [
    "df_raw.head(20)\n"
   ]
  },
  {
   "cell_type": "markdown",
   "id": "079e8476",
   "metadata": {},
   "source": [
    "# Cleaning function\n",
    "\n",
    "Most of the features are textual. Work with this kind of information requiers always a previous cleaning process. Before start with any analyse, we are going to create function to clean text. Preparing this first allows us to work more efficiently.\n",
    "\n",
    "This is a generic function. We will enrich it depending on the feature."
   ]
  },
  {
   "cell_type": "code",
   "execution_count": 4,
   "id": "0545ea3a",
   "metadata": {},
   "outputs": [],
   "source": [
    "# Load the model (medium size model)\n",
    "nlp = spacy.load(\"en_core_web_sm\") # python -m spacy download en_core_web_sm\n",
    "\n",
    "# Cleaning function\n",
    "def clean_text(text):\n",
    "    # Convert anything to string first\n",
    "    text = str(text).lower()\n",
    "    # Lowercase\n",
    "    text = text.lower()\n",
    "    # Replace slashes with space\n",
    "    text = text.replace(\"/\", \" \")    \n",
    "    # Remove unwanted special characters (keep + and #)\n",
    "    text = re.sub(r\"[^a-z+#\\s]\", \" \", text)\n",
    "    # Remove extra spaces\n",
    "    text = re.sub(r'\\s+', ' ', text).strip()\n",
    "    # Lemmatization\n",
    "    doc = nlp(text)\n",
    "    lemmatized_text = \" \".join([token.lemma_ for token in doc if not token.is_stop])\n",
    "    return lemmatized_text"
   ]
  },
  {
   "cell_type": "markdown",
   "id": "bf464663",
   "metadata": {},
   "source": [
    "# 🔍 Data Exploration (EDA)\n",
    "\n",
    "Now were are going to performe an EDA at table level. In the the fild `03_eda_language.ipynb` we will performe a more specific EDA, focus in the linguistic analyse."
   ]
  },
  {
   "cell_type": "markdown",
   "id": "ab95c4f1",
   "metadata": {},
   "source": [
    "## General information\n",
    "\n",
    "We will take a look in the data structure: shape, nulls, duplacated"
   ]
  },
  {
   "cell_type": "code",
   "execution_count": 5,
   "id": "10a9e348",
   "metadata": {},
   "outputs": [
    {
     "name": "stdout",
     "output_type": "stream",
     "text": [
      "Rows: 1,068 | Columns: 7\n"
     ]
    }
   ],
   "source": [
    "print(f\"Rows: {df_raw.shape[0]:,} | Columns: {df_raw.shape[1]}\")"
   ]
  },
  {
   "cell_type": "code",
   "execution_count": 6,
   "id": "fd9dc3a4",
   "metadata": {},
   "outputs": [
    {
     "data": {
      "application/vnd.microsoft.datawrangler.viewer.v0+json": {
       "columns": [
        {
         "name": "index",
         "rawType": "int64",
         "type": "integer"
        },
        {
         "name": "JobID",
         "rawType": "object",
         "type": "string"
        },
        {
         "name": "Title",
         "rawType": "object",
         "type": "string"
        },
        {
         "name": "ExperienceLevel",
         "rawType": "object",
         "type": "string"
        },
        {
         "name": "YearsOfExperience",
         "rawType": "object",
         "type": "string"
        },
        {
         "name": "Skills",
         "rawType": "object",
         "type": "unknown"
        },
        {
         "name": "Responsibilities",
         "rawType": "object",
         "type": "unknown"
        },
        {
         "name": "Keywords",
         "rawType": "object",
         "type": "unknown"
        }
       ],
       "ref": "45e3fedb-1542-4336-8898-3ffdf359382e",
       "rows": [
        [
         "457",
         "13",
         "Full Stack Developer - Experienced",
         "Experienced",
         "3–5 years",
         "['HTML5', 'CSS3', 'JavaScript', 'React', 'Angular', 'Vue.js', 'Node.js', 'Django', 'Flask', 'SQL', 'NoSQL', 'Git', 'RESTful API design', 'Docker', 'Kubernetes', 'CI/CD', 'Cloud Platforms', 'Web Security']",
         "['Develop and maintain full-stack applications for fintech and e-commerce', 'Implement frontend interfaces using React, Angular, or Vue.js', 'Build backend services with Node.js or Django', 'Optimize databases', 'Implement CI/CD pipelines', 'Ensure secure authentication', 'Mentor junior developers']",
         "['Full Stack Developer', 'Experienced', 'Mid-Level', 'Frontend', 'Backend', 'Fintech', 'E-commerce', 'Cloud']"
        ],
        [
         "347",
         "DS-F8",
         "Fresher Data Scientist",
         "Fresher",
         "0-1",
         "['Python', 'R', 'SQL', 'Pandas', 'NumPy', 'Matplotlib', 'Seaborn', 'MySQL', 'MongoDB', 'Basic ML: classification, regression, clustering']",
         "['Analyze small datasets to extract insights', 'Build simple predictive models', 'Create visualizations for reports', 'Collaborate with senior data scientists', 'Learn best practices for ML workflows']",
         "['Data Scientist', 'Python', 'R', 'SQL', 'Machine Learning', 'Data Visualization', 'Entry Level']"
        ],
        [
         "639",
         "NE009",
         "Network Intern",
         "Fresher",
         "0",
         "['DHCP', 'Subnetting', 'Cisco IOS', 'VPN Basics']",
         "['Assist senior engineers on projects', 'Help configure routers', 'Learn troubleshooting', 'Participate in training sessions']",
         "['Internship', 'Cisco IOS', 'Subnetting', 'DHCP']"
        ],
        [
         "833",
         "SRE-F-003",
         "Site Reliability Engineer",
         "Fresher",
         "0-1",
         "['Python basics', 'Bash scripting basics', 'Linux administration fundamentals', 'Windows OS basics', 'Introduction to cloud platforms', 'Containerization basics (Docker)', 'Kubernetes basics', 'Basic monitoring (Nagios, Grafana)', 'Networking fundamentals', 'Problem-solving', 'Collaboration', 'Communication', 'Adaptability']",
         "['Assist in setting up monitoring dashboards', 'Support CI/CD pipelines and automation scripts', 'Learn container orchestration with Kubernetes', 'Document incidents and processes', 'Work with senior SREs on troubleshooting tasks']",
         "['Python', 'Bash', 'Linux', 'Docker', 'Kubernetes', 'AWS', 'Monitoring', 'CI/CD', 'Networking', 'Automation']"
        ],
        [
         "437",
         "FE011",
         "Frontend Developer - Experienced",
         "Mid-Senior Level",
         "3–6 years",
         "['HTML5', 'CSS3', 'JavaScript (ES6+)', 'React/Redux', 'Angular', 'Vue.js', 'Performance optimization', 'Unit & E2E testing', 'Git', 'CI/CD']",
         "['Design and develop advanced frontend applications', 'Optimize performance and page speed', 'Implement testing automation', 'Ensure cross-browser compatibility', 'Mentor junior developers']",
         "['Frontend', 'Web Application Development', 'Mid-Senior', 'React', 'UI', 'SPA', 'PWA']"
        ]
       ],
       "shape": {
        "columns": 7,
        "rows": 5
       }
      },
      "text/html": [
       "<div>\n",
       "<style scoped>\n",
       "    .dataframe tbody tr th:only-of-type {\n",
       "        vertical-align: middle;\n",
       "    }\n",
       "\n",
       "    .dataframe tbody tr th {\n",
       "        vertical-align: top;\n",
       "    }\n",
       "\n",
       "    .dataframe thead th {\n",
       "        text-align: right;\n",
       "    }\n",
       "</style>\n",
       "<table border=\"1\" class=\"dataframe\">\n",
       "  <thead>\n",
       "    <tr style=\"text-align: right;\">\n",
       "      <th></th>\n",
       "      <th>JobID</th>\n",
       "      <th>Title</th>\n",
       "      <th>ExperienceLevel</th>\n",
       "      <th>YearsOfExperience</th>\n",
       "      <th>Skills</th>\n",
       "      <th>Responsibilities</th>\n",
       "      <th>Keywords</th>\n",
       "    </tr>\n",
       "  </thead>\n",
       "  <tbody>\n",
       "    <tr>\n",
       "      <th>457</th>\n",
       "      <td>13</td>\n",
       "      <td>Full Stack Developer - Experienced</td>\n",
       "      <td>Experienced</td>\n",
       "      <td>3–5 years</td>\n",
       "      <td>[HTML5, CSS3, JavaScript, React, Angular, Vue....</td>\n",
       "      <td>[Develop and maintain full-stack applications ...</td>\n",
       "      <td>[Full Stack Developer, Experienced, Mid-Level,...</td>\n",
       "    </tr>\n",
       "    <tr>\n",
       "      <th>347</th>\n",
       "      <td>DS-F8</td>\n",
       "      <td>Fresher Data Scientist</td>\n",
       "      <td>Fresher</td>\n",
       "      <td>0-1</td>\n",
       "      <td>[Python, R, SQL, Pandas, NumPy, Matplotlib, Se...</td>\n",
       "      <td>[Analyze small datasets to extract insights, B...</td>\n",
       "      <td>[Data Scientist, Python, R, SQL, Machine Learn...</td>\n",
       "    </tr>\n",
       "    <tr>\n",
       "      <th>639</th>\n",
       "      <td>NE009</td>\n",
       "      <td>Network Intern</td>\n",
       "      <td>Fresher</td>\n",
       "      <td>0</td>\n",
       "      <td>[DHCP, Subnetting, Cisco IOS, VPN Basics]</td>\n",
       "      <td>[Assist senior engineers on projects, Help con...</td>\n",
       "      <td>[Internship, Cisco IOS, Subnetting, DHCP]</td>\n",
       "    </tr>\n",
       "    <tr>\n",
       "      <th>833</th>\n",
       "      <td>SRE-F-003</td>\n",
       "      <td>Site Reliability Engineer</td>\n",
       "      <td>Fresher</td>\n",
       "      <td>0-1</td>\n",
       "      <td>[Python basics, Bash scripting basics, Linux a...</td>\n",
       "      <td>[Assist in setting up monitoring dashboards, S...</td>\n",
       "      <td>[Python, Bash, Linux, Docker, Kubernetes, AWS,...</td>\n",
       "    </tr>\n",
       "    <tr>\n",
       "      <th>437</th>\n",
       "      <td>FE011</td>\n",
       "      <td>Frontend Developer - Experienced</td>\n",
       "      <td>Mid-Senior Level</td>\n",
       "      <td>3–6 years</td>\n",
       "      <td>[HTML5, CSS3, JavaScript (ES6+), React/Redux, ...</td>\n",
       "      <td>[Design and develop advanced frontend applicat...</td>\n",
       "      <td>[Frontend, Web Application Development, Mid-Se...</td>\n",
       "    </tr>\n",
       "  </tbody>\n",
       "</table>\n",
       "</div>"
      ],
      "text/plain": [
       "         JobID                               Title   ExperienceLevel  \\\n",
       "457         13  Full Stack Developer - Experienced       Experienced   \n",
       "347      DS-F8              Fresher Data Scientist           Fresher   \n",
       "639      NE009                      Network Intern           Fresher   \n",
       "833  SRE-F-003           Site Reliability Engineer           Fresher   \n",
       "437      FE011    Frontend Developer - Experienced  Mid-Senior Level   \n",
       "\n",
       "    YearsOfExperience                                             Skills  \\\n",
       "457         3–5 years  [HTML5, CSS3, JavaScript, React, Angular, Vue....   \n",
       "347               0-1  [Python, R, SQL, Pandas, NumPy, Matplotlib, Se...   \n",
       "639                 0          [DHCP, Subnetting, Cisco IOS, VPN Basics]   \n",
       "833               0-1  [Python basics, Bash scripting basics, Linux a...   \n",
       "437         3–6 years  [HTML5, CSS3, JavaScript (ES6+), React/Redux, ...   \n",
       "\n",
       "                                      Responsibilities  \\\n",
       "457  [Develop and maintain full-stack applications ...   \n",
       "347  [Analyze small datasets to extract insights, B...   \n",
       "639  [Assist senior engineers on projects, Help con...   \n",
       "833  [Assist in setting up monitoring dashboards, S...   \n",
       "437  [Design and develop advanced frontend applicat...   \n",
       "\n",
       "                                              Keywords  \n",
       "457  [Full Stack Developer, Experienced, Mid-Level,...  \n",
       "347  [Data Scientist, Python, R, SQL, Machine Learn...  \n",
       "639          [Internship, Cisco IOS, Subnetting, DHCP]  \n",
       "833  [Python, Bash, Linux, Docker, Kubernetes, AWS,...  \n",
       "437  [Frontend, Web Application Development, Mid-Se...  "
      ]
     },
     "execution_count": 6,
     "metadata": {},
     "output_type": "execute_result"
    }
   ],
   "source": [
    "df_raw.sample(n=5, random_state=1)"
   ]
  },
  {
   "cell_type": "code",
   "execution_count": 7,
   "id": "7993f40f",
   "metadata": {},
   "outputs": [
    {
     "data": {
      "application/vnd.microsoft.datawrangler.viewer.v0+json": {
       "columns": [
        {
         "name": "index",
         "rawType": "object",
         "type": "string"
        },
        {
         "name": "0",
         "rawType": "int64",
         "type": "integer"
        }
       ],
       "ref": "d70cc5ac-46c7-4934-b8c0-c770823f64d7",
       "rows": [
        [
         "Title",
         "1"
        ],
        [
         "JobID",
         "0"
        ],
        [
         "ExperienceLevel",
         "0"
        ],
        [
         "YearsOfExperience",
         "0"
        ],
        [
         "Skills",
         "0"
        ],
        [
         "Responsibilities",
         "0"
        ],
        [
         "Keywords",
         "0"
        ]
       ],
       "shape": {
        "columns": 1,
        "rows": 7
       }
      },
      "text/plain": [
       "Title                1\n",
       "JobID                0\n",
       "ExperienceLevel      0\n",
       "YearsOfExperience    0\n",
       "Skills               0\n",
       "Responsibilities     0\n",
       "Keywords             0\n",
       "dtype: int64"
      ]
     },
     "execution_count": 7,
     "metadata": {},
     "output_type": "execute_result"
    }
   ],
   "source": [
    "df_raw.isnull().sum().sort_values(ascending=False)"
   ]
  },
  {
   "cell_type": "code",
   "execution_count": 8,
   "id": "f4c27d61",
   "metadata": {},
   "outputs": [
    {
     "name": "stdout",
     "output_type": "stream",
     "text": [
      "Duplicated rows: 0\n"
     ]
    }
   ],
   "source": [
    "# Duplicated only in the principal columns\n",
    "duplicates = df_raw.duplicated(subset=([\"Title\", \"JobID\"])).sum()\n",
    "\n",
    "print(f\"Duplicated rows: {duplicates}\")"
   ]
  },
  {
   "cell_type": "markdown",
   "id": "4342a64c",
   "metadata": {},
   "source": [
    "### 🧠 General infomation - Conclusions\n",
    "\n",
    "* We are working with 1.068 registers with information in seven columns.\n",
    "* Only one job has no information about Title. The other features are compleate.\n",
    "* No duplicated rows (Title and JobId) were detected.\n",
    "\n",
    "The structure of the data is solid to build any model."
   ]
  },
  {
   "cell_type": "markdown",
   "id": "7a26091d",
   "metadata": {},
   "source": [
    "## Catgorical distribution\n",
    "\n",
    "We are going to explore the count in each level for the categorical variables: ExperienceLevel, YearsOfExperience, Skills, Keywords"
   ]
  },
  {
   "cell_type": "markdown",
   "id": "12d50a5d",
   "metadata": {},
   "source": [
    "### Experience level\n",
    "\n",
    "There are some equivalent categories. The idea is group them into few labels. As there are few labels we will do it using a dictionarie."
   ]
  },
  {
   "cell_type": "code",
   "execution_count": 9,
   "id": "f7d44397",
   "metadata": {},
   "outputs": [
    {
     "name": "stdout",
     "output_type": "stream",
     "text": [
      "Original labels: ['Fresher' 'Experienced' 'Entry-Level' 'Mid-Senior Level' 'Senior-Level'\n",
      " 'Mid-Level' 'Mid-Senior' 'Senior' 'Junior' 'Mid-level' 'Lead']\n"
     ]
    }
   ],
   "source": [
    "print(f'Original labels: {df_raw[\"ExperienceLevel\"].unique()}')"
   ]
  },
  {
   "cell_type": "code",
   "execution_count": 10,
   "id": "85ffab6a",
   "metadata": {},
   "outputs": [
    {
     "name": "stdout",
     "output_type": "stream",
     "text": [
      "Final labels: ['Entry' 'Senior' 'Mid-Senior' 'Mid']\n"
     ]
    }
   ],
   "source": [
    "# Group different labels. \n",
    "mapping = {\n",
    "    \"Fresher\": \"Entry\",\n",
    "    \"Entry-Level\": \"Entry\",\n",
    "    \"Junior\": \"Entry\",\n",
    "\n",
    "    \"Mid-Level\": \"Mid\",\n",
    "    \"Mid-level\": \"Mid\",\n",
    "\n",
    "    \"Mid-Senior Level\": \"Mid-Senior\",\n",
    "    \"Mid-Senior\": \"Mid-Senior\",\n",
    "\n",
    "    \"Experienced\": \"Senior\",\n",
    "    \"Senior-Level\": \"Senior\",\n",
    "    \"Senior\": \"Senior\",\n",
    "    \"Lead\": \"Senior\",   \n",
    "}\n",
    "\n",
    "# Create a new column\n",
    "df_raw[\"ExperienceLevel_clean\"] = (\n",
    "    df_raw[\"ExperienceLevel\"]\n",
    "    .str.strip()\n",
    "    .replace(mapping)\n",
    "    .fillna(\"Other\")\n",
    ")\n",
    "\n",
    "# Result\n",
    "print(f'Final labels: {df_raw[\"ExperienceLevel_clean\"].unique()}')"
   ]
  },
  {
   "cell_type": "code",
   "execution_count": 11,
   "id": "dabeff1e",
   "metadata": {},
   "outputs": [
    {
     "name": "stderr",
     "output_type": "stream",
     "text": [
      "C:\\Users\\arual\\AppData\\Local\\Temp\\ipykernel_6940\\439561191.py:5: FutureWarning: \n",
      "\n",
      "Passing `palette` without assigning `hue` is deprecated and will be removed in v0.14.0. Assign the `y` variable to `hue` and set `legend=False` for the same effect.\n",
      "\n",
      "  sns.countplot(\n"
     ]
    },
    {
     "data": {
      "text/plain": [
       "Text(0, 0.5, 'Experience Level')"
      ]
     },
     "execution_count": 11,
     "metadata": {},
     "output_type": "execute_result"
    },
    {
     "data": {
      "image/png": "[encoded data removed]",
      "text/plain": [
       "<Figure size 800x300 with 1 Axes>"
      ]
     },
     "metadata": {},
     "output_type": "display_data"
    }
   ],
   "source": [
    "# Plot\n",
    "\n",
    "fig, ax = plt.subplots(figsize=(8, 3))\n",
    "\n",
    "sns.countplot(\n",
    "    y=\"ExperienceLevel_clean\",\n",
    "    data=df_raw,\n",
    "    order=df_raw[\"ExperienceLevel_clean\"].value_counts().index,\n",
    "    ax=ax,\n",
    "    palette=\"Blues_r\"\n",
    ")\n",
    "\n",
    "# Add counts on bars\n",
    "for container in ax.containers:\n",
    "    ax.bar_label(container, fmt='%d', label_type='edge', padding=3, fontsize=9, color='black')\n",
    "\n",
    "ax.set_title(\"Distribution of Experience Levels (clean)\")\n",
    "ax.set_xlabel(\"Count\")\n",
    "ax.set_ylabel(\"Experience Level\")"
   ]
  },
  {
   "cell_type": "markdown",
   "id": "5b335527",
   "metadata": {},
   "source": [
    "### Years Of Experience\n",
    "\n",
    "The codification of this column is very mixed. As it is related with the level, we are going to explore both variables together in order to make a cetegorization"
   ]
  },
  {
   "cell_type": "code",
   "execution_count": 12,
   "id": "3c6e41be",
   "metadata": {},
   "outputs": [
    {
     "data": {
      "application/vnd.microsoft.datawrangler.viewer.v0+json": {
       "columns": [
        {
         "name": "index",
         "rawType": "int64",
         "type": "integer"
        },
        {
         "name": "ExperienceLevel_clean",
         "rawType": "object",
         "type": "string"
        },
        {
         "name": "YearsOfExperience",
         "rawType": "object",
         "type": "string"
        },
        {
         "name": "Count",
         "rawType": "int64",
         "type": "integer"
        }
       ],
       "ref": "627f25af-3d63-4e9f-982a-7b3812cf33f8",
       "rows": [
        [
         "0",
         "Entry",
         "0",
         "48"
        ],
        [
         "1",
         "Entry",
         "0-1",
         "247"
        ],
        [
         "2",
         "Entry",
         "0-1 Years",
         "10"
        ],
        [
         "3",
         "Entry",
         "0-2",
         "25"
        ],
        [
         "4",
         "Entry",
         "0–1 year",
         "104"
        ],
        [
         "5",
         "Mid",
         "2-4",
         "5"
        ],
        [
         "6",
         "Mid",
         "2-5",
         "35"
        ],
        [
         "7",
         "Mid",
         "3-5",
         "9"
        ],
        [
         "8",
         "Mid",
         "3-6",
         "12"
        ],
        [
         "9",
         "Mid",
         "4-6",
         "1"
        ],
        [
         "10",
         "Mid",
         "4-7",
         "3"
        ],
        [
         "11",
         "Mid-Senior",
         "3-6",
         "2"
        ],
        [
         "12",
         "Mid-Senior",
         "3–6 years",
         "2"
        ],
        [
         "13",
         "Mid-Senior",
         "4–7 years",
         "1"
        ],
        [
         "14",
         "Senior",
         "1-2 years",
         "1"
        ],
        [
         "15",
         "Senior",
         "10",
         "1"
        ],
        [
         "16",
         "Senior",
         "10+",
         "12"
        ],
        [
         "17",
         "Senior",
         "10+ years",
         "2"
        ],
        [
         "18",
         "Senior",
         "10-14",
         "1"
        ],
        [
         "19",
         "Senior",
         "10-15",
         "3"
        ],
        [
         "20",
         "Senior",
         "11+",
         "7"
        ],
        [
         "21",
         "Senior",
         "11-15",
         "1"
        ],
        [
         "22",
         "Senior",
         "12",
         "1"
        ],
        [
         "23",
         "Senior",
         "12+",
         "7"
        ],
        [
         "24",
         "Senior",
         "12-15",
         "3"
        ],
        [
         "25",
         "Senior",
         "12-16",
         "1"
        ],
        [
         "26",
         "Senior",
         "13+",
         "6"
        ],
        [
         "27",
         "Senior",
         "13-15",
         "1"
        ],
        [
         "28",
         "Senior",
         "13-16",
         "1"
        ],
        [
         "29",
         "Senior",
         "13-17",
         "1"
        ],
        [
         "30",
         "Senior",
         "14+",
         "4"
        ],
        [
         "31",
         "Senior",
         "14-18",
         "2"
        ],
        [
         "32",
         "Senior",
         "15+",
         "10"
        ],
        [
         "33",
         "Senior",
         "15-20",
         "4"
        ],
        [
         "34",
         "Senior",
         "16+",
         "4"
        ],
        [
         "35",
         "Senior",
         "16-20",
         "1"
        ],
        [
         "36",
         "Senior",
         "17+",
         "3"
        ],
        [
         "37",
         "Senior",
         "18+",
         "1"
        ],
        [
         "38",
         "Senior",
         "18-20",
         "1"
        ],
        [
         "39",
         "Senior",
         "1–3 years",
         "1"
        ],
        [
         "40",
         "Senior",
         "2",
         "4"
        ],
        [
         "41",
         "Senior",
         "2 years",
         "1"
        ],
        [
         "42",
         "Senior",
         "2-3",
         "2"
        ],
        [
         "43",
         "Senior",
         "2-3 years",
         "1"
        ],
        [
         "44",
         "Senior",
         "2-4",
         "1"
        ],
        [
         "45",
         "Senior",
         "2-4 Years",
         "1"
        ],
        [
         "46",
         "Senior",
         "2-5 Years",
         "1"
        ],
        [
         "47",
         "Senior",
         "2–4 years",
         "4"
        ],
        [
         "48",
         "Senior",
         "3",
         "7"
        ],
        [
         "49",
         "Senior",
         "3 years",
         "1"
        ]
       ],
       "shape": {
        "columns": 3,
        "rows": 117
       }
      },
      "text/html": [
       "<div>\n",
       "<style scoped>\n",
       "    .dataframe tbody tr th:only-of-type {\n",
       "        vertical-align: middle;\n",
       "    }\n",
       "\n",
       "    .dataframe tbody tr th {\n",
       "        vertical-align: top;\n",
       "    }\n",
       "\n",
       "    .dataframe thead th {\n",
       "        text-align: right;\n",
       "    }\n",
       "</style>\n",
       "<table border=\"1\" class=\"dataframe\">\n",
       "  <thead>\n",
       "    <tr style=\"text-align: right;\">\n",
       "      <th></th>\n",
       "      <th>ExperienceLevel_clean</th>\n",
       "      <th>YearsOfExperience</th>\n",
       "      <th>Count</th>\n",
       "    </tr>\n",
       "  </thead>\n",
       "  <tbody>\n",
       "    <tr>\n",
       "      <th>0</th>\n",
       "      <td>Entry</td>\n",
       "      <td>0</td>\n",
       "      <td>48</td>\n",
       "    </tr>\n",
       "    <tr>\n",
       "      <th>1</th>\n",
       "      <td>Entry</td>\n",
       "      <td>0-1</td>\n",
       "      <td>247</td>\n",
       "    </tr>\n",
       "    <tr>\n",
       "      <th>2</th>\n",
       "      <td>Entry</td>\n",
       "      <td>0-1 Years</td>\n",
       "      <td>10</td>\n",
       "    </tr>\n",
       "    <tr>\n",
       "      <th>3</th>\n",
       "      <td>Entry</td>\n",
       "      <td>0-2</td>\n",
       "      <td>25</td>\n",
       "    </tr>\n",
       "    <tr>\n",
       "      <th>4</th>\n",
       "      <td>Entry</td>\n",
       "      <td>0–1 year</td>\n",
       "      <td>104</td>\n",
       "    </tr>\n",
       "    <tr>\n",
       "      <th>...</th>\n",
       "      <td>...</td>\n",
       "      <td>...</td>\n",
       "      <td>...</td>\n",
       "    </tr>\n",
       "    <tr>\n",
       "      <th>112</th>\n",
       "      <td>Senior</td>\n",
       "      <td>8–10 years</td>\n",
       "      <td>1</td>\n",
       "    </tr>\n",
       "    <tr>\n",
       "      <th>113</th>\n",
       "      <td>Senior</td>\n",
       "      <td>9</td>\n",
       "      <td>2</td>\n",
       "    </tr>\n",
       "    <tr>\n",
       "      <th>114</th>\n",
       "      <td>Senior</td>\n",
       "      <td>9+</td>\n",
       "      <td>8</td>\n",
       "    </tr>\n",
       "    <tr>\n",
       "      <th>115</th>\n",
       "      <td>Senior</td>\n",
       "      <td>9-12</td>\n",
       "      <td>3</td>\n",
       "    </tr>\n",
       "    <tr>\n",
       "      <th>116</th>\n",
       "      <td>Senior</td>\n",
       "      <td>9–12 years</td>\n",
       "      <td>1</td>\n",
       "    </tr>\n",
       "  </tbody>\n",
       "</table>\n",
       "<p>117 rows × 3 columns</p>\n",
       "</div>"
      ],
      "text/plain": [
       "    ExperienceLevel_clean YearsOfExperience  Count\n",
       "0                   Entry                 0     48\n",
       "1                   Entry               0-1    247\n",
       "2                   Entry         0-1 Years     10\n",
       "3                   Entry               0-2     25\n",
       "4                   Entry          0–1 year    104\n",
       "..                    ...               ...    ...\n",
       "112                Senior        8–10 years      1\n",
       "113                Senior                 9      2\n",
       "114                Senior                9+      8\n",
       "115                Senior              9-12      3\n",
       "116                Senior        9–12 years      1\n",
       "\n",
       "[117 rows x 3 columns]"
      ]
     },
     "execution_count": 12,
     "metadata": {},
     "output_type": "execute_result"
    }
   ],
   "source": [
    "exp_summary = (\n",
    "    df_raw\n",
    "    .groupby([\"ExperienceLevel_clean\", \"YearsOfExperience\"])\n",
    "    .size()\n",
    "    .reset_index(name=\"Count\")\n",
    "    .sort_values(by=[\"ExperienceLevel_clean\", \"YearsOfExperience\"])\n",
    ")\n",
    "\n",
    "exp_summary"
   ]
  },
  {
   "cell_type": "code",
   "execution_count": 13,
   "id": "e1ac4d0e",
   "metadata": {},
   "outputs": [
    {
     "name": "stdout",
     "output_type": "stream",
     "text": [
      "Nulls: 0\n"
     ]
    },
    {
     "data": {
      "application/vnd.microsoft.datawrangler.viewer.v0+json": {
       "columns": [
        {
         "name": "index",
         "rawType": "int64",
         "type": "integer"
        },
        {
         "name": "YearsOfExperience",
         "rawType": "object",
         "type": "string"
        },
        {
         "name": "YearsOfExperience_num",
         "rawType": "Int64",
         "type": "integer"
        }
       ],
       "ref": "51119a97-1048-490b-8a86-19a1b28bc99d",
       "rows": [
        [
         "0",
         "0-1",
         "0"
        ],
        [
         "1",
         "0-1",
         "0"
        ],
        [
         "2",
         "0-1",
         "0"
        ],
        [
         "3",
         "0-1",
         "0"
        ],
        [
         "4",
         "0-1",
         "0"
        ],
        [
         "5",
         "0-1",
         "0"
        ],
        [
         "6",
         "0-1",
         "0"
        ],
        [
         "7",
         "0-1",
         "0"
        ],
        [
         "8",
         "0-1",
         "0"
        ],
        [
         "9",
         "0-1",
         "0"
        ],
        [
         "10",
         "3+",
         "3"
        ],
        [
         "11",
         "4+",
         "4"
        ],
        [
         "12",
         "5+",
         "5"
        ],
        [
         "13",
         "3+",
         "3"
        ],
        [
         "14",
         "5+",
         "5"
        ],
        [
         "15",
         "4+",
         "4"
        ],
        [
         "16",
         "3+",
         "3"
        ],
        [
         "17",
         "5+",
         "5"
        ],
        [
         "18",
         "4+",
         "4"
        ],
        [
         "19",
         "5+",
         "5"
        ],
        [
         "20",
         "0–1 year",
         "0"
        ],
        [
         "21",
         "0–1 year",
         "0"
        ],
        [
         "22",
         "0–1 year",
         "0"
        ],
        [
         "23",
         "0–1 year",
         "0"
        ],
        [
         "24",
         "0–1 year",
         "0"
        ],
        [
         "25",
         "0–1 year",
         "0"
        ],
        [
         "26",
         "0–1 year",
         "0"
        ],
        [
         "27",
         "0–1 year",
         "0"
        ],
        [
         "28",
         "0–1 year",
         "0"
        ],
        [
         "29",
         "3–6 years",
         "3"
        ],
        [
         "30",
         "4–7 years",
         "4"
        ],
        [
         "31",
         "5+ years",
         "5"
        ],
        [
         "32",
         "6+ years",
         "6"
        ],
        [
         "33",
         "5–8 years",
         "5"
        ],
        [
         "34",
         "5+ years",
         "5"
        ],
        [
         "35",
         "6+ years",
         "6"
        ],
        [
         "36",
         "5–10 years",
         "5"
        ],
        [
         "37",
         "6+ years",
         "6"
        ],
        [
         "38",
         "5–9 years",
         "5"
        ],
        [
         "39",
         "5+ years",
         "5"
        ],
        [
         "40",
         "0-1",
         "0"
        ],
        [
         "41",
         "0-1",
         "0"
        ],
        [
         "42",
         "0-1",
         "0"
        ],
        [
         "43",
         "0-1",
         "0"
        ],
        [
         "44",
         "0-1",
         "0"
        ],
        [
         "45",
         "0-1",
         "0"
        ],
        [
         "46",
         "0-1",
         "0"
        ],
        [
         "47",
         "0-1",
         "0"
        ],
        [
         "48",
         "0-1",
         "0"
        ],
        [
         "49",
         "0-1",
         "0"
        ]
       ],
       "shape": {
        "columns": 2,
        "rows": 1068
       }
      },
      "text/html": [
       "<div>\n",
       "<style scoped>\n",
       "    .dataframe tbody tr th:only-of-type {\n",
       "        vertical-align: middle;\n",
       "    }\n",
       "\n",
       "    .dataframe tbody tr th {\n",
       "        vertical-align: top;\n",
       "    }\n",
       "\n",
       "    .dataframe thead th {\n",
       "        text-align: right;\n",
       "    }\n",
       "</style>\n",
       "<table border=\"1\" class=\"dataframe\">\n",
       "  <thead>\n",
       "    <tr style=\"text-align: right;\">\n",
       "      <th></th>\n",
       "      <th>YearsOfExperience</th>\n",
       "      <th>YearsOfExperience_num</th>\n",
       "    </tr>\n",
       "  </thead>\n",
       "  <tbody>\n",
       "    <tr>\n",
       "      <th>0</th>\n",
       "      <td>0-1</td>\n",
       "      <td>0</td>\n",
       "    </tr>\n",
       "    <tr>\n",
       "      <th>1</th>\n",
       "      <td>0-1</td>\n",
       "      <td>0</td>\n",
       "    </tr>\n",
       "    <tr>\n",
       "      <th>2</th>\n",
       "      <td>0-1</td>\n",
       "      <td>0</td>\n",
       "    </tr>\n",
       "    <tr>\n",
       "      <th>3</th>\n",
       "      <td>0-1</td>\n",
       "      <td>0</td>\n",
       "    </tr>\n",
       "    <tr>\n",
       "      <th>4</th>\n",
       "      <td>0-1</td>\n",
       "      <td>0</td>\n",
       "    </tr>\n",
       "    <tr>\n",
       "      <th>...</th>\n",
       "      <td>...</td>\n",
       "      <td>...</td>\n",
       "    </tr>\n",
       "    <tr>\n",
       "      <th>1063</th>\n",
       "      <td>5+</td>\n",
       "      <td>5</td>\n",
       "    </tr>\n",
       "    <tr>\n",
       "      <th>1064</th>\n",
       "      <td>4+</td>\n",
       "      <td>4</td>\n",
       "    </tr>\n",
       "    <tr>\n",
       "      <th>1065</th>\n",
       "      <td>5+</td>\n",
       "      <td>5</td>\n",
       "    </tr>\n",
       "    <tr>\n",
       "      <th>1066</th>\n",
       "      <td>4+</td>\n",
       "      <td>4</td>\n",
       "    </tr>\n",
       "    <tr>\n",
       "      <th>1067</th>\n",
       "      <td>5+</td>\n",
       "      <td>5</td>\n",
       "    </tr>\n",
       "  </tbody>\n",
       "</table>\n",
       "<p>1068 rows × 2 columns</p>\n",
       "</div>"
      ],
      "text/plain": [
       "     YearsOfExperience  YearsOfExperience_num\n",
       "0                  0-1                      0\n",
       "1                  0-1                      0\n",
       "2                  0-1                      0\n",
       "3                  0-1                      0\n",
       "4                  0-1                      0\n",
       "...                ...                    ...\n",
       "1063                5+                      5\n",
       "1064                4+                      4\n",
       "1065                5+                      5\n",
       "1066                4+                      4\n",
       "1067                5+                      5\n",
       "\n",
       "[1068 rows x 2 columns]"
      ]
     },
     "execution_count": 13,
     "metadata": {},
     "output_type": "execute_result"
    }
   ],
   "source": [
    "# Clean the feature selecting only the number. If it's a range, we only mantain the first number of the interval.\n",
    "\n",
    "df_raw[\"YearsOfExperience_num\"] = (df_raw[\"YearsOfExperience\"].astype(str).str.extract(r'(\\d+)')[0].astype(\"Int64\")\n",
    ")\n",
    "# Check if nulls\n",
    "print(\"Nulls:\", df_raw[\"YearsOfExperience_num\"].isna().sum())\n",
    "\n",
    "# Comparation\n",
    "df_raw[[\"YearsOfExperience\", \"YearsOfExperience_num\"]]"
   ]
  },
  {
   "cell_type": "code",
   "execution_count": 14,
   "id": "68e115be",
   "metadata": {},
   "outputs": [
    {
     "data": {
      "image/png": "[encoded data removed]",
      "text/plain": [
       "<Figure size 1200x500 with 2 Axes>"
      ]
     },
     "metadata": {},
     "output_type": "display_data"
    }
   ],
   "source": [
    "# Explore the relationship between ExperienceLevel_clean and YearsOfExperience\n",
    "\n",
    "## a. Summary YearsOfExperience_num, ExperienceLevel_clean, Count\n",
    "year_summary = (\n",
    "    df_raw.dropna(subset=[\"ExperienceLevel_clean\", \"YearsOfExperience_num\"])\n",
    "          .groupby([\"ExperienceLevel_clean\", \"YearsOfExperience_num\"])\n",
    "          .size()\n",
    "          .reset_index(name=\"Count\")\n",
    ")\n",
    "ys = year_summary.dropna(subset=[\"YearsOfExperience_num\", \"ExperienceLevel_clean\"]).copy()\n",
    "ys[\"YearsOfExperience_num\"] = ys[\"YearsOfExperience_num\"].astype(int)\n",
    "\n",
    "# # Pivot and sort by years\n",
    "pivot_counts = (\n",
    "    ys.pivot(index=\"ExperienceLevel_clean\", columns=\"YearsOfExperience_num\", values=\"Count\")\n",
    "      .fillna(0)\n",
    "      .reindex(sorted(ys[\"YearsOfExperience_num\"].unique()), axis=1)\n",
    ")\n",
    "\n",
    "# Normalization: for each row we scale by it maximun (it's only for present the color scale by row)\n",
    "pivot_norm = pivot_counts.div(pivot_counts.max(axis=1).replace(0, np.nan), axis=0).fillna(0)\n",
    "\n",
    "# Plot\n",
    "plt.figure(figsize=(12, 5))\n",
    "\n",
    "sns.heatmap(\n",
    "    pivot_norm, cmap=\"Blues\", vmin=0, vmax=1,\n",
    "    annot=pivot_counts.astype(int), fmt=\"d\",\n",
    "    cbar_kws={\"label\": \"Row-normalized intensity (0–1)\"}\n",
    ")\n",
    "plt.title(\"Experience Level vs. Years of Experience\")\n",
    "plt.xlabel(\"Years of Experience\")\n",
    "plt.ylabel(\"Experience Level\")\n",
    "plt.tight_layout()\n",
    "plt.show()\n"
   ]
  },
  {
   "cell_type": "code",
   "execution_count": 15,
   "id": "68975e4b",
   "metadata": {},
   "outputs": [
    {
     "name": "stdout",
     "output_type": "stream",
     "text": [
      "Final labels: ['Entry' 'Senior' 'Mid']\n"
     ]
    }
   ],
   "source": [
    "# Group Mid and Mid-Senior (rewritting ExperienceLevel_clean values)\n",
    "df_raw[\"ExperienceLevel_clean\"] = (\n",
    "    df_raw[\"ExperienceLevel_clean\"]\n",
    "    .replace({\"Mid-Senior\": \"Mid\"})\n",
    ")\n",
    "\n",
    "# Print final labels\n",
    "print(f'Final labels: {df_raw[\"ExperienceLevel_clean\"].unique()}')"
   ]
  },
  {
   "cell_type": "markdown",
   "id": "720300d2",
   "metadata": {},
   "source": [
    "## Text features\n",
    "\n",
    "Now we are going to explore the textual features.\n",
    "\n",
    "First of all, we display the lenght of each category and an example of each one."
   ]
  },
  {
   "cell_type": "code",
   "execution_count": 16,
   "id": "46f4e07d",
   "metadata": {},
   "outputs": [
    {
     "name": "stdout",
     "output_type": "stream",
     "text": [
      "Title:\n",
      "Minimum length is 9.0 and maximum length is 40.0 with an average of 20.06 characters.\n",
      "example: AI Prompt Engineer\n",
      "\n",
      "Skills:\n",
      "Minimum length is 4 and maximum length is 27 with an average of 11.47 skills.\n",
      "example: ['Python basics', 'JavaScript basics', 'Intro to NLP', 'Hugging Face basics', 'SpaCy basics', 'NLTK basics', 'Prompt writing fundamentals', 'OpenAI GPT models exposure', 'TensorFlow basics', 'PyTorch basics', 'Critical thinking', 'Communication', 'Collaboration', 'Creativity']\n",
      "\n",
      "Responsibilities:\n",
      "Minimum length is 2 and maximum length is 13 with an average of 6.21 responsibilities.\n",
      "example: ['Assist in prompt design for AI models', 'Evaluate prompt outcomes', 'Support AI/data science team tasks', 'Document experiments', 'Learn NLP libraries', 'Assist in integration of prompts into AI applications']\n",
      "\n"
     ]
    }
   ],
   "source": [
    "print(\"Title:\")\n",
    "print(f'Minimum length is {df_raw[\"Title\"].str.len().min()} and maximum length is {df_raw[\"Title\"].str.len().max()} with an average of {df_raw[\"Title\"].str.len().mean():.2f} characters.')\n",
    "print(f'example: {df_raw[\"Title\"].iloc[42]}\\n')\n",
    "\n",
    "print(\"Skills:\")\n",
    "print(f'Minimum length is {df_raw[\"Skills\"].str.len().min()} and maximum length is {df_raw[\"Skills\"].str.len().max()} with an average of {df_raw[\"Skills\"].str.len().mean():.2f} skills.')\n",
    "print(f'example: {df_raw[\"Skills\"].iloc[42]}\\n')\n",
    "\n",
    "print(\"Responsibilities:\")\n",
    "print(f'Minimum length is {df_raw[\"Responsibilities\"].str.len().min()} and maximum length is {df_raw[\"Responsibilities\"].str.len().max()} with an average of {df_raw[\"Responsibilities\"].str.len().mean():.2f} responsibilities.')\n",
    "print(f'example: {df_raw[\"Responsibilities\"].iloc[42]}\\n')"
   ]
  },
  {
   "cell_type": "markdown",
   "id": "0276b42f",
   "metadata": {},
   "source": [
    "### Title\n",
    "\n",
    "Title refers to the main description of the job.\n",
    "\n",
    "The table bellow shows a first aproximation to the feature. If we compare the most and less common titles we see that there is more demand of technical roles while user-experience roles have less vacancies. "
   ]
  },
  {
   "cell_type": "code",
   "execution_count": 17,
   "id": "456277b9",
   "metadata": {},
   "outputs": [
    {
     "name": "stdout",
     "output_type": "stream",
     "text": [
      "count               1067\n",
      "unique               218\n",
      "top       .NET Developer\n",
      "freq                  20\n",
      "Name: Title, dtype: object\n",
      "...........................\n",
      "10 most common titles:\n",
      "218 Title\n",
      ".NET Developer          20\n",
      "AI Prompt Engineer      20\n",
      "AR/VR Developer         20\n",
      "Business Analyst        20\n",
      "Data Engineer           20\n",
      "Content Writer          20\n",
      "Copywriter              20\n",
      "Big Data Specialist     20\n",
      "Blockchain Developer    20\n",
      "Product Manager         20\n",
      "Name: count, dtype: int64\n",
      "...........................\n",
      "10 less common titles:\n",
      "218 Title\n",
      "UX Trainee Designer            1\n",
      "UX Design Intern               1\n",
      "UX Architect                   1\n",
      "Principal UX Designer          1\n",
      "UX Manager                     1\n",
      "Senior Interaction Designer    1\n",
      "UX Consultant                  1\n",
      "UX Strategist                  1\n",
      "UX Design Lead                 1\n",
      "Staff UX Designer              1\n",
      "Name: count, dtype: int64\n"
     ]
    }
   ],
   "source": [
    "print(df_raw[\"Title\"].describe())\n",
    "print(\"...........................\")\n",
    "print(\"10 most common titles:\")\n",
    "print(df_raw[\"Title\"].nunique(), df_raw[\"Title\"].value_counts().head(10))\n",
    "print(\"...........................\")\n",
    "print(\"10 less common titles:\")\n",
    "print(df_raw[\"Title\"].nunique(), df_raw[\"Title\"].value_counts().tail(10))\n"
   ]
  },
  {
   "cell_type": "markdown",
   "id": "89e6e013",
   "metadata": {},
   "source": [
    "The results that we found are made we the raw title. We need to clean it first.\n",
    "\n",
    "A quick glance on our data shows that some titles include infromation about the experience (entry level, specialist, etc). We will remove that information from the Title but creating a new column. We will use that information to compare with the informed experience column.\n",
    "\n",
    "**Step summary**:\n",
    "\n",
    "* Clean title.\n",
    "* Extract experience word and clean in the same way.\n",
    "* Create a column that stores title experience information.\n",
    "* Remove experience from title clean column."
   ]
  },
  {
   "cell_type": "code",
   "execution_count": 27,
   "id": "a6a6c15f",
   "metadata": {},
   "outputs": [
    {
     "data": {
      "application/vnd.microsoft.datawrangler.viewer.v0+json": {
       "columns": [
        {
         "name": "index",
         "rawType": "int64",
         "type": "integer"
        },
        {
         "name": "Title",
         "rawType": "object",
         "type": "unknown"
        },
        {
         "name": "Title_clean",
         "rawType": "object",
         "type": "string"
        },
        {
         "name": "ExperienceLevel_title",
         "rawType": "object",
         "type": "string"
        }
       ],
       "ref": "ca7462f3-36df-4de1-9d83-507cc6085bdd",
       "rows": [
        [
         "0",
         ".NET Developer",
         "net developer",
         ""
        ],
        [
         "20",
         "AI Engineer - Fresher",
         "ai engineer",
         "fresher"
        ],
        [
         "29",
         "AI Engineer - Experienced",
         "ai engineer",
         "experience"
        ],
        [
         "36",
         null,
         "nan",
         ""
        ],
        [
         "40",
         "AI Prompt Engineer",
         "ai prompt engineer",
         ""
        ],
        [
         "60",
         "Android Developer Intern",
         "android developer",
         "intern"
        ],
        [
         "61",
         "Junior Android Developer",
         "android developer",
         "junior"
        ],
        [
         "62",
         "Android App Developer Trainee",
         "android app developer",
         "trainee"
        ],
        [
         "63",
         "Entry-level Android Developer",
         "android developer",
         "entry level"
        ],
        [
         "65",
         "Associate Android Developer",
         "associate android developer",
         ""
        ],
        [
         "66",
         "Trainee Android App Developer",
         "android app developer",
         "trainee"
        ],
        [
         "67",
         "Junior Android Engineer",
         "android engineer",
         "junior"
        ],
        [
         "68",
         "Android Development Intern",
         "android development",
         "intern"
        ],
        [
         "69",
         "Android Developer Trainee",
         "android developer",
         "trainee"
        ],
        [
         "70",
         "Android Developer",
         "android developer",
         ""
        ],
        [
         "71",
         "Senior Android Developer",
         "android developer",
         "senior"
        ],
        [
         "72",
         "Lead Android Engineer",
         "android engineer",
         "lead"
        ],
        [
         "73",
         "Android Solutions Engineer",
         "android solution engineer",
         ""
        ],
        [
         "74",
         "Principal Android Developer",
         "android developer",
         "principal"
        ],
        [
         "75",
         "Android Tech Lead",
         "android tech",
         "lead"
        ],
        [
         "76",
         "Senior Android Engineer",
         "android engineer",
         "senior"
        ],
        [
         "77",
         "Android Architect",
         "android architect",
         ""
        ],
        [
         "78",
         "Android Solutions Architect",
         "android solution architect",
         ""
        ],
        [
         "79",
         "Principal Android Engineer",
         "android engineer",
         "principal"
        ],
        [
         "80",
         "AR/VR Developer",
         "ar vr developer",
         ""
        ],
        [
         "100",
         "Backend Developer - Entry Level",
         "backend developer",
         "entry level"
        ],
        [
         "110",
         "Backend Developer - Experienced",
         "backend developer",
         "experience"
        ],
        [
         "120",
         "Big Data Specialist",
         "big data",
         "specialist"
        ],
        [
         "140",
         "Blockchain Developer",
         "blockchain developer",
         ""
        ],
        [
         "160",
         "Business Analyst",
         "business analyst",
         ""
        ],
        [
         "180",
         "BI Analyst - Fresher",
         "bi analyst",
         "fresher"
        ],
        [
         "189",
         "BI Analyst - Experienced",
         "bi analyst",
         "experience"
        ],
        [
         "200",
         "Cloud Architect",
         "cloud architect",
         ""
        ],
        [
         "201",
         "Cloud Solutions Associate",
         "cloud solution associate",
         ""
        ],
        [
         "202",
         "Junior Cloud Engineer",
         "cloud engineer",
         "junior"
        ],
        [
         "203",
         "Cloud Trainee",
         "cloud",
         "trainee"
        ],
        [
         "204",
         "Associate Cloud Architect",
         "associate cloud architect",
         ""
        ],
        [
         "205",
         "Cloud Engineer",
         "cloud engineer",
         ""
        ],
        [
         "206",
         "Senior Cloud Architect",
         "cloud architect",
         "senior"
        ],
        [
         "207",
         "Lead Cloud Solutions Architect",
         "cloud solution architect",
         "lead"
        ],
        [
         "208",
         "Cloud Security Architect",
         "cloud security architect",
         ""
        ],
        [
         "209",
         "DevOps Cloud Architect",
         "devops cloud architect",
         ""
        ],
        [
         "210",
         "Cloud Infrastructure Architect",
         "cloud infrastructure architect",
         ""
        ],
        [
         "211",
         "Multi-Cloud Architect",
         "multi cloud architect",
         ""
        ],
        [
         "212",
         "Cloud Migration Specialist",
         "cloud migration",
         "specialist"
        ],
        [
         "213",
         "Cloud Automation Engineer",
         "cloud automation engineer",
         ""
        ],
        [
         "214",
         "Cloud Platform Architect",
         "cloud platform architect",
         ""
        ],
        [
         "215",
         "Cloud DevSecOps Architect",
         "cloud devsecop architect",
         ""
        ],
        [
         "216",
         "Enterprise Cloud Architect",
         "enterprise cloud architect",
         ""
        ],
        [
         "217",
         "Hybrid Cloud Architect",
         "hybrid cloud architect",
         ""
        ]
       ],
       "shape": {
        "columns": 3,
        "rows": 219
       }
      },
      "text/html": [
       "<div>\n",
       "<style scoped>\n",
       "    .dataframe tbody tr th:only-of-type {\n",
       "        vertical-align: middle;\n",
       "    }\n",
       "\n",
       "    .dataframe tbody tr th {\n",
       "        vertical-align: top;\n",
       "    }\n",
       "\n",
       "    .dataframe thead th {\n",
       "        text-align: right;\n",
       "    }\n",
       "</style>\n",
       "<table border=\"1\" class=\"dataframe\">\n",
       "  <thead>\n",
       "    <tr style=\"text-align: right;\">\n",
       "      <th></th>\n",
       "      <th>Title</th>\n",
       "      <th>Title_clean</th>\n",
       "      <th>ExperienceLevel_title</th>\n",
       "    </tr>\n",
       "  </thead>\n",
       "  <tbody>\n",
       "    <tr>\n",
       "      <th>0</th>\n",
       "      <td>.NET Developer</td>\n",
       "      <td>net developer</td>\n",
       "      <td></td>\n",
       "    </tr>\n",
       "    <tr>\n",
       "      <th>20</th>\n",
       "      <td>AI Engineer - Fresher</td>\n",
       "      <td>ai engineer</td>\n",
       "      <td>fresher</td>\n",
       "    </tr>\n",
       "    <tr>\n",
       "      <th>29</th>\n",
       "      <td>AI Engineer - Experienced</td>\n",
       "      <td>ai engineer</td>\n",
       "      <td>experience</td>\n",
       "    </tr>\n",
       "    <tr>\n",
       "      <th>36</th>\n",
       "      <td>NaN</td>\n",
       "      <td>nan</td>\n",
       "      <td></td>\n",
       "    </tr>\n",
       "    <tr>\n",
       "      <th>40</th>\n",
       "      <td>AI Prompt Engineer</td>\n",
       "      <td>ai prompt engineer</td>\n",
       "      <td></td>\n",
       "    </tr>\n",
       "    <tr>\n",
       "      <th>...</th>\n",
       "      <td>...</td>\n",
       "      <td>...</td>\n",
       "      <td>...</td>\n",
       "    </tr>\n",
       "    <tr>\n",
       "      <th>1025</th>\n",
       "      <td>UX Consultant</td>\n",
       "      <td>ux consultant</td>\n",
       "      <td></td>\n",
       "    </tr>\n",
       "    <tr>\n",
       "      <th>1026</th>\n",
       "      <td>Staff UX Designer</td>\n",
       "      <td>staff ux designer</td>\n",
       "      <td></td>\n",
       "    </tr>\n",
       "    <tr>\n",
       "      <th>1027</th>\n",
       "      <td>UX Design Lead</td>\n",
       "      <td>ux design</td>\n",
       "      <td>lead</td>\n",
       "    </tr>\n",
       "    <tr>\n",
       "      <th>1028</th>\n",
       "      <td>Vibe Coder</td>\n",
       "      <td>vibe coder</td>\n",
       "      <td></td>\n",
       "    </tr>\n",
       "    <tr>\n",
       "      <th>1048</th>\n",
       "      <td>Web Developer</td>\n",
       "      <td>web developer</td>\n",
       "      <td></td>\n",
       "    </tr>\n",
       "  </tbody>\n",
       "</table>\n",
       "<p>219 rows × 3 columns</p>\n",
       "</div>"
      ],
      "text/plain": [
       "                          Title         Title_clean ExperienceLevel_title\n",
       "0                .NET Developer       net developer                      \n",
       "20        AI Engineer - Fresher         ai engineer               fresher\n",
       "29    AI Engineer - Experienced         ai engineer            experience\n",
       "36                          NaN                 nan                      \n",
       "40           AI Prompt Engineer  ai prompt engineer                      \n",
       "...                         ...                 ...                   ...\n",
       "1025              UX Consultant       ux consultant                      \n",
       "1026          Staff UX Designer   staff ux designer                      \n",
       "1027             UX Design Lead           ux design                  lead\n",
       "1028                 Vibe Coder          vibe coder                      \n",
       "1048              Web Developer       web developer                      \n",
       "\n",
       "[219 rows x 3 columns]"
      ]
     },
     "execution_count": 27,
     "metadata": {},
     "output_type": "execute_result"
    }
   ],
   "source": [
    "# 1. Cleaning function in title column\n",
    "df_raw[\"Title_clean\"] = df_raw[\"Title\"].apply(clean_text)\n",
    "\n",
    "# 2. Experience level patterns to remove. \n",
    "\n",
    "## Expirience patterns detected\n",
    "experience = [\n",
    "    \"entry level\", \"junior\", \"jr\", \"mid level\", \"middle\", \"semi senior\", \"fresher\",\n",
    "    \"experienced\", \"senior\", \"sr\", \"specialist\", \"lead\", \"principal\",\n",
    "    \"head\", \"manager\", \"director\", \"expert\", \"intern\", \"graduate\", \"trainee\"\n",
    "]\n",
    "\n",
    "## Clean the patterns (same preprocessing)\n",
    "experience_clean = [clean_text(e) for e in experience]\n",
    "\n",
    "# Build flexible regex (allow space, hyphen, or slash)\n",
    "exp_regex = re.compile(\n",
    "    r\"\\b(\" + \"|\".join(\n",
    "        [p.replace(\" \", r\"[\\s\\-\\/]?\") for p in experience_clean]\n",
    "    ) + r\")\\b\",\n",
    "    re.IGNORECASE\n",
    ")\n",
    "\n",
    "# 3. New column with the experience level found in the title\n",
    "df_raw[\"ExperienceLevel_title\"] = (\n",
    "    df_raw[\"Title_clean\"]\n",
    "    .apply(lambda x: \", \".join(sorted(set(m)) ) if (m := exp_regex.findall(str(x).lower())) else \"\")\n",
    ")\n",
    "\n",
    "# 4. Remove experience level from the clean title\n",
    "df_raw[\"Title_clean\"] = (\n",
    "    df_raw[\"Title_clean\"]\n",
    "    .str.replace(exp_regex, \" \", regex=True)\n",
    "    .str.replace(r\"\\s+\", \" \", regex=True)\n",
    "    .str.strip()\n",
    ")\n",
    "\n",
    "# Check results\n",
    "df_raw[[\"Title\", \"Title_clean\", \"ExperienceLevel_title\"]].drop_duplicates()"
   ]
  }
 ],
 "metadata": {
  "kernelspec": {
   "display_name": "envjob",
   "language": "python",
   "name": "python3"
  },
  "language_info": {
   "codemirror_mode": {
    "name": "ipython",
    "version": 3
   },
   "file_extension": ".py",
   "mimetype": "text/x-python",
   "name": "python",
   "nbconvert_exporter": "python",
   "pygments_lexer": "ipython3",
   "version": "3.13.2"
  }
 },
 "nbformat": 4,
 "nbformat_minor": 5
}
