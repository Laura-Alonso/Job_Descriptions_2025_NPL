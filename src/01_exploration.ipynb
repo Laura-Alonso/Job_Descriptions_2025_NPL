{
 "cells": [
  {
   "cell_type": "markdown",
   "id": "0c396d78",
   "metadata": {},
   "source": [
    "# Initial data exploration and structure\n",
    "\n",
    "The purpose of this notebook is to explore and understand the structure and content of the Job Descriptions 2025 dataset.\n",
    "\n",
    "**Main points**\n",
    "\n",
    "* Assess the quality and completeness of the dataset.\n",
    "* Examine the distribution of job categories (Tech vs. Non-Tech).\n",
    "* Analyze the overall characteristics of the job descriptions, such as text length, vocabulary diversity, and common terms.\n",
    "* Identify potential issues or insights that will guide the next steps in text preprocessing and NLP modeling."
   ]
  },
  {
   "cell_type": "markdown",
   "id": "d9791237",
   "metadata": {},
   "source": [
    "# Configuration"
   ]
  },
  {
   "cell_type": "code",
   "execution_count": 1,
   "id": "c66bfb4e",
   "metadata": {},
   "outputs": [
    {
     "name": "stderr",
     "output_type": "stream",
     "text": [
      "c:\\Users\\arual\\Desktop\\projects\\Job_Descriptions_2025_NPL\\src\\env\\Lib\\site-packages\\tqdm\\auto.py:21: TqdmWarning: IProgress not found. Please update jupyter and ipywidgets. See https://ipywidgets.readthedocs.io/en/stable/user_install.html\n",
      "  from .autonotebook import tqdm as notebook_tqdm\n"
     ]
    }
   ],
   "source": [
    "import kagglehub\n",
    "import pandas as pd\n",
    "import os\n",
    "import matplotlib.pyplot as plt\n",
    "import seaborn as sns\n",
    "import numpy as np\n",
    "import re"
   ]
  },
  {
   "cell_type": "markdown",
   "id": "5df5e6de",
   "metadata": {},
   "source": [
    "# Import data\n",
    "\n",
    "The information is stored in a json file."
   ]
  },
  {
   "cell_type": "code",
   "execution_count": 2,
   "id": "9e98d709",
   "metadata": {},
   "outputs": [],
   "source": [
    "# Download data from Kaggle\n",
    "path = kagglehub.dataset_download(\"adityarajsrv/job-descriptions-2025-tech-and-non-tech-roles\")\n",
    "\n",
    "# Save in this repository\n",
    "df_raw = pd.read_json(os.path.join(path, \"job_dataset.json\"))"
   ]
  },
  {
   "cell_type": "markdown",
   "id": "bf464663",
   "metadata": {},
   "source": [
    "# Data Exploration (EDA)\n",
    "\n",
    "Now were are going to performe an EDA at table level. In the the fild `03_eda_language.ipynb` we will performe a more specific EDA, focus in the linguistic analyse."
   ]
  },
  {
   "cell_type": "markdown",
   "id": "ab95c4f1",
   "metadata": {},
   "source": [
    "## General information\n",
    "\n",
    "We will take a look in the data structure: shape, nulls, duplacated"
   ]
  },
  {
   "cell_type": "code",
   "execution_count": 3,
   "id": "10a9e348",
   "metadata": {},
   "outputs": [
    {
     "name": "stdout",
     "output_type": "stream",
     "text": [
      "Rows: 1,068 | Columns: 7\n"
     ]
    }
   ],
   "source": [
    "print(f\"Rows: {df_raw.shape[0]:,} | Columns: {df_raw.shape[1]}\")\n"
   ]
  },
  {
   "cell_type": "code",
   "execution_count": 4,
   "id": "fd9dc3a4",
   "metadata": {},
   "outputs": [
    {
     "data": {
      "application/vnd.microsoft.datawrangler.viewer.v0+json": {
       "columns": [
        {
         "name": "index",
         "rawType": "int64",
         "type": "integer"
        },
        {
         "name": "JobID",
         "rawType": "object",
         "type": "string"
        },
        {
         "name": "Title",
         "rawType": "object",
         "type": "string"
        },
        {
         "name": "ExperienceLevel",
         "rawType": "object",
         "type": "string"
        },
        {
         "name": "YearsOfExperience",
         "rawType": "object",
         "type": "string"
        },
        {
         "name": "Skills",
         "rawType": "object",
         "type": "unknown"
        },
        {
         "name": "Responsibilities",
         "rawType": "object",
         "type": "unknown"
        },
        {
         "name": "Keywords",
         "rawType": "object",
         "type": "unknown"
        }
       ],
       "ref": "ae688ab0-5322-4c12-bc5d-c025244e43b7",
       "rows": [
        [
         "457",
         "13",
         "Full Stack Developer - Experienced",
         "Experienced",
         "3–5 years",
         "['HTML5', 'CSS3', 'JavaScript', 'React', 'Angular', 'Vue.js', 'Node.js', 'Django', 'Flask', 'SQL', 'NoSQL', 'Git', 'RESTful API design', 'Docker', 'Kubernetes', 'CI/CD', 'Cloud Platforms', 'Web Security']",
         "['Develop and maintain full-stack applications for fintech and e-commerce', 'Implement frontend interfaces using React, Angular, or Vue.js', 'Build backend services with Node.js or Django', 'Optimize databases', 'Implement CI/CD pipelines', 'Ensure secure authentication', 'Mentor junior developers']",
         "['Full Stack Developer', 'Experienced', 'Mid-Level', 'Frontend', 'Backend', 'Fintech', 'E-commerce', 'Cloud']"
        ],
        [
         "347",
         "DS-F8",
         "Fresher Data Scientist",
         "Fresher",
         "0-1",
         "['Python', 'R', 'SQL', 'Pandas', 'NumPy', 'Matplotlib', 'Seaborn', 'MySQL', 'MongoDB', 'Basic ML: classification, regression, clustering']",
         "['Analyze small datasets to extract insights', 'Build simple predictive models', 'Create visualizations for reports', 'Collaborate with senior data scientists', 'Learn best practices for ML workflows']",
         "['Data Scientist', 'Python', 'R', 'SQL', 'Machine Learning', 'Data Visualization', 'Entry Level']"
        ],
        [
         "639",
         "NE009",
         "Network Intern",
         "Fresher",
         "0",
         "['DHCP', 'Subnetting', 'Cisco IOS', 'VPN Basics']",
         "['Assist senior engineers on projects', 'Help configure routers', 'Learn troubleshooting', 'Participate in training sessions']",
         "['Internship', 'Cisco IOS', 'Subnetting', 'DHCP']"
        ],
        [
         "833",
         "SRE-F-003",
         "Site Reliability Engineer",
         "Fresher",
         "0-1",
         "['Python basics', 'Bash scripting basics', 'Linux administration fundamentals', 'Windows OS basics', 'Introduction to cloud platforms', 'Containerization basics (Docker)', 'Kubernetes basics', 'Basic monitoring (Nagios, Grafana)', 'Networking fundamentals', 'Problem-solving', 'Collaboration', 'Communication', 'Adaptability']",
         "['Assist in setting up monitoring dashboards', 'Support CI/CD pipelines and automation scripts', 'Learn container orchestration with Kubernetes', 'Document incidents and processes', 'Work with senior SREs on troubleshooting tasks']",
         "['Python', 'Bash', 'Linux', 'Docker', 'Kubernetes', 'AWS', 'Monitoring', 'CI/CD', 'Networking', 'Automation']"
        ],
        [
         "437",
         "FE011",
         "Frontend Developer - Experienced",
         "Mid-Senior Level",
         "3–6 years",
         "['HTML5', 'CSS3', 'JavaScript (ES6+)', 'React/Redux', 'Angular', 'Vue.js', 'Performance optimization', 'Unit & E2E testing', 'Git', 'CI/CD']",
         "['Design and develop advanced frontend applications', 'Optimize performance and page speed', 'Implement testing automation', 'Ensure cross-browser compatibility', 'Mentor junior developers']",
         "['Frontend', 'Web Application Development', 'Mid-Senior', 'React', 'UI', 'SPA', 'PWA']"
        ]
       ],
       "shape": {
        "columns": 7,
        "rows": 5
       }
      },
      "text/html": [
       "<div>\n",
       "<style scoped>\n",
       "    .dataframe tbody tr th:only-of-type {\n",
       "        vertical-align: middle;\n",
       "    }\n",
       "\n",
       "    .dataframe tbody tr th {\n",
       "        vertical-align: top;\n",
       "    }\n",
       "\n",
       "    .dataframe thead th {\n",
       "        text-align: right;\n",
       "    }\n",
       "</style>\n",
       "<table border=\"1\" class=\"dataframe\">\n",
       "  <thead>\n",
       "    <tr style=\"text-align: right;\">\n",
       "      <th></th>\n",
       "      <th>JobID</th>\n",
       "      <th>Title</th>\n",
       "      <th>ExperienceLevel</th>\n",
       "      <th>YearsOfExperience</th>\n",
       "      <th>Skills</th>\n",
       "      <th>Responsibilities</th>\n",
       "      <th>Keywords</th>\n",
       "    </tr>\n",
       "  </thead>\n",
       "  <tbody>\n",
       "    <tr>\n",
       "      <th>457</th>\n",
       "      <td>13</td>\n",
       "      <td>Full Stack Developer - Experienced</td>\n",
       "      <td>Experienced</td>\n",
       "      <td>3–5 years</td>\n",
       "      <td>[HTML5, CSS3, JavaScript, React, Angular, Vue....</td>\n",
       "      <td>[Develop and maintain full-stack applications ...</td>\n",
       "      <td>[Full Stack Developer, Experienced, Mid-Level,...</td>\n",
       "    </tr>\n",
       "    <tr>\n",
       "      <th>347</th>\n",
       "      <td>DS-F8</td>\n",
       "      <td>Fresher Data Scientist</td>\n",
       "      <td>Fresher</td>\n",
       "      <td>0-1</td>\n",
       "      <td>[Python, R, SQL, Pandas, NumPy, Matplotlib, Se...</td>\n",
       "      <td>[Analyze small datasets to extract insights, B...</td>\n",
       "      <td>[Data Scientist, Python, R, SQL, Machine Learn...</td>\n",
       "    </tr>\n",
       "    <tr>\n",
       "      <th>639</th>\n",
       "      <td>NE009</td>\n",
       "      <td>Network Intern</td>\n",
       "      <td>Fresher</td>\n",
       "      <td>0</td>\n",
       "      <td>[DHCP, Subnetting, Cisco IOS, VPN Basics]</td>\n",
       "      <td>[Assist senior engineers on projects, Help con...</td>\n",
       "      <td>[Internship, Cisco IOS, Subnetting, DHCP]</td>\n",
       "    </tr>\n",
       "    <tr>\n",
       "      <th>833</th>\n",
       "      <td>SRE-F-003</td>\n",
       "      <td>Site Reliability Engineer</td>\n",
       "      <td>Fresher</td>\n",
       "      <td>0-1</td>\n",
       "      <td>[Python basics, Bash scripting basics, Linux a...</td>\n",
       "      <td>[Assist in setting up monitoring dashboards, S...</td>\n",
       "      <td>[Python, Bash, Linux, Docker, Kubernetes, AWS,...</td>\n",
       "    </tr>\n",
       "    <tr>\n",
       "      <th>437</th>\n",
       "      <td>FE011</td>\n",
       "      <td>Frontend Developer - Experienced</td>\n",
       "      <td>Mid-Senior Level</td>\n",
       "      <td>3–6 years</td>\n",
       "      <td>[HTML5, CSS3, JavaScript (ES6+), React/Redux, ...</td>\n",
       "      <td>[Design and develop advanced frontend applicat...</td>\n",
       "      <td>[Frontend, Web Application Development, Mid-Se...</td>\n",
       "    </tr>\n",
       "  </tbody>\n",
       "</table>\n",
       "</div>"
      ],
      "text/plain": [
       "         JobID                               Title   ExperienceLevel  \\\n",
       "457         13  Full Stack Developer - Experienced       Experienced   \n",
       "347      DS-F8              Fresher Data Scientist           Fresher   \n",
       "639      NE009                      Network Intern           Fresher   \n",
       "833  SRE-F-003           Site Reliability Engineer           Fresher   \n",
       "437      FE011    Frontend Developer - Experienced  Mid-Senior Level   \n",
       "\n",
       "    YearsOfExperience                                             Skills  \\\n",
       "457         3–5 years  [HTML5, CSS3, JavaScript, React, Angular, Vue....   \n",
       "347               0-1  [Python, R, SQL, Pandas, NumPy, Matplotlib, Se...   \n",
       "639                 0          [DHCP, Subnetting, Cisco IOS, VPN Basics]   \n",
       "833               0-1  [Python basics, Bash scripting basics, Linux a...   \n",
       "437         3–6 years  [HTML5, CSS3, JavaScript (ES6+), React/Redux, ...   \n",
       "\n",
       "                                      Responsibilities  \\\n",
       "457  [Develop and maintain full-stack applications ...   \n",
       "347  [Analyze small datasets to extract insights, B...   \n",
       "639  [Assist senior engineers on projects, Help con...   \n",
       "833  [Assist in setting up monitoring dashboards, S...   \n",
       "437  [Design and develop advanced frontend applicat...   \n",
       "\n",
       "                                              Keywords  \n",
       "457  [Full Stack Developer, Experienced, Mid-Level,...  \n",
       "347  [Data Scientist, Python, R, SQL, Machine Learn...  \n",
       "639          [Internship, Cisco IOS, Subnetting, DHCP]  \n",
       "833  [Python, Bash, Linux, Docker, Kubernetes, AWS,...  \n",
       "437  [Frontend, Web Application Development, Mid-Se...  "
      ]
     },
     "execution_count": 4,
     "metadata": {},
     "output_type": "execute_result"
    }
   ],
   "source": [
    "df_raw.sample(n=5, random_state=1)"
   ]
  },
  {
   "cell_type": "code",
   "execution_count": 5,
   "id": "7993f40f",
   "metadata": {},
   "outputs": [
    {
     "data": {
      "application/vnd.microsoft.datawrangler.viewer.v0+json": {
       "columns": [
        {
         "name": "index",
         "rawType": "object",
         "type": "string"
        },
        {
         "name": "0",
         "rawType": "int64",
         "type": "integer"
        }
       ],
       "ref": "6c373dbb-ec90-4311-8525-b73e7005d2c7",
       "rows": [
        [
         "Title",
         "1"
        ],
        [
         "JobID",
         "0"
        ],
        [
         "ExperienceLevel",
         "0"
        ],
        [
         "YearsOfExperience",
         "0"
        ],
        [
         "Skills",
         "0"
        ],
        [
         "Responsibilities",
         "0"
        ],
        [
         "Keywords",
         "0"
        ]
       ],
       "shape": {
        "columns": 1,
        "rows": 7
       }
      },
      "text/plain": [
       "Title                1\n",
       "JobID                0\n",
       "ExperienceLevel      0\n",
       "YearsOfExperience    0\n",
       "Skills               0\n",
       "Responsibilities     0\n",
       "Keywords             0\n",
       "dtype: int64"
      ]
     },
     "execution_count": 5,
     "metadata": {},
     "output_type": "execute_result"
    }
   ],
   "source": [
    "df_raw.isnull().sum().sort_values(ascending=False)"
   ]
  },
  {
   "cell_type": "code",
   "execution_count": 6,
   "id": "f4c27d61",
   "metadata": {},
   "outputs": [
    {
     "name": "stdout",
     "output_type": "stream",
     "text": [
      "Duplicated rows: 0\n"
     ]
    }
   ],
   "source": [
    "# Duplicated only in the principal columns\n",
    "duplicates = df_raw.duplicated(subset=([\"Title\", \"JobID\"])).sum()\n",
    "\n",
    "print(f\"Duplicated rows: {duplicates}\")"
   ]
  },
  {
   "cell_type": "markdown",
   "id": "7a26091d",
   "metadata": {},
   "source": [
    "## Catgorical distribution\n",
    "\n",
    "We are going to explore the count in each level for the categorical variables: ExperienceLevel, YearsOfExperience, Skills, Keywords"
   ]
  },
  {
   "cell_type": "markdown",
   "id": "12d50a5d",
   "metadata": {},
   "source": [
    "### Experience level\n",
    "\n",
    "There are some equivalent categories. The idea is grop them into few labels."
   ]
  },
  {
   "cell_type": "code",
   "execution_count": 7,
   "id": "f7d44397",
   "metadata": {},
   "outputs": [
    {
     "name": "stdout",
     "output_type": "stream",
     "text": [
      "['Fresher' 'Experienced' 'Entry-Level' 'Mid-Senior Level' 'Senior-Level'\n",
      " 'Mid-Level' 'Mid-Senior' 'Senior' 'Junior' 'Mid-level' 'Lead']\n"
     ]
    }
   ],
   "source": [
    "print(df_raw[\"ExperienceLevel\"].unique())"
   ]
  },
  {
   "cell_type": "code",
   "execution_count": 8,
   "id": "85ffab6a",
   "metadata": {},
   "outputs": [
    {
     "name": "stdout",
     "output_type": "stream",
     "text": [
      "['Entry' 'Senior' 'Mid-Senior' 'Mid']\n"
     ]
    }
   ],
   "source": [
    "mapping = {\n",
    "    \"Fresher\": \"Entry\",\n",
    "    \"Entry-Level\": \"Entry\",\n",
    "    \"Junior\": \"Entry\",\n",
    "\n",
    "    \"Mid-Level\": \"Mid\",\n",
    "    \"Mid-level\": \"Mid\",\n",
    "\n",
    "    \"Mid-Senior Level\": \"Mid-Senior\",\n",
    "    \"Mid-Senior\": \"Mid-Senior\",\n",
    "\n",
    "    \"Experienced\": \"Senior\",\n",
    "    \"Senior-Level\": \"Senior\",\n",
    "    \"Senior\": \"Senior\",\n",
    "    \"Lead\": \"Senior\",   \n",
    "}\n",
    "\n",
    "# New column\n",
    "df_raw[\"ExperienceLevel_clean\"] = (\n",
    "    df_raw[\"ExperienceLevel\"]\n",
    "    .str.strip()\n",
    "    .replace(mapping)\n",
    "    .fillna(\"Other\")\n",
    ")\n",
    "\n",
    "print(df_raw[\"ExperienceLevel_clean\"].unique())"
   ]
  },
  {
   "cell_type": "code",
   "execution_count": 9,
   "id": "dabeff1e",
   "metadata": {},
   "outputs": [
    {
     "name": "stderr",
     "output_type": "stream",
     "text": [
      "C:\\Users\\arual\\AppData\\Local\\Temp\\ipykernel_76892\\1005270698.py:5: FutureWarning: \n",
      "\n",
      "Passing `palette` without assigning `hue` is deprecated and will be removed in v0.14.0. Assign the `y` variable to `hue` and set `legend=False` for the same effect.\n",
      "\n",
      "  sns.countplot(\n"
     ]
    },
    {
     "data": {
      "text/plain": [
       "Text(0, 0.5, 'Experience Level')"
      ]
     },
     "execution_count": 9,
     "metadata": {},
     "output_type": "execute_result"
    },
    {
     "data": {
      "image/png": "[encoded data removed]",
      "text/plain": [
       "<Figure size 1000x500 with 1 Axes>"
      ]
     },
     "metadata": {},
     "output_type": "display_data"
    }
   ],
   "source": [
    "# ExperienceLevel_clean and YearsOfExperience\n",
    "\n",
    "fig, ax = plt.subplots(figsize=(10, 5))\n",
    "\n",
    "sns.countplot(\n",
    "    y=\"ExperienceLevel_clean\",\n",
    "    data=df_raw,\n",
    "    order=df_raw[\"ExperienceLevel_clean\"].value_counts().index,\n",
    "    ax=ax,\n",
    "    palette=\"Blues_r\"\n",
    ")\n",
    "\n",
    "# Add counts on bars\n",
    "for container in ax.containers:\n",
    "    ax.bar_label(container, fmt='%d', label_type='edge', padding=3, fontsize=9, color='black')\n",
    "\n",
    "ax.set_title(\"Distribution of Experience Levels\")\n",
    "ax.set_xlabel(\"Count\")\n",
    "ax.set_ylabel(\"Experience Level\")"
   ]
  },
  {
   "cell_type": "markdown",
   "id": "5b335527",
   "metadata": {},
   "source": [
    "### Years Of Experience\n",
    "\n",
    "The codification of this column is very mixed. As it is related with the level, we are going to explore both variables together in order to make a cetegorization"
   ]
  },
  {
   "cell_type": "code",
   "execution_count": 10,
   "id": "3c6e41be",
   "metadata": {},
   "outputs": [
    {
     "data": {
      "application/vnd.microsoft.datawrangler.viewer.v0+json": {
       "columns": [
        {
         "name": "index",
         "rawType": "int64",
         "type": "integer"
        },
        {
         "name": "ExperienceLevel_clean",
         "rawType": "object",
         "type": "string"
        },
        {
         "name": "YearsOfExperience",
         "rawType": "object",
         "type": "string"
        },
        {
         "name": "Count",
         "rawType": "int64",
         "type": "integer"
        }
       ],
       "ref": "168cf582-9a8a-4f18-bba3-a552adca2080",
       "rows": [
        [
         "0",
         "Entry",
         "0",
         "48"
        ],
        [
         "1",
         "Entry",
         "0-1",
         "247"
        ],
        [
         "2",
         "Entry",
         "0-1 Years",
         "10"
        ],
        [
         "3",
         "Entry",
         "0-2",
         "25"
        ],
        [
         "4",
         "Entry",
         "0–1 year",
         "104"
        ],
        [
         "5",
         "Mid",
         "2-4",
         "5"
        ],
        [
         "6",
         "Mid",
         "2-5",
         "35"
        ],
        [
         "7",
         "Mid",
         "3-5",
         "9"
        ],
        [
         "8",
         "Mid",
         "3-6",
         "12"
        ],
        [
         "9",
         "Mid",
         "4-6",
         "1"
        ],
        [
         "10",
         "Mid",
         "4-7",
         "3"
        ],
        [
         "11",
         "Mid-Senior",
         "3-6",
         "2"
        ],
        [
         "12",
         "Mid-Senior",
         "3–6 years",
         "2"
        ],
        [
         "13",
         "Mid-Senior",
         "4–7 years",
         "1"
        ],
        [
         "14",
         "Senior",
         "1-2 years",
         "1"
        ],
        [
         "15",
         "Senior",
         "10",
         "1"
        ],
        [
         "16",
         "Senior",
         "10+",
         "12"
        ],
        [
         "17",
         "Senior",
         "10+ years",
         "2"
        ],
        [
         "18",
         "Senior",
         "10-14",
         "1"
        ],
        [
         "19",
         "Senior",
         "10-15",
         "3"
        ],
        [
         "20",
         "Senior",
         "11+",
         "7"
        ],
        [
         "21",
         "Senior",
         "11-15",
         "1"
        ],
        [
         "22",
         "Senior",
         "12",
         "1"
        ],
        [
         "23",
         "Senior",
         "12+",
         "7"
        ],
        [
         "24",
         "Senior",
         "12-15",
         "3"
        ],
        [
         "25",
         "Senior",
         "12-16",
         "1"
        ],
        [
         "26",
         "Senior",
         "13+",
         "6"
        ],
        [
         "27",
         "Senior",
         "13-15",
         "1"
        ],
        [
         "28",
         "Senior",
         "13-16",
         "1"
        ],
        [
         "29",
         "Senior",
         "13-17",
         "1"
        ],
        [
         "30",
         "Senior",
         "14+",
         "4"
        ],
        [
         "31",
         "Senior",
         "14-18",
         "2"
        ],
        [
         "32",
         "Senior",
         "15+",
         "10"
        ],
        [
         "33",
         "Senior",
         "15-20",
         "4"
        ],
        [
         "34",
         "Senior",
         "16+",
         "4"
        ],
        [
         "35",
         "Senior",
         "16-20",
         "1"
        ],
        [
         "36",
         "Senior",
         "17+",
         "3"
        ],
        [
         "37",
         "Senior",
         "18+",
         "1"
        ],
        [
         "38",
         "Senior",
         "18-20",
         "1"
        ],
        [
         "39",
         "Senior",
         "1–3 years",
         "1"
        ],
        [
         "40",
         "Senior",
         "2",
         "4"
        ],
        [
         "41",
         "Senior",
         "2 years",
         "1"
        ],
        [
         "42",
         "Senior",
         "2-3",
         "2"
        ],
        [
         "43",
         "Senior",
         "2-3 years",
         "1"
        ],
        [
         "44",
         "Senior",
         "2-4",
         "1"
        ],
        [
         "45",
         "Senior",
         "2-4 Years",
         "1"
        ],
        [
         "46",
         "Senior",
         "2-5 Years",
         "1"
        ],
        [
         "47",
         "Senior",
         "2–4 years",
         "4"
        ],
        [
         "48",
         "Senior",
         "3",
         "7"
        ],
        [
         "49",
         "Senior",
         "3 years",
         "1"
        ]
       ],
       "shape": {
        "columns": 3,
        "rows": 117
       }
      },
      "text/html": [
       "<div>\n",
       "<style scoped>\n",
       "    .dataframe tbody tr th:only-of-type {\n",
       "        vertical-align: middle;\n",
       "    }\n",
       "\n",
       "    .dataframe tbody tr th {\n",
       "        vertical-align: top;\n",
       "    }\n",
       "\n",
       "    .dataframe thead th {\n",
       "        text-align: right;\n",
       "    }\n",
       "</style>\n",
       "<table border=\"1\" class=\"dataframe\">\n",
       "  <thead>\n",
       "    <tr style=\"text-align: right;\">\n",
       "      <th></th>\n",
       "      <th>ExperienceLevel_clean</th>\n",
       "      <th>YearsOfExperience</th>\n",
       "      <th>Count</th>\n",
       "    </tr>\n",
       "  </thead>\n",
       "  <tbody>\n",
       "    <tr>\n",
       "      <th>0</th>\n",
       "      <td>Entry</td>\n",
       "      <td>0</td>\n",
       "      <td>48</td>\n",
       "    </tr>\n",
       "    <tr>\n",
       "      <th>1</th>\n",
       "      <td>Entry</td>\n",
       "      <td>0-1</td>\n",
       "      <td>247</td>\n",
       "    </tr>\n",
       "    <tr>\n",
       "      <th>2</th>\n",
       "      <td>Entry</td>\n",
       "      <td>0-1 Years</td>\n",
       "      <td>10</td>\n",
       "    </tr>\n",
       "    <tr>\n",
       "      <th>3</th>\n",
       "      <td>Entry</td>\n",
       "      <td>0-2</td>\n",
       "      <td>25</td>\n",
       "    </tr>\n",
       "    <tr>\n",
       "      <th>4</th>\n",
       "      <td>Entry</td>\n",
       "      <td>0–1 year</td>\n",
       "      <td>104</td>\n",
       "    </tr>\n",
       "    <tr>\n",
       "      <th>...</th>\n",
       "      <td>...</td>\n",
       "      <td>...</td>\n",
       "      <td>...</td>\n",
       "    </tr>\n",
       "    <tr>\n",
       "      <th>112</th>\n",
       "      <td>Senior</td>\n",
       "      <td>8–10 years</td>\n",
       "      <td>1</td>\n",
       "    </tr>\n",
       "    <tr>\n",
       "      <th>113</th>\n",
       "      <td>Senior</td>\n",
       "      <td>9</td>\n",
       "      <td>2</td>\n",
       "    </tr>\n",
       "    <tr>\n",
       "      <th>114</th>\n",
       "      <td>Senior</td>\n",
       "      <td>9+</td>\n",
       "      <td>8</td>\n",
       "    </tr>\n",
       "    <tr>\n",
       "      <th>115</th>\n",
       "      <td>Senior</td>\n",
       "      <td>9-12</td>\n",
       "      <td>3</td>\n",
       "    </tr>\n",
       "    <tr>\n",
       "      <th>116</th>\n",
       "      <td>Senior</td>\n",
       "      <td>9–12 years</td>\n",
       "      <td>1</td>\n",
       "    </tr>\n",
       "  </tbody>\n",
       "</table>\n",
       "<p>117 rows × 3 columns</p>\n",
       "</div>"
      ],
      "text/plain": [
       "    ExperienceLevel_clean YearsOfExperience  Count\n",
       "0                   Entry                 0     48\n",
       "1                   Entry               0-1    247\n",
       "2                   Entry         0-1 Years     10\n",
       "3                   Entry               0-2     25\n",
       "4                   Entry          0–1 year    104\n",
       "..                    ...               ...    ...\n",
       "112                Senior        8–10 years      1\n",
       "113                Senior                 9      2\n",
       "114                Senior                9+      8\n",
       "115                Senior              9-12      3\n",
       "116                Senior        9–12 years      1\n",
       "\n",
       "[117 rows x 3 columns]"
      ]
     },
     "execution_count": 10,
     "metadata": {},
     "output_type": "execute_result"
    }
   ],
   "source": [
    "exp_summary = (\n",
    "    df_raw\n",
    "    .groupby([\"ExperienceLevel_clean\", \"YearsOfExperience\"])\n",
    "    .size()\n",
    "    .reset_index(name=\"Count\")\n",
    "    .sort_values(by=[\"ExperienceLevel_clean\", \"YearsOfExperience\"])\n",
    ")\n",
    "\n",
    "exp_summary\n",
    "\n"
   ]
  },
  {
   "cell_type": "code",
   "execution_count": null,
   "id": "e1ac4d0e",
   "metadata": {},
   "outputs": [],
   "source": [
    "def years_to_number(x):\n",
    "    if pd.isna(x):\n",
    "        return np.nan\n",
    "    s = str(x)\n",
    "    # limpiar texto\n",
    "    s = re.sub(r'(?i)\\byears?\\b', '', s)  # quita 'year'/'years'\n",
    "    s = s.replace('–', '-')               # normaliza en-dash\n",
    "    s = re.sub(r'\\s+', ' ', s).strip()    # colapsa espacios\n",
    "    \n",
    "    # tomar SIEMPRE el primer número que aparezca (rango 3-4 -> 3; 10+ -> 10)\n",
    "    m = re.search(r'\\d+(\\.\\d+)?', s)\n",
    "    return float(m.group(0)) if m else np.nan\n",
    "\n",
    "# aplicar\n",
    "df_raw[\"Years_num\"] = df_raw[\"YearsOfExperience\"].apply(years_to_number)\n",
    "\n",
    "# si prefieres enteros (manteniendo NaN):\n",
    "df_raw[\"Years_num\"] = pd.to_numeric(df_raw[\"Years_num\"], errors=\"coerce\").astype(\"Int64\")\n",
    "\n"
   ]
  },
  {
   "cell_type": "code",
   "execution_count": 14,
   "id": "710586ae",
   "metadata": {},
   "outputs": [
    {
     "data": {
      "application/vnd.microsoft.datawrangler.viewer.v0+json": {
       "columns": [
        {
         "name": "index",
         "rawType": "int64",
         "type": "integer"
        },
        {
         "name": "ExperienceLevel_clean",
         "rawType": "object",
         "type": "string"
        },
        {
         "name": "Years_num",
         "rawType": "Int64",
         "type": "integer"
        },
        {
         "name": "Count",
         "rawType": "int64",
         "type": "integer"
        }
       ],
       "ref": "0bdd081d-57a7-4afc-a78e-7e764c952ebc",
       "rows": [
        [
         "0",
         "Entry",
         "0",
         "434"
        ],
        [
         "1",
         "Mid",
         "2",
         "40"
        ],
        [
         "2",
         "Mid",
         "3",
         "21"
        ],
        [
         "3",
         "Mid",
         "4",
         "4"
        ],
        [
         "4",
         "Mid-Senior",
         "3",
         "4"
        ],
        [
         "5",
         "Mid-Senior",
         "4",
         "1"
        ],
        [
         "6",
         "Senior",
         "1",
         "2"
        ],
        [
         "7",
         "Senior",
         "2",
         "15"
        ],
        [
         "8",
         "Senior",
         "3",
         "70"
        ],
        [
         "9",
         "Senior",
         "4",
         "69"
        ],
        [
         "10",
         "Senior",
         "5",
         "171"
        ],
        [
         "11",
         "Senior",
         "6",
         "81"
        ],
        [
         "12",
         "Senior",
         "7",
         "41"
        ],
        [
         "13",
         "Senior",
         "8",
         "23"
        ],
        [
         "14",
         "Senior",
         "9",
         "14"
        ],
        [
         "15",
         "Senior",
         "10",
         "19"
        ],
        [
         "16",
         "Senior",
         "11",
         "8"
        ],
        [
         "17",
         "Senior",
         "12",
         "12"
        ],
        [
         "18",
         "Senior",
         "13",
         "9"
        ],
        [
         "19",
         "Senior",
         "14",
         "6"
        ],
        [
         "20",
         "Senior",
         "15",
         "14"
        ],
        [
         "21",
         "Senior",
         "16",
         "5"
        ],
        [
         "22",
         "Senior",
         "17",
         "3"
        ],
        [
         "23",
         "Senior",
         "18",
         "2"
        ]
       ],
       "shape": {
        "columns": 3,
        "rows": 24
       }
      },
      "text/html": [
       "<div>\n",
       "<style scoped>\n",
       "    .dataframe tbody tr th:only-of-type {\n",
       "        vertical-align: middle;\n",
       "    }\n",
       "\n",
       "    .dataframe tbody tr th {\n",
       "        vertical-align: top;\n",
       "    }\n",
       "\n",
       "    .dataframe thead th {\n",
       "        text-align: right;\n",
       "    }\n",
       "</style>\n",
       "<table border=\"1\" class=\"dataframe\">\n",
       "  <thead>\n",
       "    <tr style=\"text-align: right;\">\n",
       "      <th></th>\n",
       "      <th>ExperienceLevel_clean</th>\n",
       "      <th>Years_num</th>\n",
       "      <th>Count</th>\n",
       "    </tr>\n",
       "  </thead>\n",
       "  <tbody>\n",
       "    <tr>\n",
       "      <th>0</th>\n",
       "      <td>Entry</td>\n",
       "      <td>0</td>\n",
       "      <td>434</td>\n",
       "    </tr>\n",
       "    <tr>\n",
       "      <th>1</th>\n",
       "      <td>Mid</td>\n",
       "      <td>2</td>\n",
       "      <td>40</td>\n",
       "    </tr>\n",
       "    <tr>\n",
       "      <th>2</th>\n",
       "      <td>Mid</td>\n",
       "      <td>3</td>\n",
       "      <td>21</td>\n",
       "    </tr>\n",
       "    <tr>\n",
       "      <th>3</th>\n",
       "      <td>Mid</td>\n",
       "      <td>4</td>\n",
       "      <td>4</td>\n",
       "    </tr>\n",
       "    <tr>\n",
       "      <th>4</th>\n",
       "      <td>Mid-Senior</td>\n",
       "      <td>3</td>\n",
       "      <td>4</td>\n",
       "    </tr>\n",
       "    <tr>\n",
       "      <th>5</th>\n",
       "      <td>Mid-Senior</td>\n",
       "      <td>4</td>\n",
       "      <td>1</td>\n",
       "    </tr>\n",
       "    <tr>\n",
       "      <th>6</th>\n",
       "      <td>Senior</td>\n",
       "      <td>1</td>\n",
       "      <td>2</td>\n",
       "    </tr>\n",
       "    <tr>\n",
       "      <th>7</th>\n",
       "      <td>Senior</td>\n",
       "      <td>2</td>\n",
       "      <td>15</td>\n",
       "    </tr>\n",
       "    <tr>\n",
       "      <th>8</th>\n",
       "      <td>Senior</td>\n",
       "      <td>3</td>\n",
       "      <td>70</td>\n",
       "    </tr>\n",
       "    <tr>\n",
       "      <th>9</th>\n",
       "      <td>Senior</td>\n",
       "      <td>4</td>\n",
       "      <td>69</td>\n",
       "    </tr>\n",
       "    <tr>\n",
       "      <th>10</th>\n",
       "      <td>Senior</td>\n",
       "      <td>5</td>\n",
       "      <td>171</td>\n",
       "    </tr>\n",
       "    <tr>\n",
       "      <th>11</th>\n",
       "      <td>Senior</td>\n",
       "      <td>6</td>\n",
       "      <td>81</td>\n",
       "    </tr>\n",
       "    <tr>\n",
       "      <th>12</th>\n",
       "      <td>Senior</td>\n",
       "      <td>7</td>\n",
       "      <td>41</td>\n",
       "    </tr>\n",
       "    <tr>\n",
       "      <th>13</th>\n",
       "      <td>Senior</td>\n",
       "      <td>8</td>\n",
       "      <td>23</td>\n",
       "    </tr>\n",
       "    <tr>\n",
       "      <th>14</th>\n",
       "      <td>Senior</td>\n",
       "      <td>9</td>\n",
       "      <td>14</td>\n",
       "    </tr>\n",
       "    <tr>\n",
       "      <th>15</th>\n",
       "      <td>Senior</td>\n",
       "      <td>10</td>\n",
       "      <td>19</td>\n",
       "    </tr>\n",
       "    <tr>\n",
       "      <th>16</th>\n",
       "      <td>Senior</td>\n",
       "      <td>11</td>\n",
       "      <td>8</td>\n",
       "    </tr>\n",
       "    <tr>\n",
       "      <th>17</th>\n",
       "      <td>Senior</td>\n",
       "      <td>12</td>\n",
       "      <td>12</td>\n",
       "    </tr>\n",
       "    <tr>\n",
       "      <th>18</th>\n",
       "      <td>Senior</td>\n",
       "      <td>13</td>\n",
       "      <td>9</td>\n",
       "    </tr>\n",
       "    <tr>\n",
       "      <th>19</th>\n",
       "      <td>Senior</td>\n",
       "      <td>14</td>\n",
       "      <td>6</td>\n",
       "    </tr>\n",
       "    <tr>\n",
       "      <th>20</th>\n",
       "      <td>Senior</td>\n",
       "      <td>15</td>\n",
       "      <td>14</td>\n",
       "    </tr>\n",
       "    <tr>\n",
       "      <th>21</th>\n",
       "      <td>Senior</td>\n",
       "      <td>16</td>\n",
       "      <td>5</td>\n",
       "    </tr>\n",
       "    <tr>\n",
       "      <th>22</th>\n",
       "      <td>Senior</td>\n",
       "      <td>17</td>\n",
       "      <td>3</td>\n",
       "    </tr>\n",
       "    <tr>\n",
       "      <th>23</th>\n",
       "      <td>Senior</td>\n",
       "      <td>18</td>\n",
       "      <td>2</td>\n",
       "    </tr>\n",
       "  </tbody>\n",
       "</table>\n",
       "</div>"
      ],
      "text/plain": [
       "   ExperienceLevel_clean  Years_num  Count\n",
       "0                  Entry          0    434\n",
       "1                    Mid          2     40\n",
       "2                    Mid          3     21\n",
       "3                    Mid          4      4\n",
       "4             Mid-Senior          3      4\n",
       "5             Mid-Senior          4      1\n",
       "6                 Senior          1      2\n",
       "7                 Senior          2     15\n",
       "8                 Senior          3     70\n",
       "9                 Senior          4     69\n",
       "10                Senior          5    171\n",
       "11                Senior          6     81\n",
       "12                Senior          7     41\n",
       "13                Senior          8     23\n",
       "14                Senior          9     14\n",
       "15                Senior         10     19\n",
       "16                Senior         11      8\n",
       "17                Senior         12     12\n",
       "18                Senior         13      9\n",
       "19                Senior         14      6\n",
       "20                Senior         15     14\n",
       "21                Senior         16      5\n",
       "22                Senior         17      3\n",
       "23                Senior         18      2"
      ]
     },
     "execution_count": 14,
     "metadata": {},
     "output_type": "execute_result"
    }
   ],
   "source": [
    "year_summary = (\n",
    "    df_raw\n",
    "    .groupby([\"ExperienceLevel_clean\", \"Years_num\"])\n",
    "    .size()\n",
    "    .reset_index(name=\"Count\")\n",
    "    .sort_values(by=[\"ExperienceLevel_clean\", \"Years_num\"])\n",
    ")\n",
    "\n",
    "year_summary"
   ]
  },
  {
   "cell_type": "code",
   "execution_count": 25,
   "id": "68e115be",
   "metadata": {},
   "outputs": [
    {
     "data": {
      "image/png": "[encoded data removed]",
      "text/plain": [
       "<Figure size 1200x500 with 2 Axes>"
      ]
     },
     "metadata": {},
     "output_type": "display_data"
    }
   ],
   "source": [
    "\n",
    "# Partimos de year_summary (ExperienceLevel_clean, Years_num, Count)\n",
    "ys = year_summary.dropna(subset=[\"Years_num\"]).copy()\n",
    "ys[\"Years_num\"] = ys[\"Years_num\"].astype(int)\n",
    "\n",
    "# Pivot de conteos\n",
    "pivot_counts = (\n",
    "    ys.pivot(index=\"ExperienceLevel_clean\", columns=\"Years_num\", values=\"Count\")\n",
    "      .fillna(0)\n",
    ")\n",
    "\n",
    "# Ordenar columnas (años) de menor a mayor\n",
    "pivot_counts = pivot_counts.reindex(sorted(pivot_counts.columns), axis=1)\n",
    "\n",
    "# Normalización por fila: cada fila se escala por su máximo (min-max row-wise)\n",
    "row_max = pivot_counts.max(axis=1).replace(0, np.nan)  # evita división por 0\n",
    "pivot_norm = pivot_counts.div(row_max, axis=0).fillna(0)\n",
    "\n",
    "plt.figure(figsize=(12, 5))\n",
    "\n",
    "# Heatmap usando valores normalizados (0–1) para el color\n",
    "ax = sns.heatmap(\n",
    "    pivot_norm,\n",
    "    cmap=\"Blues\",          # prueba también: \"viridis\", \"rocket_r\", \"cividis\"\n",
    "    vmin=0, vmax=1,\n",
    "    annot=pivot_counts.astype(int),  # anotamos el conteo real\n",
    "    fmt=\"d\",\n",
    "    cbar_kws={\"label\": \"Intensidad normalizada por fila (0–1)\"}\n",
    ")\n",
    "\n",
    "ax.set_title(\"Experience Level vs. Years of Experience\\n(Intensidad normalizada por fila, anotado el Count)\")\n",
    "ax.set_xlabel(\"Years of Experience\")\n",
    "ax.set_ylabel(\"Experience Level\")\n",
    "plt.tight_layout()\n",
    "plt.show()\n"
   ]
  },
  {
   "cell_type": "markdown",
   "id": "ed420d85",
   "metadata": {},
   "source": [
    "Now is easier explore"
   ]
  },
  {
   "cell_type": "markdown",
   "id": "9755efe5",
   "metadata": {},
   "source": [
    "\n",
    "\n",
    "\n",
    "\n",
    "3️⃣ Distribución de categorías\n",
    "\n",
    "Número de registros por Job Category, Industry, Job Title.\n",
    "\n",
    "Visualización (barras o donut chart) de Tech vs Non-Tech.\n",
    "\n",
    "Conteo de descripciones por país o región si existe la columna.\n",
    "\n",
    "4️⃣ Longitud y estructura del texto\n",
    "\n",
    "Histograma de longitud de descripciones (len(text.split())).\n",
    "\n",
    "Detección de textos vacíos o extremadamente cortos/largos.\n",
    "\n",
    "Boxplot de longitud por categoría.\n",
    "\n",
    "5️⃣ Primer vistazo léxico\n",
    "\n",
    "Nube de palabras por categoría (sin limpieza profunda todavía).\n",
    "\n",
    "Top 30 palabras más frecuentes por tipo de rol.\n",
    "\n",
    "Distribución de longitud media de palabras y frases.\n",
    "\n",
    "6️⃣ Insights iniciales\n",
    "\n",
    "Diferencias lingüísticas básicas entre Tech y Non-Tech.\n",
    "\n",
    "Observaciones sobre calidad del dataset (ej. descripciones repetidas o incompletas).\n",
    "\n",
    "Recomendaciones para el notebook siguiente (02_cleaning.ipynb).\n",
    "\n",
    "7️⃣ Guardado de resultados\n",
    "\n",
    "Exportar dataset limpio sin duplicados a data/processed/exploration_base.csv.\n",
    "\n",
    "Guardar algunas métricas iniciales (ej. summary_stats.json)."
   ]
  }
 ],
 "metadata": {
  "kernelspec": {
   "display_name": "env",
   "language": "python",
   "name": "python3"
  },
  "language_info": {
   "codemirror_mode": {
    "name": "ipython",
    "version": 3
   },
   "file_extension": ".py",
   "mimetype": "text/x-python",
   "name": "python",
   "nbconvert_exporter": "python",
   "pygments_lexer": "ipython3",
   "version": "3.13.2"
  }
 },
 "nbformat": 4,
 "nbformat_minor": 5
}
