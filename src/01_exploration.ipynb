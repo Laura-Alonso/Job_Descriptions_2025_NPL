{
 "cells": [
  {
   "cell_type": "markdown",
   "id": "0c396d78",
   "metadata": {},
   "source": [
    "# Initial data exploration and structure\n",
    "\n",
    "The purpose of this notebook is to explore and understand the structure and content of the Job Descriptions 2025 dataset.\n",
    "\n",
    "**Main points**\n",
    "\n",
    "* Assess the quality and completeness of the dataset.\n",
    "* Examine the distribution of job categories (Tech vs. Non-Tech).\n",
    "* Analyze the overall characteristics of the job descriptions, such as text length, vocabulary diversity, and common terms.\n",
    "* Identify potential issues or insights that will guide the next steps in text preprocessing and NLP modeling."
   ]
  },
  {
   "cell_type": "markdown",
   "id": "d9791237",
   "metadata": {},
   "source": [
    "# ⚙️ Configuration"
   ]
  },
  {
   "cell_type": "code",
   "execution_count": 1,
   "id": "c66bfb4e",
   "metadata": {},
   "outputs": [
    {
     "name": "stderr",
     "output_type": "stream",
     "text": [
      "c:\\Users\\arual\\Desktop\\projects\\Job_Descriptions_2025_NPL\\src\\env\\Lib\\site-packages\\tqdm\\auto.py:21: TqdmWarning: IProgress not found. Please update jupyter and ipywidgets. See https://ipywidgets.readthedocs.io/en/stable/user_install.html\n",
      "  from .autonotebook import tqdm as notebook_tqdm\n"
     ]
    }
   ],
   "source": [
    "import kagglehub\n",
    "import pandas as pd\n",
    "import os\n",
    "import matplotlib.pyplot as plt\n",
    "import seaborn as sns\n",
    "import numpy as np\n",
    "import re\n",
    "import ast\n",
    "from sentence_transformers import SentenceTransformer\n",
    "from sklearn.cluster import AgglomerativeClustering\n"
   ]
  },
  {
   "cell_type": "markdown",
   "id": "5df5e6de",
   "metadata": {},
   "source": [
    "# ♻️ Import data\n",
    "\n",
    "The information is stored in a json file. We download the files and open the json one."
   ]
  },
  {
   "cell_type": "code",
   "execution_count": 2,
   "id": "9e98d709",
   "metadata": {},
   "outputs": [],
   "source": [
    "# Download data from Kaggle\n",
    "path = kagglehub.dataset_download(\"adityarajsrv/job-descriptions-2025-tech-and-non-tech-roles\")\n",
    "\n",
    "# Save in this repository\n",
    "df_raw = pd.read_json(os.path.join(path, \"job_dataset.json\"))"
   ]
  },
  {
   "cell_type": "markdown",
   "id": "bf464663",
   "metadata": {},
   "source": [
    "# 🔍 Data Exploration (EDA)\n",
    "\n",
    "Now were are going to performe an EDA at table level. In the the fild `03_eda_language.ipynb` we will performe a more specific EDA, focus in the linguistic analyse."
   ]
  },
  {
   "cell_type": "markdown",
   "id": "ab95c4f1",
   "metadata": {},
   "source": [
    "## General information\n",
    "\n",
    "We will take a look in the data structure: shape, nulls, duplacated"
   ]
  },
  {
   "cell_type": "code",
   "execution_count": 3,
   "id": "10a9e348",
   "metadata": {},
   "outputs": [
    {
     "name": "stdout",
     "output_type": "stream",
     "text": [
      "Rows: 1,068 | Columns: 7\n"
     ]
    }
   ],
   "source": [
    "print(f\"Rows: {df_raw.shape[0]:,} | Columns: {df_raw.shape[1]}\")"
   ]
  },
  {
   "cell_type": "code",
   "execution_count": 4,
   "id": "fd9dc3a4",
   "metadata": {},
   "outputs": [
    {
     "data": {
      "application/vnd.microsoft.datawrangler.viewer.v0+json": {
       "columns": [
        {
         "name": "index",
         "rawType": "int64",
         "type": "integer"
        },
        {
         "name": "JobID",
         "rawType": "object",
         "type": "string"
        },
        {
         "name": "Title",
         "rawType": "object",
         "type": "string"
        },
        {
         "name": "ExperienceLevel",
         "rawType": "object",
         "type": "string"
        },
        {
         "name": "YearsOfExperience",
         "rawType": "object",
         "type": "string"
        },
        {
         "name": "Skills",
         "rawType": "object",
         "type": "unknown"
        },
        {
         "name": "Responsibilities",
         "rawType": "object",
         "type": "unknown"
        },
        {
         "name": "Keywords",
         "rawType": "object",
         "type": "unknown"
        }
       ],
       "ref": "d4e1f04c-6a66-4bb0-b58d-53261aa80f4a",
       "rows": [
        [
         "457",
         "13",
         "Full Stack Developer - Experienced",
         "Experienced",
         "3–5 years",
         "['HTML5', 'CSS3', 'JavaScript', 'React', 'Angular', 'Vue.js', 'Node.js', 'Django', 'Flask', 'SQL', 'NoSQL', 'Git', 'RESTful API design', 'Docker', 'Kubernetes', 'CI/CD', 'Cloud Platforms', 'Web Security']",
         "['Develop and maintain full-stack applications for fintech and e-commerce', 'Implement frontend interfaces using React, Angular, or Vue.js', 'Build backend services with Node.js or Django', 'Optimize databases', 'Implement CI/CD pipelines', 'Ensure secure authentication', 'Mentor junior developers']",
         "['Full Stack Developer', 'Experienced', 'Mid-Level', 'Frontend', 'Backend', 'Fintech', 'E-commerce', 'Cloud']"
        ],
        [
         "347",
         "DS-F8",
         "Fresher Data Scientist",
         "Fresher",
         "0-1",
         "['Python', 'R', 'SQL', 'Pandas', 'NumPy', 'Matplotlib', 'Seaborn', 'MySQL', 'MongoDB', 'Basic ML: classification, regression, clustering']",
         "['Analyze small datasets to extract insights', 'Build simple predictive models', 'Create visualizations for reports', 'Collaborate with senior data scientists', 'Learn best practices for ML workflows']",
         "['Data Scientist', 'Python', 'R', 'SQL', 'Machine Learning', 'Data Visualization', 'Entry Level']"
        ],
        [
         "639",
         "NE009",
         "Network Intern",
         "Fresher",
         "0",
         "['DHCP', 'Subnetting', 'Cisco IOS', 'VPN Basics']",
         "['Assist senior engineers on projects', 'Help configure routers', 'Learn troubleshooting', 'Participate in training sessions']",
         "['Internship', 'Cisco IOS', 'Subnetting', 'DHCP']"
        ],
        [
         "833",
         "SRE-F-003",
         "Site Reliability Engineer",
         "Fresher",
         "0-1",
         "['Python basics', 'Bash scripting basics', 'Linux administration fundamentals', 'Windows OS basics', 'Introduction to cloud platforms', 'Containerization basics (Docker)', 'Kubernetes basics', 'Basic monitoring (Nagios, Grafana)', 'Networking fundamentals', 'Problem-solving', 'Collaboration', 'Communication', 'Adaptability']",
         "['Assist in setting up monitoring dashboards', 'Support CI/CD pipelines and automation scripts', 'Learn container orchestration with Kubernetes', 'Document incidents and processes', 'Work with senior SREs on troubleshooting tasks']",
         "['Python', 'Bash', 'Linux', 'Docker', 'Kubernetes', 'AWS', 'Monitoring', 'CI/CD', 'Networking', 'Automation']"
        ],
        [
         "437",
         "FE011",
         "Frontend Developer - Experienced",
         "Mid-Senior Level",
         "3–6 years",
         "['HTML5', 'CSS3', 'JavaScript (ES6+)', 'React/Redux', 'Angular', 'Vue.js', 'Performance optimization', 'Unit & E2E testing', 'Git', 'CI/CD']",
         "['Design and develop advanced frontend applications', 'Optimize performance and page speed', 'Implement testing automation', 'Ensure cross-browser compatibility', 'Mentor junior developers']",
         "['Frontend', 'Web Application Development', 'Mid-Senior', 'React', 'UI', 'SPA', 'PWA']"
        ]
       ],
       "shape": {
        "columns": 7,
        "rows": 5
       }
      },
      "text/html": [
       "<div>\n",
       "<style scoped>\n",
       "    .dataframe tbody tr th:only-of-type {\n",
       "        vertical-align: middle;\n",
       "    }\n",
       "\n",
       "    .dataframe tbody tr th {\n",
       "        vertical-align: top;\n",
       "    }\n",
       "\n",
       "    .dataframe thead th {\n",
       "        text-align: right;\n",
       "    }\n",
       "</style>\n",
       "<table border=\"1\" class=\"dataframe\">\n",
       "  <thead>\n",
       "    <tr style=\"text-align: right;\">\n",
       "      <th></th>\n",
       "      <th>JobID</th>\n",
       "      <th>Title</th>\n",
       "      <th>ExperienceLevel</th>\n",
       "      <th>YearsOfExperience</th>\n",
       "      <th>Skills</th>\n",
       "      <th>Responsibilities</th>\n",
       "      <th>Keywords</th>\n",
       "    </tr>\n",
       "  </thead>\n",
       "  <tbody>\n",
       "    <tr>\n",
       "      <th>457</th>\n",
       "      <td>13</td>\n",
       "      <td>Full Stack Developer - Experienced</td>\n",
       "      <td>Experienced</td>\n",
       "      <td>3–5 years</td>\n",
       "      <td>[HTML5, CSS3, JavaScript, React, Angular, Vue....</td>\n",
       "      <td>[Develop and maintain full-stack applications ...</td>\n",
       "      <td>[Full Stack Developer, Experienced, Mid-Level,...</td>\n",
       "    </tr>\n",
       "    <tr>\n",
       "      <th>347</th>\n",
       "      <td>DS-F8</td>\n",
       "      <td>Fresher Data Scientist</td>\n",
       "      <td>Fresher</td>\n",
       "      <td>0-1</td>\n",
       "      <td>[Python, R, SQL, Pandas, NumPy, Matplotlib, Se...</td>\n",
       "      <td>[Analyze small datasets to extract insights, B...</td>\n",
       "      <td>[Data Scientist, Python, R, SQL, Machine Learn...</td>\n",
       "    </tr>\n",
       "    <tr>\n",
       "      <th>639</th>\n",
       "      <td>NE009</td>\n",
       "      <td>Network Intern</td>\n",
       "      <td>Fresher</td>\n",
       "      <td>0</td>\n",
       "      <td>[DHCP, Subnetting, Cisco IOS, VPN Basics]</td>\n",
       "      <td>[Assist senior engineers on projects, Help con...</td>\n",
       "      <td>[Internship, Cisco IOS, Subnetting, DHCP]</td>\n",
       "    </tr>\n",
       "    <tr>\n",
       "      <th>833</th>\n",
       "      <td>SRE-F-003</td>\n",
       "      <td>Site Reliability Engineer</td>\n",
       "      <td>Fresher</td>\n",
       "      <td>0-1</td>\n",
       "      <td>[Python basics, Bash scripting basics, Linux a...</td>\n",
       "      <td>[Assist in setting up monitoring dashboards, S...</td>\n",
       "      <td>[Python, Bash, Linux, Docker, Kubernetes, AWS,...</td>\n",
       "    </tr>\n",
       "    <tr>\n",
       "      <th>437</th>\n",
       "      <td>FE011</td>\n",
       "      <td>Frontend Developer - Experienced</td>\n",
       "      <td>Mid-Senior Level</td>\n",
       "      <td>3–6 years</td>\n",
       "      <td>[HTML5, CSS3, JavaScript (ES6+), React/Redux, ...</td>\n",
       "      <td>[Design and develop advanced frontend applicat...</td>\n",
       "      <td>[Frontend, Web Application Development, Mid-Se...</td>\n",
       "    </tr>\n",
       "  </tbody>\n",
       "</table>\n",
       "</div>"
      ],
      "text/plain": [
       "         JobID                               Title   ExperienceLevel  \\\n",
       "457         13  Full Stack Developer - Experienced       Experienced   \n",
       "347      DS-F8              Fresher Data Scientist           Fresher   \n",
       "639      NE009                      Network Intern           Fresher   \n",
       "833  SRE-F-003           Site Reliability Engineer           Fresher   \n",
       "437      FE011    Frontend Developer - Experienced  Mid-Senior Level   \n",
       "\n",
       "    YearsOfExperience                                             Skills  \\\n",
       "457         3–5 years  [HTML5, CSS3, JavaScript, React, Angular, Vue....   \n",
       "347               0-1  [Python, R, SQL, Pandas, NumPy, Matplotlib, Se...   \n",
       "639                 0          [DHCP, Subnetting, Cisco IOS, VPN Basics]   \n",
       "833               0-1  [Python basics, Bash scripting basics, Linux a...   \n",
       "437         3–6 years  [HTML5, CSS3, JavaScript (ES6+), React/Redux, ...   \n",
       "\n",
       "                                      Responsibilities  \\\n",
       "457  [Develop and maintain full-stack applications ...   \n",
       "347  [Analyze small datasets to extract insights, B...   \n",
       "639  [Assist senior engineers on projects, Help con...   \n",
       "833  [Assist in setting up monitoring dashboards, S...   \n",
       "437  [Design and develop advanced frontend applicat...   \n",
       "\n",
       "                                              Keywords  \n",
       "457  [Full Stack Developer, Experienced, Mid-Level,...  \n",
       "347  [Data Scientist, Python, R, SQL, Machine Learn...  \n",
       "639          [Internship, Cisco IOS, Subnetting, DHCP]  \n",
       "833  [Python, Bash, Linux, Docker, Kubernetes, AWS,...  \n",
       "437  [Frontend, Web Application Development, Mid-Se...  "
      ]
     },
     "execution_count": 4,
     "metadata": {},
     "output_type": "execute_result"
    }
   ],
   "source": [
    "df_raw.sample(n=5, random_state=1)"
   ]
  },
  {
   "cell_type": "code",
   "execution_count": 5,
   "id": "7993f40f",
   "metadata": {},
   "outputs": [
    {
     "data": {
      "application/vnd.microsoft.datawrangler.viewer.v0+json": {
       "columns": [
        {
         "name": "index",
         "rawType": "object",
         "type": "string"
        },
        {
         "name": "0",
         "rawType": "int64",
         "type": "integer"
        }
       ],
       "ref": "e345ddcf-7350-45ac-ac27-6278ceed7c5d",
       "rows": [
        [
         "Title",
         "1"
        ],
        [
         "JobID",
         "0"
        ],
        [
         "ExperienceLevel",
         "0"
        ],
        [
         "YearsOfExperience",
         "0"
        ],
        [
         "Skills",
         "0"
        ],
        [
         "Responsibilities",
         "0"
        ],
        [
         "Keywords",
         "0"
        ]
       ],
       "shape": {
        "columns": 1,
        "rows": 7
       }
      },
      "text/plain": [
       "Title                1\n",
       "JobID                0\n",
       "ExperienceLevel      0\n",
       "YearsOfExperience    0\n",
       "Skills               0\n",
       "Responsibilities     0\n",
       "Keywords             0\n",
       "dtype: int64"
      ]
     },
     "execution_count": 5,
     "metadata": {},
     "output_type": "execute_result"
    }
   ],
   "source": [
    "df_raw.isnull().sum().sort_values(ascending=False)"
   ]
  },
  {
   "cell_type": "code",
   "execution_count": 6,
   "id": "f4c27d61",
   "metadata": {},
   "outputs": [
    {
     "name": "stdout",
     "output_type": "stream",
     "text": [
      "Duplicated rows: 0\n"
     ]
    }
   ],
   "source": [
    "# Duplicated only in the principal columns\n",
    "duplicates = df_raw.duplicated(subset=([\"Title\", \"JobID\"])).sum()\n",
    "\n",
    "print(f\"Duplicated rows: {duplicates}\")"
   ]
  },
  {
   "cell_type": "markdown",
   "id": "4342a64c",
   "metadata": {},
   "source": [
    "### 🧠 General infomation - Conclusions\n",
    "\n",
    "* We are working with 1.068 registers with information in seven columns.\n",
    "* Only one job has no information about Title. The other features are compleate.\n",
    "* No duplicated rows (Title and JobId) were detected.\n",
    "\n",
    "The structure of the data is solid to build any model."
   ]
  },
  {
   "cell_type": "markdown",
   "id": "7a26091d",
   "metadata": {},
   "source": [
    "## Catgorical distribution\n",
    "\n",
    "We are going to explore the count in each level for the categorical variables: ExperienceLevel, YearsOfExperience, Skills, Keywords"
   ]
  },
  {
   "cell_type": "markdown",
   "id": "12d50a5d",
   "metadata": {},
   "source": [
    "### Experience level\n",
    "\n",
    "There are some equivalent categories. The idea is group them into few labels. As there are few labels we will do it using a dictionarie."
   ]
  },
  {
   "cell_type": "code",
   "execution_count": 7,
   "id": "f7d44397",
   "metadata": {},
   "outputs": [
    {
     "name": "stdout",
     "output_type": "stream",
     "text": [
      "Original labels: ['Fresher' 'Experienced' 'Entry-Level' 'Mid-Senior Level' 'Senior-Level'\n",
      " 'Mid-Level' 'Mid-Senior' 'Senior' 'Junior' 'Mid-level' 'Lead']\n"
     ]
    }
   ],
   "source": [
    "print(f'Original labels: {df_raw[\"ExperienceLevel\"].unique()}')"
   ]
  },
  {
   "cell_type": "code",
   "execution_count": 8,
   "id": "85ffab6a",
   "metadata": {},
   "outputs": [
    {
     "name": "stdout",
     "output_type": "stream",
     "text": [
      "Final labels: ['Entry' 'Senior' 'Mid-Senior' 'Mid']\n"
     ]
    }
   ],
   "source": [
    "# Group different labels. \n",
    "mapping = {\n",
    "    \"Fresher\": \"Entry\",\n",
    "    \"Entry-Level\": \"Entry\",\n",
    "    \"Junior\": \"Entry\",\n",
    "\n",
    "    \"Mid-Level\": \"Mid\",\n",
    "    \"Mid-level\": \"Mid\",\n",
    "\n",
    "    \"Mid-Senior Level\": \"Mid-Senior\",\n",
    "    \"Mid-Senior\": \"Mid-Senior\",\n",
    "\n",
    "    \"Experienced\": \"Senior\",\n",
    "    \"Senior-Level\": \"Senior\",\n",
    "    \"Senior\": \"Senior\",\n",
    "    \"Lead\": \"Senior\",   \n",
    "}\n",
    "\n",
    "# Create a new column\n",
    "df_raw[\"ExperienceLevel_clean\"] = (\n",
    "    df_raw[\"ExperienceLevel\"]\n",
    "    .str.strip()\n",
    "    .replace(mapping)\n",
    "    .fillna(\"Other\")\n",
    ")\n",
    "\n",
    "# Result\n",
    "print(f'Final labels: {df_raw[\"ExperienceLevel_clean\"].unique()}')"
   ]
  },
  {
   "cell_type": "code",
   "execution_count": 9,
   "id": "dabeff1e",
   "metadata": {},
   "outputs": [
    {
     "name": "stderr",
     "output_type": "stream",
     "text": [
      "C:\\Users\\arual\\AppData\\Local\\Temp\\ipykernel_28520\\439561191.py:5: FutureWarning: \n",
      "\n",
      "Passing `palette` without assigning `hue` is deprecated and will be removed in v0.14.0. Assign the `y` variable to `hue` and set `legend=False` for the same effect.\n",
      "\n",
      "  sns.countplot(\n"
     ]
    },
    {
     "data": {
      "text/plain": [
       "Text(0, 0.5, 'Experience Level')"
      ]
     },
     "execution_count": 9,
     "metadata": {},
     "output_type": "execute_result"
    },
    {
     "data": {
      "image/png": "[encoded data removed]",
      "text/plain": [
       "<Figure size 800x300 with 1 Axes>"
      ]
     },
     "metadata": {},
     "output_type": "display_data"
    }
   ],
   "source": [
    "# Plot\n",
    "\n",
    "fig, ax = plt.subplots(figsize=(8, 3))\n",
    "\n",
    "sns.countplot(\n",
    "    y=\"ExperienceLevel_clean\",\n",
    "    data=df_raw,\n",
    "    order=df_raw[\"ExperienceLevel_clean\"].value_counts().index,\n",
    "    ax=ax,\n",
    "    palette=\"Blues_r\"\n",
    ")\n",
    "\n",
    "# Add counts on bars\n",
    "for container in ax.containers:\n",
    "    ax.bar_label(container, fmt='%d', label_type='edge', padding=3, fontsize=9, color='black')\n",
    "\n",
    "ax.set_title(\"Distribution of Experience Levels (clean)\")\n",
    "ax.set_xlabel(\"Count\")\n",
    "ax.set_ylabel(\"Experience Level\")"
   ]
  },
  {
   "cell_type": "markdown",
   "id": "5b335527",
   "metadata": {},
   "source": [
    "### Years Of Experience\n",
    "\n",
    "The codification of this column is very mixed. As it is related with the level, we are going to explore both variables together in order to make a cetegorization"
   ]
  },
  {
   "cell_type": "code",
   "execution_count": 10,
   "id": "3c6e41be",
   "metadata": {},
   "outputs": [
    {
     "data": {
      "application/vnd.microsoft.datawrangler.viewer.v0+json": {
       "columns": [
        {
         "name": "index",
         "rawType": "int64",
         "type": "integer"
        },
        {
         "name": "ExperienceLevel_clean",
         "rawType": "object",
         "type": "string"
        },
        {
         "name": "YearsOfExperience",
         "rawType": "object",
         "type": "string"
        },
        {
         "name": "Count",
         "rawType": "int64",
         "type": "integer"
        }
       ],
       "ref": "6377842f-a45c-4bc3-be8e-90a539223773",
       "rows": [
        [
         "0",
         "Entry",
         "0",
         "48"
        ],
        [
         "1",
         "Entry",
         "0-1",
         "247"
        ],
        [
         "2",
         "Entry",
         "0-1 Years",
         "10"
        ],
        [
         "3",
         "Entry",
         "0-2",
         "25"
        ],
        [
         "4",
         "Entry",
         "0–1 year",
         "104"
        ],
        [
         "5",
         "Mid",
         "2-4",
         "5"
        ],
        [
         "6",
         "Mid",
         "2-5",
         "35"
        ],
        [
         "7",
         "Mid",
         "3-5",
         "9"
        ],
        [
         "8",
         "Mid",
         "3-6",
         "12"
        ],
        [
         "9",
         "Mid",
         "4-6",
         "1"
        ],
        [
         "10",
         "Mid",
         "4-7",
         "3"
        ],
        [
         "11",
         "Mid-Senior",
         "3-6",
         "2"
        ],
        [
         "12",
         "Mid-Senior",
         "3–6 years",
         "2"
        ],
        [
         "13",
         "Mid-Senior",
         "4–7 years",
         "1"
        ],
        [
         "14",
         "Senior",
         "1-2 years",
         "1"
        ],
        [
         "15",
         "Senior",
         "10",
         "1"
        ],
        [
         "16",
         "Senior",
         "10+",
         "12"
        ],
        [
         "17",
         "Senior",
         "10+ years",
         "2"
        ],
        [
         "18",
         "Senior",
         "10-14",
         "1"
        ],
        [
         "19",
         "Senior",
         "10-15",
         "3"
        ],
        [
         "20",
         "Senior",
         "11+",
         "7"
        ],
        [
         "21",
         "Senior",
         "11-15",
         "1"
        ],
        [
         "22",
         "Senior",
         "12",
         "1"
        ],
        [
         "23",
         "Senior",
         "12+",
         "7"
        ],
        [
         "24",
         "Senior",
         "12-15",
         "3"
        ],
        [
         "25",
         "Senior",
         "12-16",
         "1"
        ],
        [
         "26",
         "Senior",
         "13+",
         "6"
        ],
        [
         "27",
         "Senior",
         "13-15",
         "1"
        ],
        [
         "28",
         "Senior",
         "13-16",
         "1"
        ],
        [
         "29",
         "Senior",
         "13-17",
         "1"
        ],
        [
         "30",
         "Senior",
         "14+",
         "4"
        ],
        [
         "31",
         "Senior",
         "14-18",
         "2"
        ],
        [
         "32",
         "Senior",
         "15+",
         "10"
        ],
        [
         "33",
         "Senior",
         "15-20",
         "4"
        ],
        [
         "34",
         "Senior",
         "16+",
         "4"
        ],
        [
         "35",
         "Senior",
         "16-20",
         "1"
        ],
        [
         "36",
         "Senior",
         "17+",
         "3"
        ],
        [
         "37",
         "Senior",
         "18+",
         "1"
        ],
        [
         "38",
         "Senior",
         "18-20",
         "1"
        ],
        [
         "39",
         "Senior",
         "1–3 years",
         "1"
        ],
        [
         "40",
         "Senior",
         "2",
         "4"
        ],
        [
         "41",
         "Senior",
         "2 years",
         "1"
        ],
        [
         "42",
         "Senior",
         "2-3",
         "2"
        ],
        [
         "43",
         "Senior",
         "2-3 years",
         "1"
        ],
        [
         "44",
         "Senior",
         "2-4",
         "1"
        ],
        [
         "45",
         "Senior",
         "2-4 Years",
         "1"
        ],
        [
         "46",
         "Senior",
         "2-5 Years",
         "1"
        ],
        [
         "47",
         "Senior",
         "2–4 years",
         "4"
        ],
        [
         "48",
         "Senior",
         "3",
         "7"
        ],
        [
         "49",
         "Senior",
         "3 years",
         "1"
        ]
       ],
       "shape": {
        "columns": 3,
        "rows": 117
       }
      },
      "text/html": [
       "<div>\n",
       "<style scoped>\n",
       "    .dataframe tbody tr th:only-of-type {\n",
       "        vertical-align: middle;\n",
       "    }\n",
       "\n",
       "    .dataframe tbody tr th {\n",
       "        vertical-align: top;\n",
       "    }\n",
       "\n",
       "    .dataframe thead th {\n",
       "        text-align: right;\n",
       "    }\n",
       "</style>\n",
       "<table border=\"1\" class=\"dataframe\">\n",
       "  <thead>\n",
       "    <tr style=\"text-align: right;\">\n",
       "      <th></th>\n",
       "      <th>ExperienceLevel_clean</th>\n",
       "      <th>YearsOfExperience</th>\n",
       "      <th>Count</th>\n",
       "    </tr>\n",
       "  </thead>\n",
       "  <tbody>\n",
       "    <tr>\n",
       "      <th>0</th>\n",
       "      <td>Entry</td>\n",
       "      <td>0</td>\n",
       "      <td>48</td>\n",
       "    </tr>\n",
       "    <tr>\n",
       "      <th>1</th>\n",
       "      <td>Entry</td>\n",
       "      <td>0-1</td>\n",
       "      <td>247</td>\n",
       "    </tr>\n",
       "    <tr>\n",
       "      <th>2</th>\n",
       "      <td>Entry</td>\n",
       "      <td>0-1 Years</td>\n",
       "      <td>10</td>\n",
       "    </tr>\n",
       "    <tr>\n",
       "      <th>3</th>\n",
       "      <td>Entry</td>\n",
       "      <td>0-2</td>\n",
       "      <td>25</td>\n",
       "    </tr>\n",
       "    <tr>\n",
       "      <th>4</th>\n",
       "      <td>Entry</td>\n",
       "      <td>0–1 year</td>\n",
       "      <td>104</td>\n",
       "    </tr>\n",
       "    <tr>\n",
       "      <th>...</th>\n",
       "      <td>...</td>\n",
       "      <td>...</td>\n",
       "      <td>...</td>\n",
       "    </tr>\n",
       "    <tr>\n",
       "      <th>112</th>\n",
       "      <td>Senior</td>\n",
       "      <td>8–10 years</td>\n",
       "      <td>1</td>\n",
       "    </tr>\n",
       "    <tr>\n",
       "      <th>113</th>\n",
       "      <td>Senior</td>\n",
       "      <td>9</td>\n",
       "      <td>2</td>\n",
       "    </tr>\n",
       "    <tr>\n",
       "      <th>114</th>\n",
       "      <td>Senior</td>\n",
       "      <td>9+</td>\n",
       "      <td>8</td>\n",
       "    </tr>\n",
       "    <tr>\n",
       "      <th>115</th>\n",
       "      <td>Senior</td>\n",
       "      <td>9-12</td>\n",
       "      <td>3</td>\n",
       "    </tr>\n",
       "    <tr>\n",
       "      <th>116</th>\n",
       "      <td>Senior</td>\n",
       "      <td>9–12 years</td>\n",
       "      <td>1</td>\n",
       "    </tr>\n",
       "  </tbody>\n",
       "</table>\n",
       "<p>117 rows × 3 columns</p>\n",
       "</div>"
      ],
      "text/plain": [
       "    ExperienceLevel_clean YearsOfExperience  Count\n",
       "0                   Entry                 0     48\n",
       "1                   Entry               0-1    247\n",
       "2                   Entry         0-1 Years     10\n",
       "3                   Entry               0-2     25\n",
       "4                   Entry          0–1 year    104\n",
       "..                    ...               ...    ...\n",
       "112                Senior        8–10 years      1\n",
       "113                Senior                 9      2\n",
       "114                Senior                9+      8\n",
       "115                Senior              9-12      3\n",
       "116                Senior        9–12 years      1\n",
       "\n",
       "[117 rows x 3 columns]"
      ]
     },
     "execution_count": 10,
     "metadata": {},
     "output_type": "execute_result"
    }
   ],
   "source": [
    "exp_summary = (\n",
    "    df_raw\n",
    "    .groupby([\"ExperienceLevel_clean\", \"YearsOfExperience\"])\n",
    "    .size()\n",
    "    .reset_index(name=\"Count\")\n",
    "    .sort_values(by=[\"ExperienceLevel_clean\", \"YearsOfExperience\"])\n",
    ")\n",
    "\n",
    "exp_summary"
   ]
  },
  {
   "cell_type": "code",
   "execution_count": 11,
   "id": "e1ac4d0e",
   "metadata": {},
   "outputs": [
    {
     "name": "stdout",
     "output_type": "stream",
     "text": [
      "Nulls: 0\n"
     ]
    },
    {
     "data": {
      "application/vnd.microsoft.datawrangler.viewer.v0+json": {
       "columns": [
        {
         "name": "index",
         "rawType": "int64",
         "type": "integer"
        },
        {
         "name": "YearsOfExperience",
         "rawType": "object",
         "type": "string"
        },
        {
         "name": "YearsOfExperience_num",
         "rawType": "Int64",
         "type": "integer"
        }
       ],
       "ref": "078ea3f1-556c-42e0-835c-44592f7fde52",
       "rows": [
        [
         "0",
         "0-1",
         "0"
        ],
        [
         "1",
         "0-1",
         "0"
        ],
        [
         "2",
         "0-1",
         "0"
        ],
        [
         "3",
         "0-1",
         "0"
        ],
        [
         "4",
         "0-1",
         "0"
        ],
        [
         "5",
         "0-1",
         "0"
        ],
        [
         "6",
         "0-1",
         "0"
        ],
        [
         "7",
         "0-1",
         "0"
        ],
        [
         "8",
         "0-1",
         "0"
        ],
        [
         "9",
         "0-1",
         "0"
        ],
        [
         "10",
         "3+",
         "3"
        ],
        [
         "11",
         "4+",
         "4"
        ],
        [
         "12",
         "5+",
         "5"
        ],
        [
         "13",
         "3+",
         "3"
        ],
        [
         "14",
         "5+",
         "5"
        ],
        [
         "15",
         "4+",
         "4"
        ],
        [
         "16",
         "3+",
         "3"
        ],
        [
         "17",
         "5+",
         "5"
        ],
        [
         "18",
         "4+",
         "4"
        ],
        [
         "19",
         "5+",
         "5"
        ],
        [
         "20",
         "0–1 year",
         "0"
        ],
        [
         "21",
         "0–1 year",
         "0"
        ],
        [
         "22",
         "0–1 year",
         "0"
        ],
        [
         "23",
         "0–1 year",
         "0"
        ],
        [
         "24",
         "0–1 year",
         "0"
        ],
        [
         "25",
         "0–1 year",
         "0"
        ],
        [
         "26",
         "0–1 year",
         "0"
        ],
        [
         "27",
         "0–1 year",
         "0"
        ],
        [
         "28",
         "0–1 year",
         "0"
        ],
        [
         "29",
         "3–6 years",
         "3"
        ],
        [
         "30",
         "4–7 years",
         "4"
        ],
        [
         "31",
         "5+ years",
         "5"
        ],
        [
         "32",
         "6+ years",
         "6"
        ],
        [
         "33",
         "5–8 years",
         "5"
        ],
        [
         "34",
         "5+ years",
         "5"
        ],
        [
         "35",
         "6+ years",
         "6"
        ],
        [
         "36",
         "5–10 years",
         "5"
        ],
        [
         "37",
         "6+ years",
         "6"
        ],
        [
         "38",
         "5–9 years",
         "5"
        ],
        [
         "39",
         "5+ years",
         "5"
        ],
        [
         "40",
         "0-1",
         "0"
        ],
        [
         "41",
         "0-1",
         "0"
        ],
        [
         "42",
         "0-1",
         "0"
        ],
        [
         "43",
         "0-1",
         "0"
        ],
        [
         "44",
         "0-1",
         "0"
        ],
        [
         "45",
         "0-1",
         "0"
        ],
        [
         "46",
         "0-1",
         "0"
        ],
        [
         "47",
         "0-1",
         "0"
        ],
        [
         "48",
         "0-1",
         "0"
        ],
        [
         "49",
         "0-1",
         "0"
        ]
       ],
       "shape": {
        "columns": 2,
        "rows": 1068
       }
      },
      "text/html": [
       "<div>\n",
       "<style scoped>\n",
       "    .dataframe tbody tr th:only-of-type {\n",
       "        vertical-align: middle;\n",
       "    }\n",
       "\n",
       "    .dataframe tbody tr th {\n",
       "        vertical-align: top;\n",
       "    }\n",
       "\n",
       "    .dataframe thead th {\n",
       "        text-align: right;\n",
       "    }\n",
       "</style>\n",
       "<table border=\"1\" class=\"dataframe\">\n",
       "  <thead>\n",
       "    <tr style=\"text-align: right;\">\n",
       "      <th></th>\n",
       "      <th>YearsOfExperience</th>\n",
       "      <th>YearsOfExperience_num</th>\n",
       "    </tr>\n",
       "  </thead>\n",
       "  <tbody>\n",
       "    <tr>\n",
       "      <th>0</th>\n",
       "      <td>0-1</td>\n",
       "      <td>0</td>\n",
       "    </tr>\n",
       "    <tr>\n",
       "      <th>1</th>\n",
       "      <td>0-1</td>\n",
       "      <td>0</td>\n",
       "    </tr>\n",
       "    <tr>\n",
       "      <th>2</th>\n",
       "      <td>0-1</td>\n",
       "      <td>0</td>\n",
       "    </tr>\n",
       "    <tr>\n",
       "      <th>3</th>\n",
       "      <td>0-1</td>\n",
       "      <td>0</td>\n",
       "    </tr>\n",
       "    <tr>\n",
       "      <th>4</th>\n",
       "      <td>0-1</td>\n",
       "      <td>0</td>\n",
       "    </tr>\n",
       "    <tr>\n",
       "      <th>...</th>\n",
       "      <td>...</td>\n",
       "      <td>...</td>\n",
       "    </tr>\n",
       "    <tr>\n",
       "      <th>1063</th>\n",
       "      <td>5+</td>\n",
       "      <td>5</td>\n",
       "    </tr>\n",
       "    <tr>\n",
       "      <th>1064</th>\n",
       "      <td>4+</td>\n",
       "      <td>4</td>\n",
       "    </tr>\n",
       "    <tr>\n",
       "      <th>1065</th>\n",
       "      <td>5+</td>\n",
       "      <td>5</td>\n",
       "    </tr>\n",
       "    <tr>\n",
       "      <th>1066</th>\n",
       "      <td>4+</td>\n",
       "      <td>4</td>\n",
       "    </tr>\n",
       "    <tr>\n",
       "      <th>1067</th>\n",
       "      <td>5+</td>\n",
       "      <td>5</td>\n",
       "    </tr>\n",
       "  </tbody>\n",
       "</table>\n",
       "<p>1068 rows × 2 columns</p>\n",
       "</div>"
      ],
      "text/plain": [
       "     YearsOfExperience  YearsOfExperience_num\n",
       "0                  0-1                      0\n",
       "1                  0-1                      0\n",
       "2                  0-1                      0\n",
       "3                  0-1                      0\n",
       "4                  0-1                      0\n",
       "...                ...                    ...\n",
       "1063                5+                      5\n",
       "1064                4+                      4\n",
       "1065                5+                      5\n",
       "1066                4+                      4\n",
       "1067                5+                      5\n",
       "\n",
       "[1068 rows x 2 columns]"
      ]
     },
     "execution_count": 11,
     "metadata": {},
     "output_type": "execute_result"
    }
   ],
   "source": [
    "# Clean the feature selecting only the number. If it's a range, we only mantain the first number of the interval.\n",
    "\n",
    "df_raw[\"YearsOfExperience_num\"] = (df_raw[\"YearsOfExperience\"].astype(str).str.extract(r'(\\d+)')[0].astype(\"Int64\")\n",
    ")\n",
    "# Check if nulls\n",
    "print(\"Nulls:\", df_raw[\"YearsOfExperience_num\"].isna().sum())\n",
    "\n",
    "# Comparation\n",
    "df_raw[[\"YearsOfExperience\", \"YearsOfExperience_num\"]]"
   ]
  },
  {
   "cell_type": "code",
   "execution_count": 13,
   "id": "68e115be",
   "metadata": {},
   "outputs": [
    {
     "data": {
      "image/png": "[encoded data removed]",
      "text/plain": [
       "<Figure size 1200x500 with 2 Axes>"
      ]
     },
     "metadata": {},
     "output_type": "display_data"
    }
   ],
   "source": [
    "# Explore the relationship between ExperienceLevel_clean and YearsOfExperience\n",
    "\n",
    "## a. Summary YearsOfExperience_num, ExperienceLevel_clean, Count\n",
    "year_summary = (\n",
    "    df_raw.dropna(subset=[\"ExperienceLevel_clean\", \"YearsOfExperience_num\"])\n",
    "          .groupby([\"ExperienceLevel_clean\", \"YearsOfExperience_num\"])\n",
    "          .size()\n",
    "          .reset_index(name=\"Count\")\n",
    ")\n",
    "ys = year_summary.dropna(subset=[\"YearsOfExperience_num\", \"ExperienceLevel_clean\"]).copy()\n",
    "ys[\"YearsOfExperience_num\"] = ys[\"YearsOfExperience_num\"].astype(int)\n",
    "\n",
    "# # Pivot and sort by years\n",
    "pivot_counts = (\n",
    "    ys.pivot(index=\"ExperienceLevel_clean\", columns=\"YearsOfExperience_num\", values=\"Count\")\n",
    "      .fillna(0)\n",
    "      .reindex(sorted(ys[\"YearsOfExperience_num\"].unique()), axis=1)\n",
    ")\n",
    "\n",
    "# Normalization: for each row we scale by it maximun (it's only for present the color scale by row)\n",
    "pivot_norm = pivot_counts.div(pivot_counts.max(axis=1).replace(0, np.nan), axis=0).fillna(0)\n",
    "\n",
    "# Plot\n",
    "plt.figure(figsize=(12, 5))\n",
    "\n",
    "sns.heatmap(\n",
    "    pivot_norm, cmap=\"Blues\", vmin=0, vmax=1,\n",
    "    annot=pivot_counts.astype(int), fmt=\"d\",\n",
    "    cbar_kws={\"label\": \"Row-normalized intensity (0–1)\"}\n",
    ")\n",
    "plt.title(\"Experience Level vs. Years of Experience\")\n",
    "plt.xlabel(\"Years of Experience\")\n",
    "plt.ylabel(\"Experience Level\")\n",
    "plt.tight_layout()\n",
    "plt.show()\n"
   ]
  },
  {
   "cell_type": "code",
   "execution_count": 14,
   "id": "68975e4b",
   "metadata": {},
   "outputs": [
    {
     "name": "stdout",
     "output_type": "stream",
     "text": [
      "Final labels: ['Entry' 'Senior' 'Mid']\n"
     ]
    }
   ],
   "source": [
    "# Group Mid and Mid-Senior (rewritting ExperienceLevel_clean values)\n",
    "df_raw[\"ExperienceLevel_clean\"] = (\n",
    "    df_raw[\"ExperienceLevel_clean\"]\n",
    "    .replace({\"Mid-Senior\": \"Mid\"})\n",
    ")\n",
    "\n",
    "# Print final labels\n",
    "print(f'Final labels: {df_raw[\"ExperienceLevel_clean\"].unique()}')"
   ]
  },
  {
   "cell_type": "markdown",
   "id": "ed420d85",
   "metadata": {},
   "source": [
    "### Skills\n",
    "\n",
    "Here we have of first challenge. Each job description use different way to name the same skill (ex. JavaScript, JavaScript [E6+], ...). For this reason, we need to standarize names. \n",
    "\n",
    "We are going to use semantic embeddings + unsupervised clustering --> The model undestands the meaning (not only the text similarity):\n",
    "\n",
    "* Embedding: Vector of numbers that represents the meaning of one skill.\n",
    "\n",
    "With this embeddings we can cluster them: similar skilss falls in the same cluster.\n",
    "\n",
    "We use a pretrained model from Sentene Transformers that allows understand semantic similarity between short texts. Specifically, we use all-MiniLM-L6-v2 that has 22M parameters,"
   ]
  },
  {
   "cell_type": "code",
   "execution_count": 15,
   "id": "65798927",
   "metadata": {},
   "outputs": [
    {
     "data": {
      "application/vnd.microsoft.datawrangler.viewer.v0+json": {
       "columns": [
        {
         "name": "index",
         "rawType": "int64",
         "type": "integer"
        },
        {
         "name": "JobID",
         "rawType": "object",
         "type": "string"
        },
        {
         "name": "Title",
         "rawType": "object",
         "type": "unknown"
        },
        {
         "name": "ExperienceLevel",
         "rawType": "object",
         "type": "string"
        },
        {
         "name": "YearsOfExperience",
         "rawType": "object",
         "type": "string"
        },
        {
         "name": "Skills",
         "rawType": "object",
         "type": "unknown"
        },
        {
         "name": "Responsibilities",
         "rawType": "object",
         "type": "unknown"
        },
        {
         "name": "Keywords",
         "rawType": "object",
         "type": "unknown"
        },
        {
         "name": "ExperienceLevel_clean",
         "rawType": "object",
         "type": "string"
        },
        {
         "name": "YearsOfExperience_num",
         "rawType": "Int64",
         "type": "integer"
        },
        {
         "name": "Skill",
         "rawType": "object",
         "type": "string"
        }
       ],
       "ref": "baf443a4-64af-4720-9b17-1c2d04ad905a",
       "rows": [
        [
         "0",
         "NET-F-001",
         ".NET Developer",
         "Fresher",
         "0-1",
         "['C#', 'VB.NET basics', '.NET Framework', '.NET Core fundamentals', 'ASP.NET', 'MVC', 'HTML', 'CSS', 'JavaScript basics', 'SQL Server', 'Entity Framework basics', 'LINQ', 'Visual Studio', 'Git', 'Unit Testing basics']",
         "['Assist in coding and debugging applications', 'Learn and apply .NET Framework and Core fundamentals', 'Support team in building ASP.NET MVC web applications', 'Write basic SQL queries and work with Entity Framework', 'Collaborate with peers to solve issues', 'Participate in code reviews for learning', 'Follow best practices in coding', 'Work with version control (Git)']",
         "['.NET', 'C#', 'ASP.NET MVC', 'Entity Framework', 'SQL Server', 'LINQ', 'Visual Studio', 'Unit Testing']",
         "Entry",
         "0",
         "C#"
        ],
        [
         "0",
         "NET-F-001",
         ".NET Developer",
         "Fresher",
         "0-1",
         "['C#', 'VB.NET basics', '.NET Framework', '.NET Core fundamentals', 'ASP.NET', 'MVC', 'HTML', 'CSS', 'JavaScript basics', 'SQL Server', 'Entity Framework basics', 'LINQ', 'Visual Studio', 'Git', 'Unit Testing basics']",
         "['Assist in coding and debugging applications', 'Learn and apply .NET Framework and Core fundamentals', 'Support team in building ASP.NET MVC web applications', 'Write basic SQL queries and work with Entity Framework', 'Collaborate with peers to solve issues', 'Participate in code reviews for learning', 'Follow best practices in coding', 'Work with version control (Git)']",
         "['.NET', 'C#', 'ASP.NET MVC', 'Entity Framework', 'SQL Server', 'LINQ', 'Visual Studio', 'Unit Testing']",
         "Entry",
         "0",
         "VB.NET basics"
        ],
        [
         "0",
         "NET-F-001",
         ".NET Developer",
         "Fresher",
         "0-1",
         "['C#', 'VB.NET basics', '.NET Framework', '.NET Core fundamentals', 'ASP.NET', 'MVC', 'HTML', 'CSS', 'JavaScript basics', 'SQL Server', 'Entity Framework basics', 'LINQ', 'Visual Studio', 'Git', 'Unit Testing basics']",
         "['Assist in coding and debugging applications', 'Learn and apply .NET Framework and Core fundamentals', 'Support team in building ASP.NET MVC web applications', 'Write basic SQL queries and work with Entity Framework', 'Collaborate with peers to solve issues', 'Participate in code reviews for learning', 'Follow best practices in coding', 'Work with version control (Git)']",
         "['.NET', 'C#', 'ASP.NET MVC', 'Entity Framework', 'SQL Server', 'LINQ', 'Visual Studio', 'Unit Testing']",
         "Entry",
         "0",
         ".NET Framework"
        ],
        [
         "0",
         "NET-F-001",
         ".NET Developer",
         "Fresher",
         "0-1",
         "['C#', 'VB.NET basics', '.NET Framework', '.NET Core fundamentals', 'ASP.NET', 'MVC', 'HTML', 'CSS', 'JavaScript basics', 'SQL Server', 'Entity Framework basics', 'LINQ', 'Visual Studio', 'Git', 'Unit Testing basics']",
         "['Assist in coding and debugging applications', 'Learn and apply .NET Framework and Core fundamentals', 'Support team in building ASP.NET MVC web applications', 'Write basic SQL queries and work with Entity Framework', 'Collaborate with peers to solve issues', 'Participate in code reviews for learning', 'Follow best practices in coding', 'Work with version control (Git)']",
         "['.NET', 'C#', 'ASP.NET MVC', 'Entity Framework', 'SQL Server', 'LINQ', 'Visual Studio', 'Unit Testing']",
         "Entry",
         "0",
         ".NET Core fundamentals"
        ],
        [
         "0",
         "NET-F-001",
         ".NET Developer",
         "Fresher",
         "0-1",
         "['C#', 'VB.NET basics', '.NET Framework', '.NET Core fundamentals', 'ASP.NET', 'MVC', 'HTML', 'CSS', 'JavaScript basics', 'SQL Server', 'Entity Framework basics', 'LINQ', 'Visual Studio', 'Git', 'Unit Testing basics']",
         "['Assist in coding and debugging applications', 'Learn and apply .NET Framework and Core fundamentals', 'Support team in building ASP.NET MVC web applications', 'Write basic SQL queries and work with Entity Framework', 'Collaborate with peers to solve issues', 'Participate in code reviews for learning', 'Follow best practices in coding', 'Work with version control (Git)']",
         "['.NET', 'C#', 'ASP.NET MVC', 'Entity Framework', 'SQL Server', 'LINQ', 'Visual Studio', 'Unit Testing']",
         "Entry",
         "0",
         "ASP.NET"
        ],
        [
         "0",
         "NET-F-001",
         ".NET Developer",
         "Fresher",
         "0-1",
         "['C#', 'VB.NET basics', '.NET Framework', '.NET Core fundamentals', 'ASP.NET', 'MVC', 'HTML', 'CSS', 'JavaScript basics', 'SQL Server', 'Entity Framework basics', 'LINQ', 'Visual Studio', 'Git', 'Unit Testing basics']",
         "['Assist in coding and debugging applications', 'Learn and apply .NET Framework and Core fundamentals', 'Support team in building ASP.NET MVC web applications', 'Write basic SQL queries and work with Entity Framework', 'Collaborate with peers to solve issues', 'Participate in code reviews for learning', 'Follow best practices in coding', 'Work with version control (Git)']",
         "['.NET', 'C#', 'ASP.NET MVC', 'Entity Framework', 'SQL Server', 'LINQ', 'Visual Studio', 'Unit Testing']",
         "Entry",
         "0",
         "MVC"
        ],
        [
         "0",
         "NET-F-001",
         ".NET Developer",
         "Fresher",
         "0-1",
         "['C#', 'VB.NET basics', '.NET Framework', '.NET Core fundamentals', 'ASP.NET', 'MVC', 'HTML', 'CSS', 'JavaScript basics', 'SQL Server', 'Entity Framework basics', 'LINQ', 'Visual Studio', 'Git', 'Unit Testing basics']",
         "['Assist in coding and debugging applications', 'Learn and apply .NET Framework and Core fundamentals', 'Support team in building ASP.NET MVC web applications', 'Write basic SQL queries and work with Entity Framework', 'Collaborate with peers to solve issues', 'Participate in code reviews for learning', 'Follow best practices in coding', 'Work with version control (Git)']",
         "['.NET', 'C#', 'ASP.NET MVC', 'Entity Framework', 'SQL Server', 'LINQ', 'Visual Studio', 'Unit Testing']",
         "Entry",
         "0",
         "HTML"
        ],
        [
         "0",
         "NET-F-001",
         ".NET Developer",
         "Fresher",
         "0-1",
         "['C#', 'VB.NET basics', '.NET Framework', '.NET Core fundamentals', 'ASP.NET', 'MVC', 'HTML', 'CSS', 'JavaScript basics', 'SQL Server', 'Entity Framework basics', 'LINQ', 'Visual Studio', 'Git', 'Unit Testing basics']",
         "['Assist in coding and debugging applications', 'Learn and apply .NET Framework and Core fundamentals', 'Support team in building ASP.NET MVC web applications', 'Write basic SQL queries and work with Entity Framework', 'Collaborate with peers to solve issues', 'Participate in code reviews for learning', 'Follow best practices in coding', 'Work with version control (Git)']",
         "['.NET', 'C#', 'ASP.NET MVC', 'Entity Framework', 'SQL Server', 'LINQ', 'Visual Studio', 'Unit Testing']",
         "Entry",
         "0",
         "CSS"
        ],
        [
         "0",
         "NET-F-001",
         ".NET Developer",
         "Fresher",
         "0-1",
         "['C#', 'VB.NET basics', '.NET Framework', '.NET Core fundamentals', 'ASP.NET', 'MVC', 'HTML', 'CSS', 'JavaScript basics', 'SQL Server', 'Entity Framework basics', 'LINQ', 'Visual Studio', 'Git', 'Unit Testing basics']",
         "['Assist in coding and debugging applications', 'Learn and apply .NET Framework and Core fundamentals', 'Support team in building ASP.NET MVC web applications', 'Write basic SQL queries and work with Entity Framework', 'Collaborate with peers to solve issues', 'Participate in code reviews for learning', 'Follow best practices in coding', 'Work with version control (Git)']",
         "['.NET', 'C#', 'ASP.NET MVC', 'Entity Framework', 'SQL Server', 'LINQ', 'Visual Studio', 'Unit Testing']",
         "Entry",
         "0",
         "JavaScript basics"
        ],
        [
         "0",
         "NET-F-001",
         ".NET Developer",
         "Fresher",
         "0-1",
         "['C#', 'VB.NET basics', '.NET Framework', '.NET Core fundamentals', 'ASP.NET', 'MVC', 'HTML', 'CSS', 'JavaScript basics', 'SQL Server', 'Entity Framework basics', 'LINQ', 'Visual Studio', 'Git', 'Unit Testing basics']",
         "['Assist in coding and debugging applications', 'Learn and apply .NET Framework and Core fundamentals', 'Support team in building ASP.NET MVC web applications', 'Write basic SQL queries and work with Entity Framework', 'Collaborate with peers to solve issues', 'Participate in code reviews for learning', 'Follow best practices in coding', 'Work with version control (Git)']",
         "['.NET', 'C#', 'ASP.NET MVC', 'Entity Framework', 'SQL Server', 'LINQ', 'Visual Studio', 'Unit Testing']",
         "Entry",
         "0",
         "SQL Server"
        ],
        [
         "0",
         "NET-F-001",
         ".NET Developer",
         "Fresher",
         "0-1",
         "['C#', 'VB.NET basics', '.NET Framework', '.NET Core fundamentals', 'ASP.NET', 'MVC', 'HTML', 'CSS', 'JavaScript basics', 'SQL Server', 'Entity Framework basics', 'LINQ', 'Visual Studio', 'Git', 'Unit Testing basics']",
         "['Assist in coding and debugging applications', 'Learn and apply .NET Framework and Core fundamentals', 'Support team in building ASP.NET MVC web applications', 'Write basic SQL queries and work with Entity Framework', 'Collaborate with peers to solve issues', 'Participate in code reviews for learning', 'Follow best practices in coding', 'Work with version control (Git)']",
         "['.NET', 'C#', 'ASP.NET MVC', 'Entity Framework', 'SQL Server', 'LINQ', 'Visual Studio', 'Unit Testing']",
         "Entry",
         "0",
         "Entity Framework basics"
        ],
        [
         "0",
         "NET-F-001",
         ".NET Developer",
         "Fresher",
         "0-1",
         "['C#', 'VB.NET basics', '.NET Framework', '.NET Core fundamentals', 'ASP.NET', 'MVC', 'HTML', 'CSS', 'JavaScript basics', 'SQL Server', 'Entity Framework basics', 'LINQ', 'Visual Studio', 'Git', 'Unit Testing basics']",
         "['Assist in coding and debugging applications', 'Learn and apply .NET Framework and Core fundamentals', 'Support team in building ASP.NET MVC web applications', 'Write basic SQL queries and work with Entity Framework', 'Collaborate with peers to solve issues', 'Participate in code reviews for learning', 'Follow best practices in coding', 'Work with version control (Git)']",
         "['.NET', 'C#', 'ASP.NET MVC', 'Entity Framework', 'SQL Server', 'LINQ', 'Visual Studio', 'Unit Testing']",
         "Entry",
         "0",
         "LINQ"
        ],
        [
         "0",
         "NET-F-001",
         ".NET Developer",
         "Fresher",
         "0-1",
         "['C#', 'VB.NET basics', '.NET Framework', '.NET Core fundamentals', 'ASP.NET', 'MVC', 'HTML', 'CSS', 'JavaScript basics', 'SQL Server', 'Entity Framework basics', 'LINQ', 'Visual Studio', 'Git', 'Unit Testing basics']",
         "['Assist in coding and debugging applications', 'Learn and apply .NET Framework and Core fundamentals', 'Support team in building ASP.NET MVC web applications', 'Write basic SQL queries and work with Entity Framework', 'Collaborate with peers to solve issues', 'Participate in code reviews for learning', 'Follow best practices in coding', 'Work with version control (Git)']",
         "['.NET', 'C#', 'ASP.NET MVC', 'Entity Framework', 'SQL Server', 'LINQ', 'Visual Studio', 'Unit Testing']",
         "Entry",
         "0",
         "Visual Studio"
        ],
        [
         "0",
         "NET-F-001",
         ".NET Developer",
         "Fresher",
         "0-1",
         "['C#', 'VB.NET basics', '.NET Framework', '.NET Core fundamentals', 'ASP.NET', 'MVC', 'HTML', 'CSS', 'JavaScript basics', 'SQL Server', 'Entity Framework basics', 'LINQ', 'Visual Studio', 'Git', 'Unit Testing basics']",
         "['Assist in coding and debugging applications', 'Learn and apply .NET Framework and Core fundamentals', 'Support team in building ASP.NET MVC web applications', 'Write basic SQL queries and work with Entity Framework', 'Collaborate with peers to solve issues', 'Participate in code reviews for learning', 'Follow best practices in coding', 'Work with version control (Git)']",
         "['.NET', 'C#', 'ASP.NET MVC', 'Entity Framework', 'SQL Server', 'LINQ', 'Visual Studio', 'Unit Testing']",
         "Entry",
         "0",
         "Git"
        ],
        [
         "0",
         "NET-F-001",
         ".NET Developer",
         "Fresher",
         "0-1",
         "['C#', 'VB.NET basics', '.NET Framework', '.NET Core fundamentals', 'ASP.NET', 'MVC', 'HTML', 'CSS', 'JavaScript basics', 'SQL Server', 'Entity Framework basics', 'LINQ', 'Visual Studio', 'Git', 'Unit Testing basics']",
         "['Assist in coding and debugging applications', 'Learn and apply .NET Framework and Core fundamentals', 'Support team in building ASP.NET MVC web applications', 'Write basic SQL queries and work with Entity Framework', 'Collaborate with peers to solve issues', 'Participate in code reviews for learning', 'Follow best practices in coding', 'Work with version control (Git)']",
         "['.NET', 'C#', 'ASP.NET MVC', 'Entity Framework', 'SQL Server', 'LINQ', 'Visual Studio', 'Unit Testing']",
         "Entry",
         "0",
         "Unit Testing basics"
        ],
        [
         "1",
         "NET-F-002",
         ".NET Developer",
         "Fresher",
         "0-1",
         "['C#', '.NET Framework basics', 'ASP.NET', 'Razor', 'HTML', 'CSS', 'JavaScript basics', 'SQL Server', 'Entity Framework basics', 'NUnit basics']",
         "['Write simple C# programs under guidance', 'Support development of ASP.NET MVC applications', 'Implement Razor views and front-end logic', 'Assist in database query writing', 'Participate in unit testing tasks', 'Learn and apply LINQ for data operations', 'Work with mentors for code corrections']",
         "['.NET', 'C#', 'ASP.NET MVC', 'Entity Framework', 'SQL Server', 'Razor', 'Unit Testing']",
         "Entry",
         "0",
         "C#"
        ],
        [
         "1",
         "NET-F-002",
         ".NET Developer",
         "Fresher",
         "0-1",
         "['C#', '.NET Framework basics', 'ASP.NET', 'Razor', 'HTML', 'CSS', 'JavaScript basics', 'SQL Server', 'Entity Framework basics', 'NUnit basics']",
         "['Write simple C# programs under guidance', 'Support development of ASP.NET MVC applications', 'Implement Razor views and front-end logic', 'Assist in database query writing', 'Participate in unit testing tasks', 'Learn and apply LINQ for data operations', 'Work with mentors for code corrections']",
         "['.NET', 'C#', 'ASP.NET MVC', 'Entity Framework', 'SQL Server', 'Razor', 'Unit Testing']",
         "Entry",
         "0",
         ".NET Framework basics"
        ],
        [
         "1",
         "NET-F-002",
         ".NET Developer",
         "Fresher",
         "0-1",
         "['C#', '.NET Framework basics', 'ASP.NET', 'Razor', 'HTML', 'CSS', 'JavaScript basics', 'SQL Server', 'Entity Framework basics', 'NUnit basics']",
         "['Write simple C# programs under guidance', 'Support development of ASP.NET MVC applications', 'Implement Razor views and front-end logic', 'Assist in database query writing', 'Participate in unit testing tasks', 'Learn and apply LINQ for data operations', 'Work with mentors for code corrections']",
         "['.NET', 'C#', 'ASP.NET MVC', 'Entity Framework', 'SQL Server', 'Razor', 'Unit Testing']",
         "Entry",
         "0",
         "ASP.NET"
        ],
        [
         "1",
         "NET-F-002",
         ".NET Developer",
         "Fresher",
         "0-1",
         "['C#', '.NET Framework basics', 'ASP.NET', 'Razor', 'HTML', 'CSS', 'JavaScript basics', 'SQL Server', 'Entity Framework basics', 'NUnit basics']",
         "['Write simple C# programs under guidance', 'Support development of ASP.NET MVC applications', 'Implement Razor views and front-end logic', 'Assist in database query writing', 'Participate in unit testing tasks', 'Learn and apply LINQ for data operations', 'Work with mentors for code corrections']",
         "['.NET', 'C#', 'ASP.NET MVC', 'Entity Framework', 'SQL Server', 'Razor', 'Unit Testing']",
         "Entry",
         "0",
         "Razor"
        ],
        [
         "1",
         "NET-F-002",
         ".NET Developer",
         "Fresher",
         "0-1",
         "['C#', '.NET Framework basics', 'ASP.NET', 'Razor', 'HTML', 'CSS', 'JavaScript basics', 'SQL Server', 'Entity Framework basics', 'NUnit basics']",
         "['Write simple C# programs under guidance', 'Support development of ASP.NET MVC applications', 'Implement Razor views and front-end logic', 'Assist in database query writing', 'Participate in unit testing tasks', 'Learn and apply LINQ for data operations', 'Work with mentors for code corrections']",
         "['.NET', 'C#', 'ASP.NET MVC', 'Entity Framework', 'SQL Server', 'Razor', 'Unit Testing']",
         "Entry",
         "0",
         "HTML"
        ],
        [
         "1",
         "NET-F-002",
         ".NET Developer",
         "Fresher",
         "0-1",
         "['C#', '.NET Framework basics', 'ASP.NET', 'Razor', 'HTML', 'CSS', 'JavaScript basics', 'SQL Server', 'Entity Framework basics', 'NUnit basics']",
         "['Write simple C# programs under guidance', 'Support development of ASP.NET MVC applications', 'Implement Razor views and front-end logic', 'Assist in database query writing', 'Participate in unit testing tasks', 'Learn and apply LINQ for data operations', 'Work with mentors for code corrections']",
         "['.NET', 'C#', 'ASP.NET MVC', 'Entity Framework', 'SQL Server', 'Razor', 'Unit Testing']",
         "Entry",
         "0",
         "CSS"
        ],
        [
         "1",
         "NET-F-002",
         ".NET Developer",
         "Fresher",
         "0-1",
         "['C#', '.NET Framework basics', 'ASP.NET', 'Razor', 'HTML', 'CSS', 'JavaScript basics', 'SQL Server', 'Entity Framework basics', 'NUnit basics']",
         "['Write simple C# programs under guidance', 'Support development of ASP.NET MVC applications', 'Implement Razor views and front-end logic', 'Assist in database query writing', 'Participate in unit testing tasks', 'Learn and apply LINQ for data operations', 'Work with mentors for code corrections']",
         "['.NET', 'C#', 'ASP.NET MVC', 'Entity Framework', 'SQL Server', 'Razor', 'Unit Testing']",
         "Entry",
         "0",
         "JavaScript basics"
        ],
        [
         "1",
         "NET-F-002",
         ".NET Developer",
         "Fresher",
         "0-1",
         "['C#', '.NET Framework basics', 'ASP.NET', 'Razor', 'HTML', 'CSS', 'JavaScript basics', 'SQL Server', 'Entity Framework basics', 'NUnit basics']",
         "['Write simple C# programs under guidance', 'Support development of ASP.NET MVC applications', 'Implement Razor views and front-end logic', 'Assist in database query writing', 'Participate in unit testing tasks', 'Learn and apply LINQ for data operations', 'Work with mentors for code corrections']",
         "['.NET', 'C#', 'ASP.NET MVC', 'Entity Framework', 'SQL Server', 'Razor', 'Unit Testing']",
         "Entry",
         "0",
         "SQL Server"
        ],
        [
         "1",
         "NET-F-002",
         ".NET Developer",
         "Fresher",
         "0-1",
         "['C#', '.NET Framework basics', 'ASP.NET', 'Razor', 'HTML', 'CSS', 'JavaScript basics', 'SQL Server', 'Entity Framework basics', 'NUnit basics']",
         "['Write simple C# programs under guidance', 'Support development of ASP.NET MVC applications', 'Implement Razor views and front-end logic', 'Assist in database query writing', 'Participate in unit testing tasks', 'Learn and apply LINQ for data operations', 'Work with mentors for code corrections']",
         "['.NET', 'C#', 'ASP.NET MVC', 'Entity Framework', 'SQL Server', 'Razor', 'Unit Testing']",
         "Entry",
         "0",
         "Entity Framework basics"
        ],
        [
         "1",
         "NET-F-002",
         ".NET Developer",
         "Fresher",
         "0-1",
         "['C#', '.NET Framework basics', 'ASP.NET', 'Razor', 'HTML', 'CSS', 'JavaScript basics', 'SQL Server', 'Entity Framework basics', 'NUnit basics']",
         "['Write simple C# programs under guidance', 'Support development of ASP.NET MVC applications', 'Implement Razor views and front-end logic', 'Assist in database query writing', 'Participate in unit testing tasks', 'Learn and apply LINQ for data operations', 'Work with mentors for code corrections']",
         "['.NET', 'C#', 'ASP.NET MVC', 'Entity Framework', 'SQL Server', 'Razor', 'Unit Testing']",
         "Entry",
         "0",
         "NUnit basics"
        ],
        [
         "2",
         "NET-F-003",
         ".NET Developer",
         "Fresher",
         "0-1",
         "['C#', 'VB.NET basics', '.NET Core', 'ASP.NET MVC', 'HTML', 'CSS', 'JavaScript basics', 'SQL Server', 'Git']",
         "['Contribute to development of small modules', 'Assist in bug fixing and debugging', 'Learn and implement MVC patterns', 'Support database integration tasks', 'Understand version control basics', 'Work on minor testing scripts', 'Follow coding standards']",
         "['.NET', 'C#', 'ASP.NET MVC', 'SQL Server', 'Entity Framework', 'Git']",
         "Entry",
         "0",
         "C#"
        ],
        [
         "2",
         "NET-F-003",
         ".NET Developer",
         "Fresher",
         "0-1",
         "['C#', 'VB.NET basics', '.NET Core', 'ASP.NET MVC', 'HTML', 'CSS', 'JavaScript basics', 'SQL Server', 'Git']",
         "['Contribute to development of small modules', 'Assist in bug fixing and debugging', 'Learn and implement MVC patterns', 'Support database integration tasks', 'Understand version control basics', 'Work on minor testing scripts', 'Follow coding standards']",
         "['.NET', 'C#', 'ASP.NET MVC', 'SQL Server', 'Entity Framework', 'Git']",
         "Entry",
         "0",
         "VB.NET basics"
        ],
        [
         "2",
         "NET-F-003",
         ".NET Developer",
         "Fresher",
         "0-1",
         "['C#', 'VB.NET basics', '.NET Core', 'ASP.NET MVC', 'HTML', 'CSS', 'JavaScript basics', 'SQL Server', 'Git']",
         "['Contribute to development of small modules', 'Assist in bug fixing and debugging', 'Learn and implement MVC patterns', 'Support database integration tasks', 'Understand version control basics', 'Work on minor testing scripts', 'Follow coding standards']",
         "['.NET', 'C#', 'ASP.NET MVC', 'SQL Server', 'Entity Framework', 'Git']",
         "Entry",
         "0",
         ".NET Core"
        ],
        [
         "2",
         "NET-F-003",
         ".NET Developer",
         "Fresher",
         "0-1",
         "['C#', 'VB.NET basics', '.NET Core', 'ASP.NET MVC', 'HTML', 'CSS', 'JavaScript basics', 'SQL Server', 'Git']",
         "['Contribute to development of small modules', 'Assist in bug fixing and debugging', 'Learn and implement MVC patterns', 'Support database integration tasks', 'Understand version control basics', 'Work on minor testing scripts', 'Follow coding standards']",
         "['.NET', 'C#', 'ASP.NET MVC', 'SQL Server', 'Entity Framework', 'Git']",
         "Entry",
         "0",
         "ASP.NET MVC"
        ],
        [
         "2",
         "NET-F-003",
         ".NET Developer",
         "Fresher",
         "0-1",
         "['C#', 'VB.NET basics', '.NET Core', 'ASP.NET MVC', 'HTML', 'CSS', 'JavaScript basics', 'SQL Server', 'Git']",
         "['Contribute to development of small modules', 'Assist in bug fixing and debugging', 'Learn and implement MVC patterns', 'Support database integration tasks', 'Understand version control basics', 'Work on minor testing scripts', 'Follow coding standards']",
         "['.NET', 'C#', 'ASP.NET MVC', 'SQL Server', 'Entity Framework', 'Git']",
         "Entry",
         "0",
         "HTML"
        ],
        [
         "2",
         "NET-F-003",
         ".NET Developer",
         "Fresher",
         "0-1",
         "['C#', 'VB.NET basics', '.NET Core', 'ASP.NET MVC', 'HTML', 'CSS', 'JavaScript basics', 'SQL Server', 'Git']",
         "['Contribute to development of small modules', 'Assist in bug fixing and debugging', 'Learn and implement MVC patterns', 'Support database integration tasks', 'Understand version control basics', 'Work on minor testing scripts', 'Follow coding standards']",
         "['.NET', 'C#', 'ASP.NET MVC', 'SQL Server', 'Entity Framework', 'Git']",
         "Entry",
         "0",
         "CSS"
        ],
        [
         "2",
         "NET-F-003",
         ".NET Developer",
         "Fresher",
         "0-1",
         "['C#', 'VB.NET basics', '.NET Core', 'ASP.NET MVC', 'HTML', 'CSS', 'JavaScript basics', 'SQL Server', 'Git']",
         "['Contribute to development of small modules', 'Assist in bug fixing and debugging', 'Learn and implement MVC patterns', 'Support database integration tasks', 'Understand version control basics', 'Work on minor testing scripts', 'Follow coding standards']",
         "['.NET', 'C#', 'ASP.NET MVC', 'SQL Server', 'Entity Framework', 'Git']",
         "Entry",
         "0",
         "JavaScript basics"
        ],
        [
         "2",
         "NET-F-003",
         ".NET Developer",
         "Fresher",
         "0-1",
         "['C#', 'VB.NET basics', '.NET Core', 'ASP.NET MVC', 'HTML', 'CSS', 'JavaScript basics', 'SQL Server', 'Git']",
         "['Contribute to development of small modules', 'Assist in bug fixing and debugging', 'Learn and implement MVC patterns', 'Support database integration tasks', 'Understand version control basics', 'Work on minor testing scripts', 'Follow coding standards']",
         "['.NET', 'C#', 'ASP.NET MVC', 'SQL Server', 'Entity Framework', 'Git']",
         "Entry",
         "0",
         "SQL Server"
        ],
        [
         "2",
         "NET-F-003",
         ".NET Developer",
         "Fresher",
         "0-1",
         "['C#', 'VB.NET basics', '.NET Core', 'ASP.NET MVC', 'HTML', 'CSS', 'JavaScript basics', 'SQL Server', 'Git']",
         "['Contribute to development of small modules', 'Assist in bug fixing and debugging', 'Learn and implement MVC patterns', 'Support database integration tasks', 'Understand version control basics', 'Work on minor testing scripts', 'Follow coding standards']",
         "['.NET', 'C#', 'ASP.NET MVC', 'SQL Server', 'Entity Framework', 'Git']",
         "Entry",
         "0",
         "Git"
        ],
        [
         "3",
         "NET-F-004",
         ".NET Developer",
         "Fresher",
         "0-1",
         "['C#', '.NET Framework', 'ASP.NET basics', 'SQL Server', 'HTML', 'CSS', 'LINQ', 'Visual Studio']",
         "['Support in software design documentation', 'Assist senior developers in testing', 'Create small UI components', 'Debug and test applications', 'Implement basic LINQ queries', 'Participate in code maintenance']",
         "['.NET', 'C#', 'SQL Server', 'Entity Framework', 'ASP.NET']",
         "Entry",
         "0",
         "C#"
        ],
        [
         "3",
         "NET-F-004",
         ".NET Developer",
         "Fresher",
         "0-1",
         "['C#', '.NET Framework', 'ASP.NET basics', 'SQL Server', 'HTML', 'CSS', 'LINQ', 'Visual Studio']",
         "['Support in software design documentation', 'Assist senior developers in testing', 'Create small UI components', 'Debug and test applications', 'Implement basic LINQ queries', 'Participate in code maintenance']",
         "['.NET', 'C#', 'SQL Server', 'Entity Framework', 'ASP.NET']",
         "Entry",
         "0",
         ".NET Framework"
        ],
        [
         "3",
         "NET-F-004",
         ".NET Developer",
         "Fresher",
         "0-1",
         "['C#', '.NET Framework', 'ASP.NET basics', 'SQL Server', 'HTML', 'CSS', 'LINQ', 'Visual Studio']",
         "['Support in software design documentation', 'Assist senior developers in testing', 'Create small UI components', 'Debug and test applications', 'Implement basic LINQ queries', 'Participate in code maintenance']",
         "['.NET', 'C#', 'SQL Server', 'Entity Framework', 'ASP.NET']",
         "Entry",
         "0",
         "ASP.NET basics"
        ],
        [
         "3",
         "NET-F-004",
         ".NET Developer",
         "Fresher",
         "0-1",
         "['C#', '.NET Framework', 'ASP.NET basics', 'SQL Server', 'HTML', 'CSS', 'LINQ', 'Visual Studio']",
         "['Support in software design documentation', 'Assist senior developers in testing', 'Create small UI components', 'Debug and test applications', 'Implement basic LINQ queries', 'Participate in code maintenance']",
         "['.NET', 'C#', 'SQL Server', 'Entity Framework', 'ASP.NET']",
         "Entry",
         "0",
         "SQL Server"
        ],
        [
         "3",
         "NET-F-004",
         ".NET Developer",
         "Fresher",
         "0-1",
         "['C#', '.NET Framework', 'ASP.NET basics', 'SQL Server', 'HTML', 'CSS', 'LINQ', 'Visual Studio']",
         "['Support in software design documentation', 'Assist senior developers in testing', 'Create small UI components', 'Debug and test applications', 'Implement basic LINQ queries', 'Participate in code maintenance']",
         "['.NET', 'C#', 'SQL Server', 'Entity Framework', 'ASP.NET']",
         "Entry",
         "0",
         "HTML"
        ],
        [
         "3",
         "NET-F-004",
         ".NET Developer",
         "Fresher",
         "0-1",
         "['C#', '.NET Framework', 'ASP.NET basics', 'SQL Server', 'HTML', 'CSS', 'LINQ', 'Visual Studio']",
         "['Support in software design documentation', 'Assist senior developers in testing', 'Create small UI components', 'Debug and test applications', 'Implement basic LINQ queries', 'Participate in code maintenance']",
         "['.NET', 'C#', 'SQL Server', 'Entity Framework', 'ASP.NET']",
         "Entry",
         "0",
         "CSS"
        ],
        [
         "3",
         "NET-F-004",
         ".NET Developer",
         "Fresher",
         "0-1",
         "['C#', '.NET Framework', 'ASP.NET basics', 'SQL Server', 'HTML', 'CSS', 'LINQ', 'Visual Studio']",
         "['Support in software design documentation', 'Assist senior developers in testing', 'Create small UI components', 'Debug and test applications', 'Implement basic LINQ queries', 'Participate in code maintenance']",
         "['.NET', 'C#', 'SQL Server', 'Entity Framework', 'ASP.NET']",
         "Entry",
         "0",
         "LINQ"
        ],
        [
         "3",
         "NET-F-004",
         ".NET Developer",
         "Fresher",
         "0-1",
         "['C#', '.NET Framework', 'ASP.NET basics', 'SQL Server', 'HTML', 'CSS', 'LINQ', 'Visual Studio']",
         "['Support in software design documentation', 'Assist senior developers in testing', 'Create small UI components', 'Debug and test applications', 'Implement basic LINQ queries', 'Participate in code maintenance']",
         "['.NET', 'C#', 'SQL Server', 'Entity Framework', 'ASP.NET']",
         "Entry",
         "0",
         "Visual Studio"
        ],
        [
         "4",
         "NET-F-005",
         ".NET Developer",
         "Fresher",
         "0-1",
         "['C#', 'ASP.NET', 'MVC', 'Entity Framework basics', 'SQL Server', 'HTML', 'CSS', 'JavaScript basics']",
         "['Learn to design and build ASP.NET applications', 'Assist in connecting apps to SQL Server', 'Work on UI development', 'Participate in daily standups', 'Write small unit test cases']",
         "['.NET', 'C#', 'ASP.NET MVC', 'Entity Framework', 'SQL Server']",
         "Entry",
         "0",
         "C#"
        ],
        [
         "4",
         "NET-F-005",
         ".NET Developer",
         "Fresher",
         "0-1",
         "['C#', 'ASP.NET', 'MVC', 'Entity Framework basics', 'SQL Server', 'HTML', 'CSS', 'JavaScript basics']",
         "['Learn to design and build ASP.NET applications', 'Assist in connecting apps to SQL Server', 'Work on UI development', 'Participate in daily standups', 'Write small unit test cases']",
         "['.NET', 'C#', 'ASP.NET MVC', 'Entity Framework', 'SQL Server']",
         "Entry",
         "0",
         "ASP.NET"
        ],
        [
         "4",
         "NET-F-005",
         ".NET Developer",
         "Fresher",
         "0-1",
         "['C#', 'ASP.NET', 'MVC', 'Entity Framework basics', 'SQL Server', 'HTML', 'CSS', 'JavaScript basics']",
         "['Learn to design and build ASP.NET applications', 'Assist in connecting apps to SQL Server', 'Work on UI development', 'Participate in daily standups', 'Write small unit test cases']",
         "['.NET', 'C#', 'ASP.NET MVC', 'Entity Framework', 'SQL Server']",
         "Entry",
         "0",
         "MVC"
        ],
        [
         "4",
         "NET-F-005",
         ".NET Developer",
         "Fresher",
         "0-1",
         "['C#', 'ASP.NET', 'MVC', 'Entity Framework basics', 'SQL Server', 'HTML', 'CSS', 'JavaScript basics']",
         "['Learn to design and build ASP.NET applications', 'Assist in connecting apps to SQL Server', 'Work on UI development', 'Participate in daily standups', 'Write small unit test cases']",
         "['.NET', 'C#', 'ASP.NET MVC', 'Entity Framework', 'SQL Server']",
         "Entry",
         "0",
         "Entity Framework basics"
        ],
        [
         "4",
         "NET-F-005",
         ".NET Developer",
         "Fresher",
         "0-1",
         "['C#', 'ASP.NET', 'MVC', 'Entity Framework basics', 'SQL Server', 'HTML', 'CSS', 'JavaScript basics']",
         "['Learn to design and build ASP.NET applications', 'Assist in connecting apps to SQL Server', 'Work on UI development', 'Participate in daily standups', 'Write small unit test cases']",
         "['.NET', 'C#', 'ASP.NET MVC', 'Entity Framework', 'SQL Server']",
         "Entry",
         "0",
         "SQL Server"
        ],
        [
         "4",
         "NET-F-005",
         ".NET Developer",
         "Fresher",
         "0-1",
         "['C#', 'ASP.NET', 'MVC', 'Entity Framework basics', 'SQL Server', 'HTML', 'CSS', 'JavaScript basics']",
         "['Learn to design and build ASP.NET applications', 'Assist in connecting apps to SQL Server', 'Work on UI development', 'Participate in daily standups', 'Write small unit test cases']",
         "['.NET', 'C#', 'ASP.NET MVC', 'Entity Framework', 'SQL Server']",
         "Entry",
         "0",
         "HTML"
        ],
        [
         "4",
         "NET-F-005",
         ".NET Developer",
         "Fresher",
         "0-1",
         "['C#', 'ASP.NET', 'MVC', 'Entity Framework basics', 'SQL Server', 'HTML', 'CSS', 'JavaScript basics']",
         "['Learn to design and build ASP.NET applications', 'Assist in connecting apps to SQL Server', 'Work on UI development', 'Participate in daily standups', 'Write small unit test cases']",
         "['.NET', 'C#', 'ASP.NET MVC', 'Entity Framework', 'SQL Server']",
         "Entry",
         "0",
         "CSS"
        ],
        [
         "4",
         "NET-F-005",
         ".NET Developer",
         "Fresher",
         "0-1",
         "['C#', 'ASP.NET', 'MVC', 'Entity Framework basics', 'SQL Server', 'HTML', 'CSS', 'JavaScript basics']",
         "['Learn to design and build ASP.NET applications', 'Assist in connecting apps to SQL Server', 'Work on UI development', 'Participate in daily standups', 'Write small unit test cases']",
         "['.NET', 'C#', 'ASP.NET MVC', 'Entity Framework', 'SQL Server']",
         "Entry",
         "0",
         "JavaScript basics"
        ]
       ],
       "shape": {
        "columns": 10,
        "rows": 12248
       }
      },
      "text/html": [
       "<div>\n",
       "<style scoped>\n",
       "    .dataframe tbody tr th:only-of-type {\n",
       "        vertical-align: middle;\n",
       "    }\n",
       "\n",
       "    .dataframe tbody tr th {\n",
       "        vertical-align: top;\n",
       "    }\n",
       "\n",
       "    .dataframe thead th {\n",
       "        text-align: right;\n",
       "    }\n",
       "</style>\n",
       "<table border=\"1\" class=\"dataframe\">\n",
       "  <thead>\n",
       "    <tr style=\"text-align: right;\">\n",
       "      <th></th>\n",
       "      <th>JobID</th>\n",
       "      <th>Title</th>\n",
       "      <th>ExperienceLevel</th>\n",
       "      <th>YearsOfExperience</th>\n",
       "      <th>Skills</th>\n",
       "      <th>Responsibilities</th>\n",
       "      <th>Keywords</th>\n",
       "      <th>ExperienceLevel_clean</th>\n",
       "      <th>YearsOfExperience_num</th>\n",
       "      <th>Skill</th>\n",
       "    </tr>\n",
       "  </thead>\n",
       "  <tbody>\n",
       "    <tr>\n",
       "      <th>0</th>\n",
       "      <td>NET-F-001</td>\n",
       "      <td>.NET Developer</td>\n",
       "      <td>Fresher</td>\n",
       "      <td>0-1</td>\n",
       "      <td>[C#, VB.NET basics, .NET Framework, .NET Core ...</td>\n",
       "      <td>[Assist in coding and debugging applications, ...</td>\n",
       "      <td>[.NET, C#, ASP.NET MVC, Entity Framework, SQL ...</td>\n",
       "      <td>Entry</td>\n",
       "      <td>0</td>\n",
       "      <td>C#</td>\n",
       "    </tr>\n",
       "    <tr>\n",
       "      <th>0</th>\n",
       "      <td>NET-F-001</td>\n",
       "      <td>.NET Developer</td>\n",
       "      <td>Fresher</td>\n",
       "      <td>0-1</td>\n",
       "      <td>[C#, VB.NET basics, .NET Framework, .NET Core ...</td>\n",
       "      <td>[Assist in coding and debugging applications, ...</td>\n",
       "      <td>[.NET, C#, ASP.NET MVC, Entity Framework, SQL ...</td>\n",
       "      <td>Entry</td>\n",
       "      <td>0</td>\n",
       "      <td>VB.NET basics</td>\n",
       "    </tr>\n",
       "    <tr>\n",
       "      <th>0</th>\n",
       "      <td>NET-F-001</td>\n",
       "      <td>.NET Developer</td>\n",
       "      <td>Fresher</td>\n",
       "      <td>0-1</td>\n",
       "      <td>[C#, VB.NET basics, .NET Framework, .NET Core ...</td>\n",
       "      <td>[Assist in coding and debugging applications, ...</td>\n",
       "      <td>[.NET, C#, ASP.NET MVC, Entity Framework, SQL ...</td>\n",
       "      <td>Entry</td>\n",
       "      <td>0</td>\n",
       "      <td>.NET Framework</td>\n",
       "    </tr>\n",
       "    <tr>\n",
       "      <th>0</th>\n",
       "      <td>NET-F-001</td>\n",
       "      <td>.NET Developer</td>\n",
       "      <td>Fresher</td>\n",
       "      <td>0-1</td>\n",
       "      <td>[C#, VB.NET basics, .NET Framework, .NET Core ...</td>\n",
       "      <td>[Assist in coding and debugging applications, ...</td>\n",
       "      <td>[.NET, C#, ASP.NET MVC, Entity Framework, SQL ...</td>\n",
       "      <td>Entry</td>\n",
       "      <td>0</td>\n",
       "      <td>.NET Core fundamentals</td>\n",
       "    </tr>\n",
       "    <tr>\n",
       "      <th>0</th>\n",
       "      <td>NET-F-001</td>\n",
       "      <td>.NET Developer</td>\n",
       "      <td>Fresher</td>\n",
       "      <td>0-1</td>\n",
       "      <td>[C#, VB.NET basics, .NET Framework, .NET Core ...</td>\n",
       "      <td>[Assist in coding and debugging applications, ...</td>\n",
       "      <td>[.NET, C#, ASP.NET MVC, Entity Framework, SQL ...</td>\n",
       "      <td>Entry</td>\n",
       "      <td>0</td>\n",
       "      <td>ASP.NET</td>\n",
       "    </tr>\n",
       "    <tr>\n",
       "      <th>...</th>\n",
       "      <td>...</td>\n",
       "      <td>...</td>\n",
       "      <td>...</td>\n",
       "      <td>...</td>\n",
       "      <td>...</td>\n",
       "      <td>...</td>\n",
       "      <td>...</td>\n",
       "      <td>...</td>\n",
       "      <td>...</td>\n",
       "      <td>...</td>\n",
       "    </tr>\n",
       "    <tr>\n",
       "      <th>1067</th>\n",
       "      <td>WEB-E-020</td>\n",
       "      <td>Web Developer</td>\n",
       "      <td>Experienced</td>\n",
       "      <td>5+</td>\n",
       "      <td>[JavaScript, TypeScript, Angular, Node.js, Exp...</td>\n",
       "      <td>[Lead Angular front-end development, Develop N...</td>\n",
       "      <td>[Angular, Node.js, Express.js, SQL, Redis, Doc...</td>\n",
       "      <td>Senior</td>\n",
       "      <td>5</td>\n",
       "      <td>Redis</td>\n",
       "    </tr>\n",
       "    <tr>\n",
       "      <th>1067</th>\n",
       "      <td>WEB-E-020</td>\n",
       "      <td>Web Developer</td>\n",
       "      <td>Experienced</td>\n",
       "      <td>5+</td>\n",
       "      <td>[JavaScript, TypeScript, Angular, Node.js, Exp...</td>\n",
       "      <td>[Lead Angular front-end development, Develop N...</td>\n",
       "      <td>[Angular, Node.js, Express.js, SQL, Redis, Doc...</td>\n",
       "      <td>Senior</td>\n",
       "      <td>5</td>\n",
       "      <td>Docker</td>\n",
       "    </tr>\n",
       "    <tr>\n",
       "      <th>1067</th>\n",
       "      <td>WEB-E-020</td>\n",
       "      <td>Web Developer</td>\n",
       "      <td>Experienced</td>\n",
       "      <td>5+</td>\n",
       "      <td>[JavaScript, TypeScript, Angular, Node.js, Exp...</td>\n",
       "      <td>[Lead Angular front-end development, Develop N...</td>\n",
       "      <td>[Angular, Node.js, Express.js, SQL, Redis, Doc...</td>\n",
       "      <td>Senior</td>\n",
       "      <td>5</td>\n",
       "      <td>AWS</td>\n",
       "    </tr>\n",
       "    <tr>\n",
       "      <th>1067</th>\n",
       "      <td>WEB-E-020</td>\n",
       "      <td>Web Developer</td>\n",
       "      <td>Experienced</td>\n",
       "      <td>5+</td>\n",
       "      <td>[JavaScript, TypeScript, Angular, Node.js, Exp...</td>\n",
       "      <td>[Lead Angular front-end development, Develop N...</td>\n",
       "      <td>[Angular, Node.js, Express.js, SQL, Redis, Doc...</td>\n",
       "      <td>Senior</td>\n",
       "      <td>5</td>\n",
       "      <td>CI/CD</td>\n",
       "    </tr>\n",
       "    <tr>\n",
       "      <th>1067</th>\n",
       "      <td>WEB-E-020</td>\n",
       "      <td>Web Developer</td>\n",
       "      <td>Experienced</td>\n",
       "      <td>5+</td>\n",
       "      <td>[JavaScript, TypeScript, Angular, Node.js, Exp...</td>\n",
       "      <td>[Lead Angular front-end development, Develop N...</td>\n",
       "      <td>[Angular, Node.js, Express.js, SQL, Redis, Doc...</td>\n",
       "      <td>Senior</td>\n",
       "      <td>5</td>\n",
       "      <td>Testing with Jest/Enzyme</td>\n",
       "    </tr>\n",
       "  </tbody>\n",
       "</table>\n",
       "<p>12248 rows × 10 columns</p>\n",
       "</div>"
      ],
      "text/plain": [
       "          JobID           Title ExperienceLevel YearsOfExperience  \\\n",
       "0     NET-F-001  .NET Developer         Fresher               0-1   \n",
       "0     NET-F-001  .NET Developer         Fresher               0-1   \n",
       "0     NET-F-001  .NET Developer         Fresher               0-1   \n",
       "0     NET-F-001  .NET Developer         Fresher               0-1   \n",
       "0     NET-F-001  .NET Developer         Fresher               0-1   \n",
       "...         ...             ...             ...               ...   \n",
       "1067  WEB-E-020   Web Developer     Experienced                5+   \n",
       "1067  WEB-E-020   Web Developer     Experienced                5+   \n",
       "1067  WEB-E-020   Web Developer     Experienced                5+   \n",
       "1067  WEB-E-020   Web Developer     Experienced                5+   \n",
       "1067  WEB-E-020   Web Developer     Experienced                5+   \n",
       "\n",
       "                                                 Skills  \\\n",
       "0     [C#, VB.NET basics, .NET Framework, .NET Core ...   \n",
       "0     [C#, VB.NET basics, .NET Framework, .NET Core ...   \n",
       "0     [C#, VB.NET basics, .NET Framework, .NET Core ...   \n",
       "0     [C#, VB.NET basics, .NET Framework, .NET Core ...   \n",
       "0     [C#, VB.NET basics, .NET Framework, .NET Core ...   \n",
       "...                                                 ...   \n",
       "1067  [JavaScript, TypeScript, Angular, Node.js, Exp...   \n",
       "1067  [JavaScript, TypeScript, Angular, Node.js, Exp...   \n",
       "1067  [JavaScript, TypeScript, Angular, Node.js, Exp...   \n",
       "1067  [JavaScript, TypeScript, Angular, Node.js, Exp...   \n",
       "1067  [JavaScript, TypeScript, Angular, Node.js, Exp...   \n",
       "\n",
       "                                       Responsibilities  \\\n",
       "0     [Assist in coding and debugging applications, ...   \n",
       "0     [Assist in coding and debugging applications, ...   \n",
       "0     [Assist in coding and debugging applications, ...   \n",
       "0     [Assist in coding and debugging applications, ...   \n",
       "0     [Assist in coding and debugging applications, ...   \n",
       "...                                                 ...   \n",
       "1067  [Lead Angular front-end development, Develop N...   \n",
       "1067  [Lead Angular front-end development, Develop N...   \n",
       "1067  [Lead Angular front-end development, Develop N...   \n",
       "1067  [Lead Angular front-end development, Develop N...   \n",
       "1067  [Lead Angular front-end development, Develop N...   \n",
       "\n",
       "                                               Keywords ExperienceLevel_clean  \\\n",
       "0     [.NET, C#, ASP.NET MVC, Entity Framework, SQL ...                 Entry   \n",
       "0     [.NET, C#, ASP.NET MVC, Entity Framework, SQL ...                 Entry   \n",
       "0     [.NET, C#, ASP.NET MVC, Entity Framework, SQL ...                 Entry   \n",
       "0     [.NET, C#, ASP.NET MVC, Entity Framework, SQL ...                 Entry   \n",
       "0     [.NET, C#, ASP.NET MVC, Entity Framework, SQL ...                 Entry   \n",
       "...                                                 ...                   ...   \n",
       "1067  [Angular, Node.js, Express.js, SQL, Redis, Doc...                Senior   \n",
       "1067  [Angular, Node.js, Express.js, SQL, Redis, Doc...                Senior   \n",
       "1067  [Angular, Node.js, Express.js, SQL, Redis, Doc...                Senior   \n",
       "1067  [Angular, Node.js, Express.js, SQL, Redis, Doc...                Senior   \n",
       "1067  [Angular, Node.js, Express.js, SQL, Redis, Doc...                Senior   \n",
       "\n",
       "      YearsOfExperience_num                     Skill  \n",
       "0                         0                        C#  \n",
       "0                         0             VB.NET basics  \n",
       "0                         0            .NET Framework  \n",
       "0                         0    .NET Core fundamentals  \n",
       "0                         0                   ASP.NET  \n",
       "...                     ...                       ...  \n",
       "1067                      5                     Redis  \n",
       "1067                      5                    Docker  \n",
       "1067                      5                       AWS  \n",
       "1067                      5                     CI/CD  \n",
       "1067                      5  Testing with Jest/Enzyme  \n",
       "\n",
       "[12248 rows x 10 columns]"
      ]
     },
     "execution_count": 15,
     "metadata": {},
     "output_type": "execute_result"
    }
   ],
   "source": [
    "# Prepare data. \n",
    "\n",
    "## Transform thee skill column into a list\n",
    "df_raw[\"Skills_list\"] = df_raw[\"Skills\"].apply(\n",
    "    lambda x: ast.literal_eval(x) if isinstance(x, str) else x\n",
    ")\n",
    "\n",
    "## Create a skill table as a copy of the original data but with as much rows as the skills and jobs \n",
    "df_skills = df_raw.explode(\"Skills_list\").copy()                  \n",
    "df_skills.rename(columns={\"Skills_list\": \"Skill\"}, inplace=True) \n",
    "df_skills[\"Skill\"] = df_skills[\"Skill\"].str.strip()\n",
    "\n",
    "# Results\n",
    "df_skills"
   ]
  },
  {
   "cell_type": "code",
   "execution_count": 16,
   "id": "2b77b94b",
   "metadata": {},
   "outputs": [],
   "source": [
    "# Trainning model\n",
    "\n",
    "model = SentenceTransformer(\"all-MiniLM-L6-v2\")\n",
    "\n",
    "# Select unique skills\n",
    "skills = df_skills[\"Skill\"].dropna().unique()\n",
    "\n",
    "# Create the embeddings\n",
    "embeddings = model.encode(skills, normalize_embeddings=True)"
   ]
  },
  {
   "cell_type": "code",
   "execution_count": null,
   "id": "4cc9a85c",
   "metadata": {},
   "outputs": [],
   "source": [
    "# Cluster by cosine similarity\n",
    "clustering = AgglomerativeClustering(\n",
    "    n_clusters=None,       # We use threshold option\n",
    "    distance_threshold=0.15, \n",
    "    linkage='average', \n",
    "    metric='cosine'\n",
    "    )\n",
    "\n",
    "labels = clustering.fit_predict(embeddings)\n",
    "\n",
    "# We select as name the most common one\n",
    "cluster_map = {}\n",
    "for label, skill in zip(labels, skills):\n",
    "    cluster_map.setdefault(label, skill)\n",
    "df_skill_groups = {s: cluster_map[l] for s, l in zip(skills, labels)}\n",
    "\n",
    "df_skills[\"Skill_auto\"] = df_skills[\"Skill\"].map(df_skill_groups)"
   ]
  },
  {
   "cell_type": "code",
   "execution_count": 18,
   "id": "00c84528",
   "metadata": {},
   "outputs": [
    {
     "data": {
      "application/vnd.microsoft.datawrangler.viewer.v0+json": {
       "columns": [
        {
         "name": "index",
         "rawType": "int64",
         "type": "integer"
        },
        {
         "name": "JobID",
         "rawType": "object",
         "type": "string"
        },
        {
         "name": "Title",
         "rawType": "object",
         "type": "unknown"
        },
        {
         "name": "ExperienceLevel",
         "rawType": "object",
         "type": "string"
        },
        {
         "name": "YearsOfExperience",
         "rawType": "object",
         "type": "string"
        },
        {
         "name": "Skills",
         "rawType": "object",
         "type": "unknown"
        },
        {
         "name": "Responsibilities",
         "rawType": "object",
         "type": "unknown"
        },
        {
         "name": "Keywords",
         "rawType": "object",
         "type": "unknown"
        },
        {
         "name": "ExperienceLevel_clean",
         "rawType": "object",
         "type": "string"
        },
        {
         "name": "YearsOfExperience_num",
         "rawType": "Int64",
         "type": "integer"
        },
        {
         "name": "Skill",
         "rawType": "object",
         "type": "string"
        },
        {
         "name": "Skill_auto",
         "rawType": "object",
         "type": "string"
        }
       ],
       "ref": "e79476a4-e8b0-4808-844d-55c9eaaab5f5",
       "rows": [
        [
         "0",
         "NET-F-001",
         ".NET Developer",
         "Fresher",
         "0-1",
         "['C#', 'VB.NET basics', '.NET Framework', '.NET Core fundamentals', 'ASP.NET', 'MVC', 'HTML', 'CSS', 'JavaScript basics', 'SQL Server', 'Entity Framework basics', 'LINQ', 'Visual Studio', 'Git', 'Unit Testing basics']",
         "['Assist in coding and debugging applications', 'Learn and apply .NET Framework and Core fundamentals', 'Support team in building ASP.NET MVC web applications', 'Write basic SQL queries and work with Entity Framework', 'Collaborate with peers to solve issues', 'Participate in code reviews for learning', 'Follow best practices in coding', 'Work with version control (Git)']",
         "['.NET', 'C#', 'ASP.NET MVC', 'Entity Framework', 'SQL Server', 'LINQ', 'Visual Studio', 'Unit Testing']",
         "Entry",
         "0",
         "C#",
         "C#"
        ],
        [
         "0",
         "NET-F-001",
         ".NET Developer",
         "Fresher",
         "0-1",
         "['C#', 'VB.NET basics', '.NET Framework', '.NET Core fundamentals', 'ASP.NET', 'MVC', 'HTML', 'CSS', 'JavaScript basics', 'SQL Server', 'Entity Framework basics', 'LINQ', 'Visual Studio', 'Git', 'Unit Testing basics']",
         "['Assist in coding and debugging applications', 'Learn and apply .NET Framework and Core fundamentals', 'Support team in building ASP.NET MVC web applications', 'Write basic SQL queries and work with Entity Framework', 'Collaborate with peers to solve issues', 'Participate in code reviews for learning', 'Follow best practices in coding', 'Work with version control (Git)']",
         "['.NET', 'C#', 'ASP.NET MVC', 'Entity Framework', 'SQL Server', 'LINQ', 'Visual Studio', 'Unit Testing']",
         "Entry",
         "0",
         "VB.NET basics",
         "VB.NET basics"
        ],
        [
         "0",
         "NET-F-001",
         ".NET Developer",
         "Fresher",
         "0-1",
         "['C#', 'VB.NET basics', '.NET Framework', '.NET Core fundamentals', 'ASP.NET', 'MVC', 'HTML', 'CSS', 'JavaScript basics', 'SQL Server', 'Entity Framework basics', 'LINQ', 'Visual Studio', 'Git', 'Unit Testing basics']",
         "['Assist in coding and debugging applications', 'Learn and apply .NET Framework and Core fundamentals', 'Support team in building ASP.NET MVC web applications', 'Write basic SQL queries and work with Entity Framework', 'Collaborate with peers to solve issues', 'Participate in code reviews for learning', 'Follow best practices in coding', 'Work with version control (Git)']",
         "['.NET', 'C#', 'ASP.NET MVC', 'Entity Framework', 'SQL Server', 'LINQ', 'Visual Studio', 'Unit Testing']",
         "Entry",
         "0",
         ".NET Framework",
         ".NET Framework"
        ],
        [
         "0",
         "NET-F-001",
         ".NET Developer",
         "Fresher",
         "0-1",
         "['C#', 'VB.NET basics', '.NET Framework', '.NET Core fundamentals', 'ASP.NET', 'MVC', 'HTML', 'CSS', 'JavaScript basics', 'SQL Server', 'Entity Framework basics', 'LINQ', 'Visual Studio', 'Git', 'Unit Testing basics']",
         "['Assist in coding and debugging applications', 'Learn and apply .NET Framework and Core fundamentals', 'Support team in building ASP.NET MVC web applications', 'Write basic SQL queries and work with Entity Framework', 'Collaborate with peers to solve issues', 'Participate in code reviews for learning', 'Follow best practices in coding', 'Work with version control (Git)']",
         "['.NET', 'C#', 'ASP.NET MVC', 'Entity Framework', 'SQL Server', 'LINQ', 'Visual Studio', 'Unit Testing']",
         "Entry",
         "0",
         ".NET Core fundamentals",
         ".NET Core fundamentals"
        ],
        [
         "0",
         "NET-F-001",
         ".NET Developer",
         "Fresher",
         "0-1",
         "['C#', 'VB.NET basics', '.NET Framework', '.NET Core fundamentals', 'ASP.NET', 'MVC', 'HTML', 'CSS', 'JavaScript basics', 'SQL Server', 'Entity Framework basics', 'LINQ', 'Visual Studio', 'Git', 'Unit Testing basics']",
         "['Assist in coding and debugging applications', 'Learn and apply .NET Framework and Core fundamentals', 'Support team in building ASP.NET MVC web applications', 'Write basic SQL queries and work with Entity Framework', 'Collaborate with peers to solve issues', 'Participate in code reviews for learning', 'Follow best practices in coding', 'Work with version control (Git)']",
         "['.NET', 'C#', 'ASP.NET MVC', 'Entity Framework', 'SQL Server', 'LINQ', 'Visual Studio', 'Unit Testing']",
         "Entry",
         "0",
         "ASP.NET",
         "ASP.NET"
        ],
        [
         "0",
         "NET-F-001",
         ".NET Developer",
         "Fresher",
         "0-1",
         "['C#', 'VB.NET basics', '.NET Framework', '.NET Core fundamentals', 'ASP.NET', 'MVC', 'HTML', 'CSS', 'JavaScript basics', 'SQL Server', 'Entity Framework basics', 'LINQ', 'Visual Studio', 'Git', 'Unit Testing basics']",
         "['Assist in coding and debugging applications', 'Learn and apply .NET Framework and Core fundamentals', 'Support team in building ASP.NET MVC web applications', 'Write basic SQL queries and work with Entity Framework', 'Collaborate with peers to solve issues', 'Participate in code reviews for learning', 'Follow best practices in coding', 'Work with version control (Git)']",
         "['.NET', 'C#', 'ASP.NET MVC', 'Entity Framework', 'SQL Server', 'LINQ', 'Visual Studio', 'Unit Testing']",
         "Entry",
         "0",
         "MVC",
         "MVC"
        ],
        [
         "0",
         "NET-F-001",
         ".NET Developer",
         "Fresher",
         "0-1",
         "['C#', 'VB.NET basics', '.NET Framework', '.NET Core fundamentals', 'ASP.NET', 'MVC', 'HTML', 'CSS', 'JavaScript basics', 'SQL Server', 'Entity Framework basics', 'LINQ', 'Visual Studio', 'Git', 'Unit Testing basics']",
         "['Assist in coding and debugging applications', 'Learn and apply .NET Framework and Core fundamentals', 'Support team in building ASP.NET MVC web applications', 'Write basic SQL queries and work with Entity Framework', 'Collaborate with peers to solve issues', 'Participate in code reviews for learning', 'Follow best practices in coding', 'Work with version control (Git)']",
         "['.NET', 'C#', 'ASP.NET MVC', 'Entity Framework', 'SQL Server', 'LINQ', 'Visual Studio', 'Unit Testing']",
         "Entry",
         "0",
         "HTML",
         "HTML"
        ],
        [
         "0",
         "NET-F-001",
         ".NET Developer",
         "Fresher",
         "0-1",
         "['C#', 'VB.NET basics', '.NET Framework', '.NET Core fundamentals', 'ASP.NET', 'MVC', 'HTML', 'CSS', 'JavaScript basics', 'SQL Server', 'Entity Framework basics', 'LINQ', 'Visual Studio', 'Git', 'Unit Testing basics']",
         "['Assist in coding and debugging applications', 'Learn and apply .NET Framework and Core fundamentals', 'Support team in building ASP.NET MVC web applications', 'Write basic SQL queries and work with Entity Framework', 'Collaborate with peers to solve issues', 'Participate in code reviews for learning', 'Follow best practices in coding', 'Work with version control (Git)']",
         "['.NET', 'C#', 'ASP.NET MVC', 'Entity Framework', 'SQL Server', 'LINQ', 'Visual Studio', 'Unit Testing']",
         "Entry",
         "0",
         "CSS",
         "CSS"
        ],
        [
         "0",
         "NET-F-001",
         ".NET Developer",
         "Fresher",
         "0-1",
         "['C#', 'VB.NET basics', '.NET Framework', '.NET Core fundamentals', 'ASP.NET', 'MVC', 'HTML', 'CSS', 'JavaScript basics', 'SQL Server', 'Entity Framework basics', 'LINQ', 'Visual Studio', 'Git', 'Unit Testing basics']",
         "['Assist in coding and debugging applications', 'Learn and apply .NET Framework and Core fundamentals', 'Support team in building ASP.NET MVC web applications', 'Write basic SQL queries and work with Entity Framework', 'Collaborate with peers to solve issues', 'Participate in code reviews for learning', 'Follow best practices in coding', 'Work with version control (Git)']",
         "['.NET', 'C#', 'ASP.NET MVC', 'Entity Framework', 'SQL Server', 'LINQ', 'Visual Studio', 'Unit Testing']",
         "Entry",
         "0",
         "JavaScript basics",
         "JavaScript basics"
        ],
        [
         "0",
         "NET-F-001",
         ".NET Developer",
         "Fresher",
         "0-1",
         "['C#', 'VB.NET basics', '.NET Framework', '.NET Core fundamentals', 'ASP.NET', 'MVC', 'HTML', 'CSS', 'JavaScript basics', 'SQL Server', 'Entity Framework basics', 'LINQ', 'Visual Studio', 'Git', 'Unit Testing basics']",
         "['Assist in coding and debugging applications', 'Learn and apply .NET Framework and Core fundamentals', 'Support team in building ASP.NET MVC web applications', 'Write basic SQL queries and work with Entity Framework', 'Collaborate with peers to solve issues', 'Participate in code reviews for learning', 'Follow best practices in coding', 'Work with version control (Git)']",
         "['.NET', 'C#', 'ASP.NET MVC', 'Entity Framework', 'SQL Server', 'LINQ', 'Visual Studio', 'Unit Testing']",
         "Entry",
         "0",
         "SQL Server",
         "SQL Server"
        ],
        [
         "0",
         "NET-F-001",
         ".NET Developer",
         "Fresher",
         "0-1",
         "['C#', 'VB.NET basics', '.NET Framework', '.NET Core fundamentals', 'ASP.NET', 'MVC', 'HTML', 'CSS', 'JavaScript basics', 'SQL Server', 'Entity Framework basics', 'LINQ', 'Visual Studio', 'Git', 'Unit Testing basics']",
         "['Assist in coding and debugging applications', 'Learn and apply .NET Framework and Core fundamentals', 'Support team in building ASP.NET MVC web applications', 'Write basic SQL queries and work with Entity Framework', 'Collaborate with peers to solve issues', 'Participate in code reviews for learning', 'Follow best practices in coding', 'Work with version control (Git)']",
         "['.NET', 'C#', 'ASP.NET MVC', 'Entity Framework', 'SQL Server', 'LINQ', 'Visual Studio', 'Unit Testing']",
         "Entry",
         "0",
         "Entity Framework basics",
         "Entity Framework basics"
        ],
        [
         "0",
         "NET-F-001",
         ".NET Developer",
         "Fresher",
         "0-1",
         "['C#', 'VB.NET basics', '.NET Framework', '.NET Core fundamentals', 'ASP.NET', 'MVC', 'HTML', 'CSS', 'JavaScript basics', 'SQL Server', 'Entity Framework basics', 'LINQ', 'Visual Studio', 'Git', 'Unit Testing basics']",
         "['Assist in coding and debugging applications', 'Learn and apply .NET Framework and Core fundamentals', 'Support team in building ASP.NET MVC web applications', 'Write basic SQL queries and work with Entity Framework', 'Collaborate with peers to solve issues', 'Participate in code reviews for learning', 'Follow best practices in coding', 'Work with version control (Git)']",
         "['.NET', 'C#', 'ASP.NET MVC', 'Entity Framework', 'SQL Server', 'LINQ', 'Visual Studio', 'Unit Testing']",
         "Entry",
         "0",
         "LINQ",
         "LINQ"
        ],
        [
         "0",
         "NET-F-001",
         ".NET Developer",
         "Fresher",
         "0-1",
         "['C#', 'VB.NET basics', '.NET Framework', '.NET Core fundamentals', 'ASP.NET', 'MVC', 'HTML', 'CSS', 'JavaScript basics', 'SQL Server', 'Entity Framework basics', 'LINQ', 'Visual Studio', 'Git', 'Unit Testing basics']",
         "['Assist in coding and debugging applications', 'Learn and apply .NET Framework and Core fundamentals', 'Support team in building ASP.NET MVC web applications', 'Write basic SQL queries and work with Entity Framework', 'Collaborate with peers to solve issues', 'Participate in code reviews for learning', 'Follow best practices in coding', 'Work with version control (Git)']",
         "['.NET', 'C#', 'ASP.NET MVC', 'Entity Framework', 'SQL Server', 'LINQ', 'Visual Studio', 'Unit Testing']",
         "Entry",
         "0",
         "Visual Studio",
         "Visual Studio"
        ],
        [
         "0",
         "NET-F-001",
         ".NET Developer",
         "Fresher",
         "0-1",
         "['C#', 'VB.NET basics', '.NET Framework', '.NET Core fundamentals', 'ASP.NET', 'MVC', 'HTML', 'CSS', 'JavaScript basics', 'SQL Server', 'Entity Framework basics', 'LINQ', 'Visual Studio', 'Git', 'Unit Testing basics']",
         "['Assist in coding and debugging applications', 'Learn and apply .NET Framework and Core fundamentals', 'Support team in building ASP.NET MVC web applications', 'Write basic SQL queries and work with Entity Framework', 'Collaborate with peers to solve issues', 'Participate in code reviews for learning', 'Follow best practices in coding', 'Work with version control (Git)']",
         "['.NET', 'C#', 'ASP.NET MVC', 'Entity Framework', 'SQL Server', 'LINQ', 'Visual Studio', 'Unit Testing']",
         "Entry",
         "0",
         "Git",
         "Git"
        ],
        [
         "0",
         "NET-F-001",
         ".NET Developer",
         "Fresher",
         "0-1",
         "['C#', 'VB.NET basics', '.NET Framework', '.NET Core fundamentals', 'ASP.NET', 'MVC', 'HTML', 'CSS', 'JavaScript basics', 'SQL Server', 'Entity Framework basics', 'LINQ', 'Visual Studio', 'Git', 'Unit Testing basics']",
         "['Assist in coding and debugging applications', 'Learn and apply .NET Framework and Core fundamentals', 'Support team in building ASP.NET MVC web applications', 'Write basic SQL queries and work with Entity Framework', 'Collaborate with peers to solve issues', 'Participate in code reviews for learning', 'Follow best practices in coding', 'Work with version control (Git)']",
         "['.NET', 'C#', 'ASP.NET MVC', 'Entity Framework', 'SQL Server', 'LINQ', 'Visual Studio', 'Unit Testing']",
         "Entry",
         "0",
         "Unit Testing basics",
         "Unit Testing basics"
        ],
        [
         "1",
         "NET-F-002",
         ".NET Developer",
         "Fresher",
         "0-1",
         "['C#', '.NET Framework basics', 'ASP.NET', 'Razor', 'HTML', 'CSS', 'JavaScript basics', 'SQL Server', 'Entity Framework basics', 'NUnit basics']",
         "['Write simple C# programs under guidance', 'Support development of ASP.NET MVC applications', 'Implement Razor views and front-end logic', 'Assist in database query writing', 'Participate in unit testing tasks', 'Learn and apply LINQ for data operations', 'Work with mentors for code corrections']",
         "['.NET', 'C#', 'ASP.NET MVC', 'Entity Framework', 'SQL Server', 'Razor', 'Unit Testing']",
         "Entry",
         "0",
         "C#",
         "C#"
        ],
        [
         "1",
         "NET-F-002",
         ".NET Developer",
         "Fresher",
         "0-1",
         "['C#', '.NET Framework basics', 'ASP.NET', 'Razor', 'HTML', 'CSS', 'JavaScript basics', 'SQL Server', 'Entity Framework basics', 'NUnit basics']",
         "['Write simple C# programs under guidance', 'Support development of ASP.NET MVC applications', 'Implement Razor views and front-end logic', 'Assist in database query writing', 'Participate in unit testing tasks', 'Learn and apply LINQ for data operations', 'Work with mentors for code corrections']",
         "['.NET', 'C#', 'ASP.NET MVC', 'Entity Framework', 'SQL Server', 'Razor', 'Unit Testing']",
         "Entry",
         "0",
         ".NET Framework basics",
         ".NET Framework"
        ],
        [
         "1",
         "NET-F-002",
         ".NET Developer",
         "Fresher",
         "0-1",
         "['C#', '.NET Framework basics', 'ASP.NET', 'Razor', 'HTML', 'CSS', 'JavaScript basics', 'SQL Server', 'Entity Framework basics', 'NUnit basics']",
         "['Write simple C# programs under guidance', 'Support development of ASP.NET MVC applications', 'Implement Razor views and front-end logic', 'Assist in database query writing', 'Participate in unit testing tasks', 'Learn and apply LINQ for data operations', 'Work with mentors for code corrections']",
         "['.NET', 'C#', 'ASP.NET MVC', 'Entity Framework', 'SQL Server', 'Razor', 'Unit Testing']",
         "Entry",
         "0",
         "ASP.NET",
         "ASP.NET"
        ],
        [
         "1",
         "NET-F-002",
         ".NET Developer",
         "Fresher",
         "0-1",
         "['C#', '.NET Framework basics', 'ASP.NET', 'Razor', 'HTML', 'CSS', 'JavaScript basics', 'SQL Server', 'Entity Framework basics', 'NUnit basics']",
         "['Write simple C# programs under guidance', 'Support development of ASP.NET MVC applications', 'Implement Razor views and front-end logic', 'Assist in database query writing', 'Participate in unit testing tasks', 'Learn and apply LINQ for data operations', 'Work with mentors for code corrections']",
         "['.NET', 'C#', 'ASP.NET MVC', 'Entity Framework', 'SQL Server', 'Razor', 'Unit Testing']",
         "Entry",
         "0",
         "Razor",
         "Razor"
        ],
        [
         "1",
         "NET-F-002",
         ".NET Developer",
         "Fresher",
         "0-1",
         "['C#', '.NET Framework basics', 'ASP.NET', 'Razor', 'HTML', 'CSS', 'JavaScript basics', 'SQL Server', 'Entity Framework basics', 'NUnit basics']",
         "['Write simple C# programs under guidance', 'Support development of ASP.NET MVC applications', 'Implement Razor views and front-end logic', 'Assist in database query writing', 'Participate in unit testing tasks', 'Learn and apply LINQ for data operations', 'Work with mentors for code corrections']",
         "['.NET', 'C#', 'ASP.NET MVC', 'Entity Framework', 'SQL Server', 'Razor', 'Unit Testing']",
         "Entry",
         "0",
         "HTML",
         "HTML"
        ],
        [
         "1",
         "NET-F-002",
         ".NET Developer",
         "Fresher",
         "0-1",
         "['C#', '.NET Framework basics', 'ASP.NET', 'Razor', 'HTML', 'CSS', 'JavaScript basics', 'SQL Server', 'Entity Framework basics', 'NUnit basics']",
         "['Write simple C# programs under guidance', 'Support development of ASP.NET MVC applications', 'Implement Razor views and front-end logic', 'Assist in database query writing', 'Participate in unit testing tasks', 'Learn and apply LINQ for data operations', 'Work with mentors for code corrections']",
         "['.NET', 'C#', 'ASP.NET MVC', 'Entity Framework', 'SQL Server', 'Razor', 'Unit Testing']",
         "Entry",
         "0",
         "CSS",
         "CSS"
        ],
        [
         "1",
         "NET-F-002",
         ".NET Developer",
         "Fresher",
         "0-1",
         "['C#', '.NET Framework basics', 'ASP.NET', 'Razor', 'HTML', 'CSS', 'JavaScript basics', 'SQL Server', 'Entity Framework basics', 'NUnit basics']",
         "['Write simple C# programs under guidance', 'Support development of ASP.NET MVC applications', 'Implement Razor views and front-end logic', 'Assist in database query writing', 'Participate in unit testing tasks', 'Learn and apply LINQ for data operations', 'Work with mentors for code corrections']",
         "['.NET', 'C#', 'ASP.NET MVC', 'Entity Framework', 'SQL Server', 'Razor', 'Unit Testing']",
         "Entry",
         "0",
         "JavaScript basics",
         "JavaScript basics"
        ],
        [
         "1",
         "NET-F-002",
         ".NET Developer",
         "Fresher",
         "0-1",
         "['C#', '.NET Framework basics', 'ASP.NET', 'Razor', 'HTML', 'CSS', 'JavaScript basics', 'SQL Server', 'Entity Framework basics', 'NUnit basics']",
         "['Write simple C# programs under guidance', 'Support development of ASP.NET MVC applications', 'Implement Razor views and front-end logic', 'Assist in database query writing', 'Participate in unit testing tasks', 'Learn and apply LINQ for data operations', 'Work with mentors for code corrections']",
         "['.NET', 'C#', 'ASP.NET MVC', 'Entity Framework', 'SQL Server', 'Razor', 'Unit Testing']",
         "Entry",
         "0",
         "SQL Server",
         "SQL Server"
        ],
        [
         "1",
         "NET-F-002",
         ".NET Developer",
         "Fresher",
         "0-1",
         "['C#', '.NET Framework basics', 'ASP.NET', 'Razor', 'HTML', 'CSS', 'JavaScript basics', 'SQL Server', 'Entity Framework basics', 'NUnit basics']",
         "['Write simple C# programs under guidance', 'Support development of ASP.NET MVC applications', 'Implement Razor views and front-end logic', 'Assist in database query writing', 'Participate in unit testing tasks', 'Learn and apply LINQ for data operations', 'Work with mentors for code corrections']",
         "['.NET', 'C#', 'ASP.NET MVC', 'Entity Framework', 'SQL Server', 'Razor', 'Unit Testing']",
         "Entry",
         "0",
         "Entity Framework basics",
         "Entity Framework basics"
        ],
        [
         "1",
         "NET-F-002",
         ".NET Developer",
         "Fresher",
         "0-1",
         "['C#', '.NET Framework basics', 'ASP.NET', 'Razor', 'HTML', 'CSS', 'JavaScript basics', 'SQL Server', 'Entity Framework basics', 'NUnit basics']",
         "['Write simple C# programs under guidance', 'Support development of ASP.NET MVC applications', 'Implement Razor views and front-end logic', 'Assist in database query writing', 'Participate in unit testing tasks', 'Learn and apply LINQ for data operations', 'Work with mentors for code corrections']",
         "['.NET', 'C#', 'ASP.NET MVC', 'Entity Framework', 'SQL Server', 'Razor', 'Unit Testing']",
         "Entry",
         "0",
         "NUnit basics",
         "NUnit basics"
        ],
        [
         "2",
         "NET-F-003",
         ".NET Developer",
         "Fresher",
         "0-1",
         "['C#', 'VB.NET basics', '.NET Core', 'ASP.NET MVC', 'HTML', 'CSS', 'JavaScript basics', 'SQL Server', 'Git']",
         "['Contribute to development of small modules', 'Assist in bug fixing and debugging', 'Learn and implement MVC patterns', 'Support database integration tasks', 'Understand version control basics', 'Work on minor testing scripts', 'Follow coding standards']",
         "['.NET', 'C#', 'ASP.NET MVC', 'SQL Server', 'Entity Framework', 'Git']",
         "Entry",
         "0",
         "C#",
         "C#"
        ],
        [
         "2",
         "NET-F-003",
         ".NET Developer",
         "Fresher",
         "0-1",
         "['C#', 'VB.NET basics', '.NET Core', 'ASP.NET MVC', 'HTML', 'CSS', 'JavaScript basics', 'SQL Server', 'Git']",
         "['Contribute to development of small modules', 'Assist in bug fixing and debugging', 'Learn and implement MVC patterns', 'Support database integration tasks', 'Understand version control basics', 'Work on minor testing scripts', 'Follow coding standards']",
         "['.NET', 'C#', 'ASP.NET MVC', 'SQL Server', 'Entity Framework', 'Git']",
         "Entry",
         "0",
         "VB.NET basics",
         "VB.NET basics"
        ],
        [
         "2",
         "NET-F-003",
         ".NET Developer",
         "Fresher",
         "0-1",
         "['C#', 'VB.NET basics', '.NET Core', 'ASP.NET MVC', 'HTML', 'CSS', 'JavaScript basics', 'SQL Server', 'Git']",
         "['Contribute to development of small modules', 'Assist in bug fixing and debugging', 'Learn and implement MVC patterns', 'Support database integration tasks', 'Understand version control basics', 'Work on minor testing scripts', 'Follow coding standards']",
         "['.NET', 'C#', 'ASP.NET MVC', 'SQL Server', 'Entity Framework', 'Git']",
         "Entry",
         "0",
         ".NET Core",
         ".NET Core fundamentals"
        ],
        [
         "2",
         "NET-F-003",
         ".NET Developer",
         "Fresher",
         "0-1",
         "['C#', 'VB.NET basics', '.NET Core', 'ASP.NET MVC', 'HTML', 'CSS', 'JavaScript basics', 'SQL Server', 'Git']",
         "['Contribute to development of small modules', 'Assist in bug fixing and debugging', 'Learn and implement MVC patterns', 'Support database integration tasks', 'Understand version control basics', 'Work on minor testing scripts', 'Follow coding standards']",
         "['.NET', 'C#', 'ASP.NET MVC', 'SQL Server', 'Entity Framework', 'Git']",
         "Entry",
         "0",
         "ASP.NET MVC",
         "MVC"
        ],
        [
         "2",
         "NET-F-003",
         ".NET Developer",
         "Fresher",
         "0-1",
         "['C#', 'VB.NET basics', '.NET Core', 'ASP.NET MVC', 'HTML', 'CSS', 'JavaScript basics', 'SQL Server', 'Git']",
         "['Contribute to development of small modules', 'Assist in bug fixing and debugging', 'Learn and implement MVC patterns', 'Support database integration tasks', 'Understand version control basics', 'Work on minor testing scripts', 'Follow coding standards']",
         "['.NET', 'C#', 'ASP.NET MVC', 'SQL Server', 'Entity Framework', 'Git']",
         "Entry",
         "0",
         "HTML",
         "HTML"
        ],
        [
         "2",
         "NET-F-003",
         ".NET Developer",
         "Fresher",
         "0-1",
         "['C#', 'VB.NET basics', '.NET Core', 'ASP.NET MVC', 'HTML', 'CSS', 'JavaScript basics', 'SQL Server', 'Git']",
         "['Contribute to development of small modules', 'Assist in bug fixing and debugging', 'Learn and implement MVC patterns', 'Support database integration tasks', 'Understand version control basics', 'Work on minor testing scripts', 'Follow coding standards']",
         "['.NET', 'C#', 'ASP.NET MVC', 'SQL Server', 'Entity Framework', 'Git']",
         "Entry",
         "0",
         "CSS",
         "CSS"
        ],
        [
         "2",
         "NET-F-003",
         ".NET Developer",
         "Fresher",
         "0-1",
         "['C#', 'VB.NET basics', '.NET Core', 'ASP.NET MVC', 'HTML', 'CSS', 'JavaScript basics', 'SQL Server', 'Git']",
         "['Contribute to development of small modules', 'Assist in bug fixing and debugging', 'Learn and implement MVC patterns', 'Support database integration tasks', 'Understand version control basics', 'Work on minor testing scripts', 'Follow coding standards']",
         "['.NET', 'C#', 'ASP.NET MVC', 'SQL Server', 'Entity Framework', 'Git']",
         "Entry",
         "0",
         "JavaScript basics",
         "JavaScript basics"
        ],
        [
         "2",
         "NET-F-003",
         ".NET Developer",
         "Fresher",
         "0-1",
         "['C#', 'VB.NET basics', '.NET Core', 'ASP.NET MVC', 'HTML', 'CSS', 'JavaScript basics', 'SQL Server', 'Git']",
         "['Contribute to development of small modules', 'Assist in bug fixing and debugging', 'Learn and implement MVC patterns', 'Support database integration tasks', 'Understand version control basics', 'Work on minor testing scripts', 'Follow coding standards']",
         "['.NET', 'C#', 'ASP.NET MVC', 'SQL Server', 'Entity Framework', 'Git']",
         "Entry",
         "0",
         "SQL Server",
         "SQL Server"
        ],
        [
         "2",
         "NET-F-003",
         ".NET Developer",
         "Fresher",
         "0-1",
         "['C#', 'VB.NET basics', '.NET Core', 'ASP.NET MVC', 'HTML', 'CSS', 'JavaScript basics', 'SQL Server', 'Git']",
         "['Contribute to development of small modules', 'Assist in bug fixing and debugging', 'Learn and implement MVC patterns', 'Support database integration tasks', 'Understand version control basics', 'Work on minor testing scripts', 'Follow coding standards']",
         "['.NET', 'C#', 'ASP.NET MVC', 'SQL Server', 'Entity Framework', 'Git']",
         "Entry",
         "0",
         "Git",
         "Git"
        ],
        [
         "3",
         "NET-F-004",
         ".NET Developer",
         "Fresher",
         "0-1",
         "['C#', '.NET Framework', 'ASP.NET basics', 'SQL Server', 'HTML', 'CSS', 'LINQ', 'Visual Studio']",
         "['Support in software design documentation', 'Assist senior developers in testing', 'Create small UI components', 'Debug and test applications', 'Implement basic LINQ queries', 'Participate in code maintenance']",
         "['.NET', 'C#', 'SQL Server', 'Entity Framework', 'ASP.NET']",
         "Entry",
         "0",
         "C#",
         "C#"
        ],
        [
         "3",
         "NET-F-004",
         ".NET Developer",
         "Fresher",
         "0-1",
         "['C#', '.NET Framework', 'ASP.NET basics', 'SQL Server', 'HTML', 'CSS', 'LINQ', 'Visual Studio']",
         "['Support in software design documentation', 'Assist senior developers in testing', 'Create small UI components', 'Debug and test applications', 'Implement basic LINQ queries', 'Participate in code maintenance']",
         "['.NET', 'C#', 'SQL Server', 'Entity Framework', 'ASP.NET']",
         "Entry",
         "0",
         ".NET Framework",
         ".NET Framework"
        ],
        [
         "3",
         "NET-F-004",
         ".NET Developer",
         "Fresher",
         "0-1",
         "['C#', '.NET Framework', 'ASP.NET basics', 'SQL Server', 'HTML', 'CSS', 'LINQ', 'Visual Studio']",
         "['Support in software design documentation', 'Assist senior developers in testing', 'Create small UI components', 'Debug and test applications', 'Implement basic LINQ queries', 'Participate in code maintenance']",
         "['.NET', 'C#', 'SQL Server', 'Entity Framework', 'ASP.NET']",
         "Entry",
         "0",
         "ASP.NET basics",
         "ASP.NET basics"
        ],
        [
         "3",
         "NET-F-004",
         ".NET Developer",
         "Fresher",
         "0-1",
         "['C#', '.NET Framework', 'ASP.NET basics', 'SQL Server', 'HTML', 'CSS', 'LINQ', 'Visual Studio']",
         "['Support in software design documentation', 'Assist senior developers in testing', 'Create small UI components', 'Debug and test applications', 'Implement basic LINQ queries', 'Participate in code maintenance']",
         "['.NET', 'C#', 'SQL Server', 'Entity Framework', 'ASP.NET']",
         "Entry",
         "0",
         "SQL Server",
         "SQL Server"
        ],
        [
         "3",
         "NET-F-004",
         ".NET Developer",
         "Fresher",
         "0-1",
         "['C#', '.NET Framework', 'ASP.NET basics', 'SQL Server', 'HTML', 'CSS', 'LINQ', 'Visual Studio']",
         "['Support in software design documentation', 'Assist senior developers in testing', 'Create small UI components', 'Debug and test applications', 'Implement basic LINQ queries', 'Participate in code maintenance']",
         "['.NET', 'C#', 'SQL Server', 'Entity Framework', 'ASP.NET']",
         "Entry",
         "0",
         "HTML",
         "HTML"
        ],
        [
         "3",
         "NET-F-004",
         ".NET Developer",
         "Fresher",
         "0-1",
         "['C#', '.NET Framework', 'ASP.NET basics', 'SQL Server', 'HTML', 'CSS', 'LINQ', 'Visual Studio']",
         "['Support in software design documentation', 'Assist senior developers in testing', 'Create small UI components', 'Debug and test applications', 'Implement basic LINQ queries', 'Participate in code maintenance']",
         "['.NET', 'C#', 'SQL Server', 'Entity Framework', 'ASP.NET']",
         "Entry",
         "0",
         "CSS",
         "CSS"
        ],
        [
         "3",
         "NET-F-004",
         ".NET Developer",
         "Fresher",
         "0-1",
         "['C#', '.NET Framework', 'ASP.NET basics', 'SQL Server', 'HTML', 'CSS', 'LINQ', 'Visual Studio']",
         "['Support in software design documentation', 'Assist senior developers in testing', 'Create small UI components', 'Debug and test applications', 'Implement basic LINQ queries', 'Participate in code maintenance']",
         "['.NET', 'C#', 'SQL Server', 'Entity Framework', 'ASP.NET']",
         "Entry",
         "0",
         "LINQ",
         "LINQ"
        ],
        [
         "3",
         "NET-F-004",
         ".NET Developer",
         "Fresher",
         "0-1",
         "['C#', '.NET Framework', 'ASP.NET basics', 'SQL Server', 'HTML', 'CSS', 'LINQ', 'Visual Studio']",
         "['Support in software design documentation', 'Assist senior developers in testing', 'Create small UI components', 'Debug and test applications', 'Implement basic LINQ queries', 'Participate in code maintenance']",
         "['.NET', 'C#', 'SQL Server', 'Entity Framework', 'ASP.NET']",
         "Entry",
         "0",
         "Visual Studio",
         "Visual Studio"
        ],
        [
         "4",
         "NET-F-005",
         ".NET Developer",
         "Fresher",
         "0-1",
         "['C#', 'ASP.NET', 'MVC', 'Entity Framework basics', 'SQL Server', 'HTML', 'CSS', 'JavaScript basics']",
         "['Learn to design and build ASP.NET applications', 'Assist in connecting apps to SQL Server', 'Work on UI development', 'Participate in daily standups', 'Write small unit test cases']",
         "['.NET', 'C#', 'ASP.NET MVC', 'Entity Framework', 'SQL Server']",
         "Entry",
         "0",
         "C#",
         "C#"
        ],
        [
         "4",
         "NET-F-005",
         ".NET Developer",
         "Fresher",
         "0-1",
         "['C#', 'ASP.NET', 'MVC', 'Entity Framework basics', 'SQL Server', 'HTML', 'CSS', 'JavaScript basics']",
         "['Learn to design and build ASP.NET applications', 'Assist in connecting apps to SQL Server', 'Work on UI development', 'Participate in daily standups', 'Write small unit test cases']",
         "['.NET', 'C#', 'ASP.NET MVC', 'Entity Framework', 'SQL Server']",
         "Entry",
         "0",
         "ASP.NET",
         "ASP.NET"
        ],
        [
         "4",
         "NET-F-005",
         ".NET Developer",
         "Fresher",
         "0-1",
         "['C#', 'ASP.NET', 'MVC', 'Entity Framework basics', 'SQL Server', 'HTML', 'CSS', 'JavaScript basics']",
         "['Learn to design and build ASP.NET applications', 'Assist in connecting apps to SQL Server', 'Work on UI development', 'Participate in daily standups', 'Write small unit test cases']",
         "['.NET', 'C#', 'ASP.NET MVC', 'Entity Framework', 'SQL Server']",
         "Entry",
         "0",
         "MVC",
         "MVC"
        ],
        [
         "4",
         "NET-F-005",
         ".NET Developer",
         "Fresher",
         "0-1",
         "['C#', 'ASP.NET', 'MVC', 'Entity Framework basics', 'SQL Server', 'HTML', 'CSS', 'JavaScript basics']",
         "['Learn to design and build ASP.NET applications', 'Assist in connecting apps to SQL Server', 'Work on UI development', 'Participate in daily standups', 'Write small unit test cases']",
         "['.NET', 'C#', 'ASP.NET MVC', 'Entity Framework', 'SQL Server']",
         "Entry",
         "0",
         "Entity Framework basics",
         "Entity Framework basics"
        ],
        [
         "4",
         "NET-F-005",
         ".NET Developer",
         "Fresher",
         "0-1",
         "['C#', 'ASP.NET', 'MVC', 'Entity Framework basics', 'SQL Server', 'HTML', 'CSS', 'JavaScript basics']",
         "['Learn to design and build ASP.NET applications', 'Assist in connecting apps to SQL Server', 'Work on UI development', 'Participate in daily standups', 'Write small unit test cases']",
         "['.NET', 'C#', 'ASP.NET MVC', 'Entity Framework', 'SQL Server']",
         "Entry",
         "0",
         "SQL Server",
         "SQL Server"
        ],
        [
         "4",
         "NET-F-005",
         ".NET Developer",
         "Fresher",
         "0-1",
         "['C#', 'ASP.NET', 'MVC', 'Entity Framework basics', 'SQL Server', 'HTML', 'CSS', 'JavaScript basics']",
         "['Learn to design and build ASP.NET applications', 'Assist in connecting apps to SQL Server', 'Work on UI development', 'Participate in daily standups', 'Write small unit test cases']",
         "['.NET', 'C#', 'ASP.NET MVC', 'Entity Framework', 'SQL Server']",
         "Entry",
         "0",
         "HTML",
         "HTML"
        ],
        [
         "4",
         "NET-F-005",
         ".NET Developer",
         "Fresher",
         "0-1",
         "['C#', 'ASP.NET', 'MVC', 'Entity Framework basics', 'SQL Server', 'HTML', 'CSS', 'JavaScript basics']",
         "['Learn to design and build ASP.NET applications', 'Assist in connecting apps to SQL Server', 'Work on UI development', 'Participate in daily standups', 'Write small unit test cases']",
         "['.NET', 'C#', 'ASP.NET MVC', 'Entity Framework', 'SQL Server']",
         "Entry",
         "0",
         "CSS",
         "CSS"
        ],
        [
         "4",
         "NET-F-005",
         ".NET Developer",
         "Fresher",
         "0-1",
         "['C#', 'ASP.NET', 'MVC', 'Entity Framework basics', 'SQL Server', 'HTML', 'CSS', 'JavaScript basics']",
         "['Learn to design and build ASP.NET applications', 'Assist in connecting apps to SQL Server', 'Work on UI development', 'Participate in daily standups', 'Write small unit test cases']",
         "['.NET', 'C#', 'ASP.NET MVC', 'Entity Framework', 'SQL Server']",
         "Entry",
         "0",
         "JavaScript basics",
         "JavaScript basics"
        ]
       ],
       "shape": {
        "columns": 11,
        "rows": 12248
       }
      },
      "text/html": [
       "<div>\n",
       "<style scoped>\n",
       "    .dataframe tbody tr th:only-of-type {\n",
       "        vertical-align: middle;\n",
       "    }\n",
       "\n",
       "    .dataframe tbody tr th {\n",
       "        vertical-align: top;\n",
       "    }\n",
       "\n",
       "    .dataframe thead th {\n",
       "        text-align: right;\n",
       "    }\n",
       "</style>\n",
       "<table border=\"1\" class=\"dataframe\">\n",
       "  <thead>\n",
       "    <tr style=\"text-align: right;\">\n",
       "      <th></th>\n",
       "      <th>JobID</th>\n",
       "      <th>Title</th>\n",
       "      <th>ExperienceLevel</th>\n",
       "      <th>YearsOfExperience</th>\n",
       "      <th>Skills</th>\n",
       "      <th>Responsibilities</th>\n",
       "      <th>Keywords</th>\n",
       "      <th>ExperienceLevel_clean</th>\n",
       "      <th>YearsOfExperience_num</th>\n",
       "      <th>Skill</th>\n",
       "      <th>Skill_auto</th>\n",
       "    </tr>\n",
       "  </thead>\n",
       "  <tbody>\n",
       "    <tr>\n",
       "      <th>0</th>\n",
       "      <td>NET-F-001</td>\n",
       "      <td>.NET Developer</td>\n",
       "      <td>Fresher</td>\n",
       "      <td>0-1</td>\n",
       "      <td>[C#, VB.NET basics, .NET Framework, .NET Core ...</td>\n",
       "      <td>[Assist in coding and debugging applications, ...</td>\n",
       "      <td>[.NET, C#, ASP.NET MVC, Entity Framework, SQL ...</td>\n",
       "      <td>Entry</td>\n",
       "      <td>0</td>\n",
       "      <td>C#</td>\n",
       "      <td>C#</td>\n",
       "    </tr>\n",
       "    <tr>\n",
       "      <th>0</th>\n",
       "      <td>NET-F-001</td>\n",
       "      <td>.NET Developer</td>\n",
       "      <td>Fresher</td>\n",
       "      <td>0-1</td>\n",
       "      <td>[C#, VB.NET basics, .NET Framework, .NET Core ...</td>\n",
       "      <td>[Assist in coding and debugging applications, ...</td>\n",
       "      <td>[.NET, C#, ASP.NET MVC, Entity Framework, SQL ...</td>\n",
       "      <td>Entry</td>\n",
       "      <td>0</td>\n",
       "      <td>VB.NET basics</td>\n",
       "      <td>VB.NET basics</td>\n",
       "    </tr>\n",
       "    <tr>\n",
       "      <th>0</th>\n",
       "      <td>NET-F-001</td>\n",
       "      <td>.NET Developer</td>\n",
       "      <td>Fresher</td>\n",
       "      <td>0-1</td>\n",
       "      <td>[C#, VB.NET basics, .NET Framework, .NET Core ...</td>\n",
       "      <td>[Assist in coding and debugging applications, ...</td>\n",
       "      <td>[.NET, C#, ASP.NET MVC, Entity Framework, SQL ...</td>\n",
       "      <td>Entry</td>\n",
       "      <td>0</td>\n",
       "      <td>.NET Framework</td>\n",
       "      <td>.NET Framework</td>\n",
       "    </tr>\n",
       "    <tr>\n",
       "      <th>0</th>\n",
       "      <td>NET-F-001</td>\n",
       "      <td>.NET Developer</td>\n",
       "      <td>Fresher</td>\n",
       "      <td>0-1</td>\n",
       "      <td>[C#, VB.NET basics, .NET Framework, .NET Core ...</td>\n",
       "      <td>[Assist in coding and debugging applications, ...</td>\n",
       "      <td>[.NET, C#, ASP.NET MVC, Entity Framework, SQL ...</td>\n",
       "      <td>Entry</td>\n",
       "      <td>0</td>\n",
       "      <td>.NET Core fundamentals</td>\n",
       "      <td>.NET Core fundamentals</td>\n",
       "    </tr>\n",
       "    <tr>\n",
       "      <th>0</th>\n",
       "      <td>NET-F-001</td>\n",
       "      <td>.NET Developer</td>\n",
       "      <td>Fresher</td>\n",
       "      <td>0-1</td>\n",
       "      <td>[C#, VB.NET basics, .NET Framework, .NET Core ...</td>\n",
       "      <td>[Assist in coding and debugging applications, ...</td>\n",
       "      <td>[.NET, C#, ASP.NET MVC, Entity Framework, SQL ...</td>\n",
       "      <td>Entry</td>\n",
       "      <td>0</td>\n",
       "      <td>ASP.NET</td>\n",
       "      <td>ASP.NET</td>\n",
       "    </tr>\n",
       "    <tr>\n",
       "      <th>...</th>\n",
       "      <td>...</td>\n",
       "      <td>...</td>\n",
       "      <td>...</td>\n",
       "      <td>...</td>\n",
       "      <td>...</td>\n",
       "      <td>...</td>\n",
       "      <td>...</td>\n",
       "      <td>...</td>\n",
       "      <td>...</td>\n",
       "      <td>...</td>\n",
       "      <td>...</td>\n",
       "    </tr>\n",
       "    <tr>\n",
       "      <th>1067</th>\n",
       "      <td>WEB-E-020</td>\n",
       "      <td>Web Developer</td>\n",
       "      <td>Experienced</td>\n",
       "      <td>5+</td>\n",
       "      <td>[JavaScript, TypeScript, Angular, Node.js, Exp...</td>\n",
       "      <td>[Lead Angular front-end development, Develop N...</td>\n",
       "      <td>[Angular, Node.js, Express.js, SQL, Redis, Doc...</td>\n",
       "      <td>Senior</td>\n",
       "      <td>5</td>\n",
       "      <td>Redis</td>\n",
       "      <td>Redis</td>\n",
       "    </tr>\n",
       "    <tr>\n",
       "      <th>1067</th>\n",
       "      <td>WEB-E-020</td>\n",
       "      <td>Web Developer</td>\n",
       "      <td>Experienced</td>\n",
       "      <td>5+</td>\n",
       "      <td>[JavaScript, TypeScript, Angular, Node.js, Exp...</td>\n",
       "      <td>[Lead Angular front-end development, Develop N...</td>\n",
       "      <td>[Angular, Node.js, Express.js, SQL, Redis, Doc...</td>\n",
       "      <td>Senior</td>\n",
       "      <td>5</td>\n",
       "      <td>Docker</td>\n",
       "      <td>Docker</td>\n",
       "    </tr>\n",
       "    <tr>\n",
       "      <th>1067</th>\n",
       "      <td>WEB-E-020</td>\n",
       "      <td>Web Developer</td>\n",
       "      <td>Experienced</td>\n",
       "      <td>5+</td>\n",
       "      <td>[JavaScript, TypeScript, Angular, Node.js, Exp...</td>\n",
       "      <td>[Lead Angular front-end development, Develop N...</td>\n",
       "      <td>[Angular, Node.js, Express.js, SQL, Redis, Doc...</td>\n",
       "      <td>Senior</td>\n",
       "      <td>5</td>\n",
       "      <td>AWS</td>\n",
       "      <td>AWS</td>\n",
       "    </tr>\n",
       "    <tr>\n",
       "      <th>1067</th>\n",
       "      <td>WEB-E-020</td>\n",
       "      <td>Web Developer</td>\n",
       "      <td>Experienced</td>\n",
       "      <td>5+</td>\n",
       "      <td>[JavaScript, TypeScript, Angular, Node.js, Exp...</td>\n",
       "      <td>[Lead Angular front-end development, Develop N...</td>\n",
       "      <td>[Angular, Node.js, Express.js, SQL, Redis, Doc...</td>\n",
       "      <td>Senior</td>\n",
       "      <td>5</td>\n",
       "      <td>CI/CD</td>\n",
       "      <td>CI/CD</td>\n",
       "    </tr>\n",
       "    <tr>\n",
       "      <th>1067</th>\n",
       "      <td>WEB-E-020</td>\n",
       "      <td>Web Developer</td>\n",
       "      <td>Experienced</td>\n",
       "      <td>5+</td>\n",
       "      <td>[JavaScript, TypeScript, Angular, Node.js, Exp...</td>\n",
       "      <td>[Lead Angular front-end development, Develop N...</td>\n",
       "      <td>[Angular, Node.js, Express.js, SQL, Redis, Doc...</td>\n",
       "      <td>Senior</td>\n",
       "      <td>5</td>\n",
       "      <td>Testing with Jest/Enzyme</td>\n",
       "      <td>Testing with Jest</td>\n",
       "    </tr>\n",
       "  </tbody>\n",
       "</table>\n",
       "<p>12248 rows × 11 columns</p>\n",
       "</div>"
      ],
      "text/plain": [
       "          JobID           Title ExperienceLevel YearsOfExperience  \\\n",
       "0     NET-F-001  .NET Developer         Fresher               0-1   \n",
       "0     NET-F-001  .NET Developer         Fresher               0-1   \n",
       "0     NET-F-001  .NET Developer         Fresher               0-1   \n",
       "0     NET-F-001  .NET Developer         Fresher               0-1   \n",
       "0     NET-F-001  .NET Developer         Fresher               0-1   \n",
       "...         ...             ...             ...               ...   \n",
       "1067  WEB-E-020   Web Developer     Experienced                5+   \n",
       "1067  WEB-E-020   Web Developer     Experienced                5+   \n",
       "1067  WEB-E-020   Web Developer     Experienced                5+   \n",
       "1067  WEB-E-020   Web Developer     Experienced                5+   \n",
       "1067  WEB-E-020   Web Developer     Experienced                5+   \n",
       "\n",
       "                                                 Skills  \\\n",
       "0     [C#, VB.NET basics, .NET Framework, .NET Core ...   \n",
       "0     [C#, VB.NET basics, .NET Framework, .NET Core ...   \n",
       "0     [C#, VB.NET basics, .NET Framework, .NET Core ...   \n",
       "0     [C#, VB.NET basics, .NET Framework, .NET Core ...   \n",
       "0     [C#, VB.NET basics, .NET Framework, .NET Core ...   \n",
       "...                                                 ...   \n",
       "1067  [JavaScript, TypeScript, Angular, Node.js, Exp...   \n",
       "1067  [JavaScript, TypeScript, Angular, Node.js, Exp...   \n",
       "1067  [JavaScript, TypeScript, Angular, Node.js, Exp...   \n",
       "1067  [JavaScript, TypeScript, Angular, Node.js, Exp...   \n",
       "1067  [JavaScript, TypeScript, Angular, Node.js, Exp...   \n",
       "\n",
       "                                       Responsibilities  \\\n",
       "0     [Assist in coding and debugging applications, ...   \n",
       "0     [Assist in coding and debugging applications, ...   \n",
       "0     [Assist in coding and debugging applications, ...   \n",
       "0     [Assist in coding and debugging applications, ...   \n",
       "0     [Assist in coding and debugging applications, ...   \n",
       "...                                                 ...   \n",
       "1067  [Lead Angular front-end development, Develop N...   \n",
       "1067  [Lead Angular front-end development, Develop N...   \n",
       "1067  [Lead Angular front-end development, Develop N...   \n",
       "1067  [Lead Angular front-end development, Develop N...   \n",
       "1067  [Lead Angular front-end development, Develop N...   \n",
       "\n",
       "                                               Keywords ExperienceLevel_clean  \\\n",
       "0     [.NET, C#, ASP.NET MVC, Entity Framework, SQL ...                 Entry   \n",
       "0     [.NET, C#, ASP.NET MVC, Entity Framework, SQL ...                 Entry   \n",
       "0     [.NET, C#, ASP.NET MVC, Entity Framework, SQL ...                 Entry   \n",
       "0     [.NET, C#, ASP.NET MVC, Entity Framework, SQL ...                 Entry   \n",
       "0     [.NET, C#, ASP.NET MVC, Entity Framework, SQL ...                 Entry   \n",
       "...                                                 ...                   ...   \n",
       "1067  [Angular, Node.js, Express.js, SQL, Redis, Doc...                Senior   \n",
       "1067  [Angular, Node.js, Express.js, SQL, Redis, Doc...                Senior   \n",
       "1067  [Angular, Node.js, Express.js, SQL, Redis, Doc...                Senior   \n",
       "1067  [Angular, Node.js, Express.js, SQL, Redis, Doc...                Senior   \n",
       "1067  [Angular, Node.js, Express.js, SQL, Redis, Doc...                Senior   \n",
       "\n",
       "      YearsOfExperience_num                     Skill              Skill_auto  \n",
       "0                         0                        C#                      C#  \n",
       "0                         0             VB.NET basics           VB.NET basics  \n",
       "0                         0            .NET Framework          .NET Framework  \n",
       "0                         0    .NET Core fundamentals  .NET Core fundamentals  \n",
       "0                         0                   ASP.NET                 ASP.NET  \n",
       "...                     ...                       ...                     ...  \n",
       "1067                      5                     Redis                   Redis  \n",
       "1067                      5                    Docker                  Docker  \n",
       "1067                      5                       AWS                     AWS  \n",
       "1067                      5                     CI/CD                   CI/CD  \n",
       "1067                      5  Testing with Jest/Enzyme       Testing with Jest  \n",
       "\n",
       "[12248 rows x 11 columns]"
      ]
     },
     "execution_count": 18,
     "metadata": {},
     "output_type": "execute_result"
    }
   ],
   "source": [
    "df_skills"
   ]
  },
  {
   "cell_type": "code",
   "execution_count": null,
   "id": "580151d7",
   "metadata": {},
   "outputs": [],
   "source": [
    "# Combine skills and their cluster labels\n",
    "df_clusters = pd.DataFrame({\n",
    "    \"Skill\": skills,\n",
    "    \"Cluster\": labels\n",
    "})\n",
    "\n",
    "# Group by cluster and aggregate skills\n",
    "cluster_table = (\n",
    "    df_clusters\n",
    "    .groupby(\"Cluster\")[\"Skill\"]\n",
    "    .apply(list)\n",
    "    .reset_index()\n",
    "    .sort_values(\"Cluster\")\n",
    ")\n",
    "\n",
    "# Optionally: show number of items per cluster\n",
    "cluster_table[\"n_skills\"] = cluster_table[\"Skill\"].apply(len)\n",
    "\n",
    "cluster_table.head(50)\n",
    "\n"
   ]
  },
  {
   "cell_type": "markdown",
   "id": "9755efe5",
   "metadata": {},
   "source": [
    "\n",
    "\n",
    "\n",
    "\n",
    "3️⃣ Distribución de categorías\n",
    "\n",
    "Número de registros por Job Category, Industry, Job Title.\n",
    "\n",
    "Visualización (barras o donut chart) de Tech vs Non-Tech.\n",
    "\n",
    "Conteo de descripciones por país o región si existe la columna.\n",
    "\n",
    "4️⃣ Longitud y estructura del texto\n",
    "\n",
    "Histograma de longitud de descripciones (len(text.split())).\n",
    "\n",
    "Detección de textos vacíos o extremadamente cortos/largos.\n",
    "\n",
    "Boxplot de longitud por categoría.\n",
    "\n",
    "5️⃣ Primer vistazo léxico\n",
    "\n",
    "Nube de palabras por categoría (sin limpieza profunda todavía).\n",
    "\n",
    "Top 30 palabras más frecuentes por tipo de rol.\n",
    "\n",
    "Distribución de longitud media de palabras y frases.\n",
    "\n",
    "6️⃣ Insights iniciales\n",
    "\n",
    "Diferencias lingüísticas básicas entre Tech y Non-Tech.\n",
    "\n",
    "Observaciones sobre calidad del dataset (ej. descripciones repetidas o incompletas).\n",
    "\n",
    "Recomendaciones para el notebook siguiente (02_cleaning.ipynb).\n",
    "\n",
    "7️⃣ Guardado de resultados\n",
    "\n",
    "Exportar dataset limpio sin duplicados a data/processed/exploration_base.csv.\n",
    "\n",
    "Guardar algunas métricas iniciales (ej. summary_stats.json)."
   ]
  }
 ],
 "metadata": {
  "kernelspec": {
   "display_name": "env",
   "language": "python",
   "name": "python3"
  },
  "language_info": {
   "codemirror_mode": {
    "name": "ipython",
    "version": 3
   },
   "file_extension": ".py",
   "mimetype": "text/x-python",
   "name": "python",
   "nbconvert_exporter": "python",
   "pygments_lexer": "ipython3",
   "version": "3.13.2"
  }
 },
 "nbformat": 4,
 "nbformat_minor": 5
}
