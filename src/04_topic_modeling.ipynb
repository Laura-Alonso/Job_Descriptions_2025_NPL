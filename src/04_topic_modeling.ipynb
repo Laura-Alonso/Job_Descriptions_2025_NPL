{
 "cells": [
  {
   "cell_type": "markdown",
   "id": "11b1b11c",
   "metadata": {},
   "source": [
    "# Topic modeling (LDA / BERTopic)"
   ]
  }
 ],
 "metadata": {
  "language_info": {
   "name": "python"
  }
 },
 "nbformat": 4,
 "nbformat_minor": 5
}
