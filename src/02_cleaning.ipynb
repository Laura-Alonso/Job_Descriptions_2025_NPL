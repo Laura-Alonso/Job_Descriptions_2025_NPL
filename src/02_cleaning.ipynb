{
 "cells": [
  {
   "cell_type": "markdown",
   "id": "c2185fad",
   "metadata": {},
   "source": [
    "# Text normalization and preprocessing\n",
    "Cleaning job descriptions: lowercasing, stopword removal, lemmatization. | spaCy, NLTK |\n",
    "Cleaning & Preprocessing | Tokenización, lematización, eliminación de stopwords, normalización. | `data/processed/descriptions_clean.csv` |"
   ]
  }
 ],
 "metadata": {
  "language_info": {
   "name": "python"
  }
 },
 "nbformat": 4,
 "nbformat_minor": 5
}
